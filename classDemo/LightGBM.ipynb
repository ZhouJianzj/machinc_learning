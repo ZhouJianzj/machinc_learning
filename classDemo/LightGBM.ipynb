{
 "cells": [
  {
   "cell_type": "code",
   "execution_count": 3,
   "metadata": {},
   "outputs": [],
   "source": [
    "from lightgbm import LGBMClassifier\n",
    "\n",
    "lgbm  = LGBMClassifier(  objective='multi:softmax',  # 多类别分类\n",
    "    num_class=3,  # 类别数量\n",
    "    max_depth=3,\n",
    "    learning_rate=0.1,\n",
    "    n_estimators=100,\n",
    "    subsample=0.8 ,#每棵树的样本采样比例。设置为小于 1 的值可以使模型更具有鲁棒性，防止过拟合。,\n",
    "    colsample_bytree=0.8, # 每棵树的特征采样比例。设置为小于 1 的值可以进一步防止过拟合)\n",
    "                         )"
   ]
  },
  {
   "cell_type": "code",
   "execution_count": null,
   "metadata": {},
   "outputs": [],
   "source": []
  }
 ],
 "metadata": {
  "kernelspec": {
   "display_name": "PyCharm (pythonBase)",
   "language": "python",
   "name": "pycharm-d6d2fd5a"
  },
  "language_info": {
   "codemirror_mode": {
    "name": "ipython",
    "version": 3
   },
   "file_extension": ".py",
   "mimetype": "text/x-python",
   "name": "python",
   "nbconvert_exporter": "python",
   "pygments_lexer": "ipython3",
   "version": "3.11.5"
  }
 },
 "nbformat": 4,
 "nbformat_minor": 1
}