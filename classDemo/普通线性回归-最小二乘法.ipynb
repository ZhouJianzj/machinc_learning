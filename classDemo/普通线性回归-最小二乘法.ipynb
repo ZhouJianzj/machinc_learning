{
 "cells": [
  {
   "cell_type": "code",
   "execution_count": 7,
   "outputs": [],
   "source": [
    "# 1. 导入数据集\n",
    "# 2. 数据集拆分\n",
    "# 3. 数据预处理\n",
    "# 4. 模型训练\n",
    "# 5. 模型评估\n",
    "# 6. 模型再训练（D）\n",
    "# 7. 保存模型"
   ],
   "metadata": {
    "collapsed": false,
    "pycharm": {
     "name": "#%%\n"
    }
   }
  },
  {
   "cell_type": "code",
   "execution_count": 8,
   "outputs": [],
   "source": [
    "from sklearn import  datasets\n"
   ],
   "metadata": {
    "collapsed": false,
    "pycharm": {
     "name": "#%%\n"
    }
   }
  },
  {
   "cell_type": "code",
   "execution_count": 9,
   "outputs": [
    {
     "name": "stderr",
     "output_type": "stream",
     "text": [
      "E:\\software\\anaconda3\\Lib\\site-packages\\sklearn\\datasets\\_openml.py:1002: FutureWarning: The default value of `parser` will change from `'liac-arff'` to `'auto'` in 1.4. You can set `parser='auto'` to silence this warning. Therefore, an `ImportError` will be raised from 1.4 if the dataset is dense and pandas is not installed. Note that the pandas parser may return different data types. See the Notes Section in fetch_openml's API doc for details.\n",
      "  warn(\n"
     ]
    },
    {
     "data": {
      "text/plain": "{'data':         CRIM    ZN  INDUS CHAS    NOX     RM   AGE     DIS RAD    TAX  \\\n 0    0.00632  18.0   2.31    0  0.538  6.575  65.2  4.0900   1  296.0   \n 1    0.02731   0.0   7.07    0  0.469  6.421  78.9  4.9671   2  242.0   \n 2    0.02729   0.0   7.07    0  0.469  7.185  61.1  4.9671   2  242.0   \n 3    0.03237   0.0   2.18    0  0.458  6.998  45.8  6.0622   3  222.0   \n 4    0.06905   0.0   2.18    0  0.458  7.147  54.2  6.0622   3  222.0   \n ..       ...   ...    ...  ...    ...    ...   ...     ...  ..    ...   \n 501  0.06263   0.0  11.93    0  0.573  6.593  69.1  2.4786   1  273.0   \n 502  0.04527   0.0  11.93    0  0.573  6.120  76.7  2.2875   1  273.0   \n 503  0.06076   0.0  11.93    0  0.573  6.976  91.0  2.1675   1  273.0   \n 504  0.10959   0.0  11.93    0  0.573  6.794  89.3  2.3889   1  273.0   \n 505  0.04741   0.0  11.93    0  0.573  6.030  80.8  2.5050   1  273.0   \n \n      PTRATIO       B  LSTAT  \n 0       15.3  396.90   4.98  \n 1       17.8  396.90   9.14  \n 2       17.8  392.83   4.03  \n 3       18.7  394.63   2.94  \n 4       18.7  396.90   5.33  \n ..       ...     ...    ...  \n 501     21.0  391.99   9.67  \n 502     21.0  396.90   9.08  \n 503     21.0  396.90   5.64  \n 504     21.0  393.45   6.48  \n 505     21.0  396.90   7.88  \n \n [506 rows x 13 columns],\n 'target': 0      24.0\n 1      21.6\n 2      34.7\n 3      33.4\n 4      36.2\n        ... \n 501    22.4\n 502    20.6\n 503    23.9\n 504    22.0\n 505    11.9\n Name: MEDV, Length: 506, dtype: float64,\n 'frame':         CRIM    ZN  INDUS CHAS    NOX     RM   AGE     DIS RAD    TAX  \\\n 0    0.00632  18.0   2.31    0  0.538  6.575  65.2  4.0900   1  296.0   \n 1    0.02731   0.0   7.07    0  0.469  6.421  78.9  4.9671   2  242.0   \n 2    0.02729   0.0   7.07    0  0.469  7.185  61.1  4.9671   2  242.0   \n 3    0.03237   0.0   2.18    0  0.458  6.998  45.8  6.0622   3  222.0   \n 4    0.06905   0.0   2.18    0  0.458  7.147  54.2  6.0622   3  222.0   \n ..       ...   ...    ...  ...    ...    ...   ...     ...  ..    ...   \n 501  0.06263   0.0  11.93    0  0.573  6.593  69.1  2.4786   1  273.0   \n 502  0.04527   0.0  11.93    0  0.573  6.120  76.7  2.2875   1  273.0   \n 503  0.06076   0.0  11.93    0  0.573  6.976  91.0  2.1675   1  273.0   \n 504  0.10959   0.0  11.93    0  0.573  6.794  89.3  2.3889   1  273.0   \n 505  0.04741   0.0  11.93    0  0.573  6.030  80.8  2.5050   1  273.0   \n \n      PTRATIO       B  LSTAT  MEDV  \n 0       15.3  396.90   4.98  24.0  \n 1       17.8  396.90   9.14  21.6  \n 2       17.8  392.83   4.03  34.7  \n 3       18.7  394.63   2.94  33.4  \n 4       18.7  396.90   5.33  36.2  \n ..       ...     ...    ...   ...  \n 501     21.0  391.99   9.67  22.4  \n 502     21.0  396.90   9.08  20.6  \n 503     21.0  396.90   5.64  23.9  \n 504     21.0  393.45   6.48  22.0  \n 505     21.0  396.90   7.88  11.9  \n \n [506 rows x 14 columns],\n 'categories': None,\n 'feature_names': ['CRIM',\n  'ZN',\n  'INDUS',\n  'CHAS',\n  'NOX',\n  'RM',\n  'AGE',\n  'DIS',\n  'RAD',\n  'TAX',\n  'PTRATIO',\n  'B',\n  'LSTAT'],\n 'target_names': ['MEDV'],\n 'DESCR': \"**Author**:   \\n**Source**: Unknown - Date unknown  \\n**Please cite**:   \\n\\nThe Boston house-price data of Harrison, D. and Rubinfeld, D.L. 'Hedonic\\nprices and the demand for clean air', J. Environ. Economics & Management,\\nvol.5, 81-102, 1978.   Used in Belsley, Kuh & Welsch, 'Regression diagnostics\\n...', Wiley, 1980.   N.B. Various transformations are used in the table on\\npages 244-261 of the latter.\\nVariables in order:\\nCRIM     per capita crime rate by town\\nZN       proportion of residential land zoned for lots over 25,000 sq.ft.\\nINDUS    proportion of non-retail business acres per town\\nCHAS     Charles River dummy variable (= 1 if tract bounds river; 0 otherwise)\\nNOX      nitric oxides concentration (parts per 10 million)\\nRM       average number of rooms per dwelling\\nAGE      proportion of owner-occupied units built prior to 1940\\nDIS      weighted distances to five Boston employment centres\\nRAD      index of accessibility to radial highways\\nTAX      full-value property-tax rate per $10,000\\nPTRATIO  pupil-teacher ratio by town\\nB        1000(Bk - 0.63)^2 where Bk is the proportion of blacks by town\\nLSTAT    % lower status of the population\\nMEDV     Median value of owner-occupied homes in $1000's\\n\\n\\nInformation about the dataset\\nCLASSTYPE: numeric\\nCLASSINDEX: last\\n\\nDownloaded from openml.org.\",\n 'details': {'id': '531',\n  'name': 'boston',\n  'version': '1',\n  'description_version': '1',\n  'format': 'ARFF',\n  'creator': ['D. and Rubinfeld', \"D.L. 'Hedonic\"],\n  'collection_date': '1978',\n  'upload_date': '2014-09-29T00:08:07',\n  'language': 'English',\n  'licence': 'Public',\n  'url': 'https://api.openml.org/data/v1/download/52643/boston.arff',\n  'parquet_url': 'https://openml1.win.tue.nl/datasets/0000/0531/dataset_531.pq',\n  'file_id': '52643',\n  'default_target_attribute': 'MEDV',\n  'tag': ['OpenML-Reg19', 'study_130'],\n  'visibility': 'public',\n  'minio_url': 'https://openml1.win.tue.nl/datasets/0000/0531/dataset_531.pq',\n  'status': 'active',\n  'processing_date': '2020-11-20 20:16:37',\n  'md5_checksum': 'cdd361fb886627eaa80c92f90d0610cc'},\n 'url': 'https://www.openml.org/d/531'}"
     },
     "execution_count": 9,
     "metadata": {},
     "output_type": "execute_result"
    }
   ],
   "source": [
    "boston = datasets.fetch_openml(\"boston\",version=1)\n",
    "boston"
   ],
   "metadata": {
    "collapsed": false,
    "pycharm": {
     "name": "#%%\n"
    }
   }
  },
  {
   "cell_type": "code",
   "execution_count": 10,
   "outputs": [
    {
     "data": {
      "text/plain": "        CRIM    ZN  INDUS CHAS    NOX     RM   AGE     DIS RAD    TAX  \\\n0    0.00632  18.0   2.31    0  0.538  6.575  65.2  4.0900   1  296.0   \n1    0.02731   0.0   7.07    0  0.469  6.421  78.9  4.9671   2  242.0   \n2    0.02729   0.0   7.07    0  0.469  7.185  61.1  4.9671   2  242.0   \n3    0.03237   0.0   2.18    0  0.458  6.998  45.8  6.0622   3  222.0   \n4    0.06905   0.0   2.18    0  0.458  7.147  54.2  6.0622   3  222.0   \n..       ...   ...    ...  ...    ...    ...   ...     ...  ..    ...   \n501  0.06263   0.0  11.93    0  0.573  6.593  69.1  2.4786   1  273.0   \n502  0.04527   0.0  11.93    0  0.573  6.120  76.7  2.2875   1  273.0   \n503  0.06076   0.0  11.93    0  0.573  6.976  91.0  2.1675   1  273.0   \n504  0.10959   0.0  11.93    0  0.573  6.794  89.3  2.3889   1  273.0   \n505  0.04741   0.0  11.93    0  0.573  6.030  80.8  2.5050   1  273.0   \n\n     PTRATIO       B  LSTAT  \n0       15.3  396.90   4.98  \n1       17.8  396.90   9.14  \n2       17.8  392.83   4.03  \n3       18.7  394.63   2.94  \n4       18.7  396.90   5.33  \n..       ...     ...    ...  \n501     21.0  391.99   9.67  \n502     21.0  396.90   9.08  \n503     21.0  396.90   5.64  \n504     21.0  393.45   6.48  \n505     21.0  396.90   7.88  \n\n[506 rows x 13 columns]",
      "text/html": "<div>\n<style scoped>\n    .dataframe tbody tr th:only-of-type {\n        vertical-align: middle;\n    }\n\n    .dataframe tbody tr th {\n        vertical-align: top;\n    }\n\n    .dataframe thead th {\n        text-align: right;\n    }\n</style>\n<table border=\"1\" class=\"dataframe\">\n  <thead>\n    <tr style=\"text-align: right;\">\n      <th></th>\n      <th>CRIM</th>\n      <th>ZN</th>\n      <th>INDUS</th>\n      <th>CHAS</th>\n      <th>NOX</th>\n      <th>RM</th>\n      <th>AGE</th>\n      <th>DIS</th>\n      <th>RAD</th>\n      <th>TAX</th>\n      <th>PTRATIO</th>\n      <th>B</th>\n      <th>LSTAT</th>\n    </tr>\n  </thead>\n  <tbody>\n    <tr>\n      <th>0</th>\n      <td>0.00632</td>\n      <td>18.0</td>\n      <td>2.31</td>\n      <td>0</td>\n      <td>0.538</td>\n      <td>6.575</td>\n      <td>65.2</td>\n      <td>4.0900</td>\n      <td>1</td>\n      <td>296.0</td>\n      <td>15.3</td>\n      <td>396.90</td>\n      <td>4.98</td>\n    </tr>\n    <tr>\n      <th>1</th>\n      <td>0.02731</td>\n      <td>0.0</td>\n      <td>7.07</td>\n      <td>0</td>\n      <td>0.469</td>\n      <td>6.421</td>\n      <td>78.9</td>\n      <td>4.9671</td>\n      <td>2</td>\n      <td>242.0</td>\n      <td>17.8</td>\n      <td>396.90</td>\n      <td>9.14</td>\n    </tr>\n    <tr>\n      <th>2</th>\n      <td>0.02729</td>\n      <td>0.0</td>\n      <td>7.07</td>\n      <td>0</td>\n      <td>0.469</td>\n      <td>7.185</td>\n      <td>61.1</td>\n      <td>4.9671</td>\n      <td>2</td>\n      <td>242.0</td>\n      <td>17.8</td>\n      <td>392.83</td>\n      <td>4.03</td>\n    </tr>\n    <tr>\n      <th>3</th>\n      <td>0.03237</td>\n      <td>0.0</td>\n      <td>2.18</td>\n      <td>0</td>\n      <td>0.458</td>\n      <td>6.998</td>\n      <td>45.8</td>\n      <td>6.0622</td>\n      <td>3</td>\n      <td>222.0</td>\n      <td>18.7</td>\n      <td>394.63</td>\n      <td>2.94</td>\n    </tr>\n    <tr>\n      <th>4</th>\n      <td>0.06905</td>\n      <td>0.0</td>\n      <td>2.18</td>\n      <td>0</td>\n      <td>0.458</td>\n      <td>7.147</td>\n      <td>54.2</td>\n      <td>6.0622</td>\n      <td>3</td>\n      <td>222.0</td>\n      <td>18.7</td>\n      <td>396.90</td>\n      <td>5.33</td>\n    </tr>\n    <tr>\n      <th>...</th>\n      <td>...</td>\n      <td>...</td>\n      <td>...</td>\n      <td>...</td>\n      <td>...</td>\n      <td>...</td>\n      <td>...</td>\n      <td>...</td>\n      <td>...</td>\n      <td>...</td>\n      <td>...</td>\n      <td>...</td>\n      <td>...</td>\n    </tr>\n    <tr>\n      <th>501</th>\n      <td>0.06263</td>\n      <td>0.0</td>\n      <td>11.93</td>\n      <td>0</td>\n      <td>0.573</td>\n      <td>6.593</td>\n      <td>69.1</td>\n      <td>2.4786</td>\n      <td>1</td>\n      <td>273.0</td>\n      <td>21.0</td>\n      <td>391.99</td>\n      <td>9.67</td>\n    </tr>\n    <tr>\n      <th>502</th>\n      <td>0.04527</td>\n      <td>0.0</td>\n      <td>11.93</td>\n      <td>0</td>\n      <td>0.573</td>\n      <td>6.120</td>\n      <td>76.7</td>\n      <td>2.2875</td>\n      <td>1</td>\n      <td>273.0</td>\n      <td>21.0</td>\n      <td>396.90</td>\n      <td>9.08</td>\n    </tr>\n    <tr>\n      <th>503</th>\n      <td>0.06076</td>\n      <td>0.0</td>\n      <td>11.93</td>\n      <td>0</td>\n      <td>0.573</td>\n      <td>6.976</td>\n      <td>91.0</td>\n      <td>2.1675</td>\n      <td>1</td>\n      <td>273.0</td>\n      <td>21.0</td>\n      <td>396.90</td>\n      <td>5.64</td>\n    </tr>\n    <tr>\n      <th>504</th>\n      <td>0.10959</td>\n      <td>0.0</td>\n      <td>11.93</td>\n      <td>0</td>\n      <td>0.573</td>\n      <td>6.794</td>\n      <td>89.3</td>\n      <td>2.3889</td>\n      <td>1</td>\n      <td>273.0</td>\n      <td>21.0</td>\n      <td>393.45</td>\n      <td>6.48</td>\n    </tr>\n    <tr>\n      <th>505</th>\n      <td>0.04741</td>\n      <td>0.0</td>\n      <td>11.93</td>\n      <td>0</td>\n      <td>0.573</td>\n      <td>6.030</td>\n      <td>80.8</td>\n      <td>2.5050</td>\n      <td>1</td>\n      <td>273.0</td>\n      <td>21.0</td>\n      <td>396.90</td>\n      <td>7.88</td>\n    </tr>\n  </tbody>\n</table>\n<p>506 rows × 13 columns</p>\n</div>"
     },
     "execution_count": 10,
     "metadata": {},
     "output_type": "execute_result"
    }
   ],
   "source": [
    "# 获取波士顿发房数据所有特征数据（feature/特征）\n",
    "boston.data"
   ],
   "metadata": {
    "collapsed": false,
    "pycharm": {
     "name": "#%%\n"
    }
   }
  },
  {
   "cell_type": "code",
   "execution_count": 11,
   "outputs": [
    {
     "data": {
      "text/plain": "0      24.0\n1      21.6\n2      34.7\n3      33.4\n4      36.2\n       ... \n501    22.4\n502    20.6\n503    23.9\n504    22.0\n505    11.9\nName: MEDV, Length: 506, dtype: float64"
     },
     "execution_count": 11,
     "metadata": {},
     "output_type": "execute_result"
    }
   ],
   "source": [
    "# 获取波士顿房价（label/标记/目标值）\n",
    "boston.target"
   ],
   "metadata": {
    "collapsed": false,
    "pycharm": {
     "name": "#%%\n"
    }
   }
  },
  {
   "cell_type": "code",
   "execution_count": 14,
   "outputs": [],
   "source": [
    "# 数据集拆分\n",
    "from sklearn.model_selection import train_test_split\n",
    "x_train, x_test, y_train, y_test = train_test_split(boston.data,boston.target,random_state=30,test_size=0.25)"
   ],
   "metadata": {
    "collapsed": false,
    "pycharm": {
     "name": "#%%\n"
    }
   }
  },
  {
   "cell_type": "code",
   "execution_count": 20,
   "outputs": [
    {
     "data": {
      "text/plain": "        CRIM    ZN  INDUS CHAS    NOX     RM    AGE     DIS RAD    TAX  \\\n142  3.32105   0.0  19.58    1  0.871  5.403  100.0  1.3216   5  403.0   \n10   0.22489  12.5   7.87    0  0.524  6.377   94.3  6.3467   5  311.0   \n393  8.64476   0.0  18.10    0  0.693  6.193   92.6  1.7912  24  666.0   \n162  1.83377   0.0  19.58    1  0.605  7.802   98.2  2.0407   5  403.0   \n363  4.22239   0.0  18.10    1  0.770  5.803   89.0  1.9047  24  666.0   \n..       ...   ...    ...  ...    ...    ...    ...     ...  ..    ...   \n500  0.22438   0.0   9.69    0  0.585  6.027   79.7  2.4982   6  391.0   \n301  0.03537  34.0   6.09    0  0.433  6.590   40.4  5.4917   7  329.0   \n429  9.33889   0.0  18.10    0  0.679  6.380   95.6  1.9682  24  666.0   \n421  7.02259   0.0  18.10    0  0.718  6.006   95.3  1.8746  24  666.0   \n293  0.08265   0.0  13.92    0  0.437  6.127   18.4  5.5027   4  289.0   \n\n     PTRATIO       B  LSTAT  \n142     14.7  396.90  26.82  \n10      15.2  392.52  20.45  \n393     20.2  396.90  15.17  \n162     14.7  389.61   1.92  \n363     20.2  353.04  14.64  \n..       ...     ...    ...  \n500     19.2  396.90  14.33  \n301     16.1  395.75   9.50  \n429     20.2   60.72  24.08  \n421     20.2  319.98  15.70  \n293     16.0  396.90   8.58  \n\n[379 rows x 13 columns]",
      "text/html": "<div>\n<style scoped>\n    .dataframe tbody tr th:only-of-type {\n        vertical-align: middle;\n    }\n\n    .dataframe tbody tr th {\n        vertical-align: top;\n    }\n\n    .dataframe thead th {\n        text-align: right;\n    }\n</style>\n<table border=\"1\" class=\"dataframe\">\n  <thead>\n    <tr style=\"text-align: right;\">\n      <th></th>\n      <th>CRIM</th>\n      <th>ZN</th>\n      <th>INDUS</th>\n      <th>CHAS</th>\n      <th>NOX</th>\n      <th>RM</th>\n      <th>AGE</th>\n      <th>DIS</th>\n      <th>RAD</th>\n      <th>TAX</th>\n      <th>PTRATIO</th>\n      <th>B</th>\n      <th>LSTAT</th>\n    </tr>\n  </thead>\n  <tbody>\n    <tr>\n      <th>142</th>\n      <td>3.32105</td>\n      <td>0.0</td>\n      <td>19.58</td>\n      <td>1</td>\n      <td>0.871</td>\n      <td>5.403</td>\n      <td>100.0</td>\n      <td>1.3216</td>\n      <td>5</td>\n      <td>403.0</td>\n      <td>14.7</td>\n      <td>396.90</td>\n      <td>26.82</td>\n    </tr>\n    <tr>\n      <th>10</th>\n      <td>0.22489</td>\n      <td>12.5</td>\n      <td>7.87</td>\n      <td>0</td>\n      <td>0.524</td>\n      <td>6.377</td>\n      <td>94.3</td>\n      <td>6.3467</td>\n      <td>5</td>\n      <td>311.0</td>\n      <td>15.2</td>\n      <td>392.52</td>\n      <td>20.45</td>\n    </tr>\n    <tr>\n      <th>393</th>\n      <td>8.64476</td>\n      <td>0.0</td>\n      <td>18.10</td>\n      <td>0</td>\n      <td>0.693</td>\n      <td>6.193</td>\n      <td>92.6</td>\n      <td>1.7912</td>\n      <td>24</td>\n      <td>666.0</td>\n      <td>20.2</td>\n      <td>396.90</td>\n      <td>15.17</td>\n    </tr>\n    <tr>\n      <th>162</th>\n      <td>1.83377</td>\n      <td>0.0</td>\n      <td>19.58</td>\n      <td>1</td>\n      <td>0.605</td>\n      <td>7.802</td>\n      <td>98.2</td>\n      <td>2.0407</td>\n      <td>5</td>\n      <td>403.0</td>\n      <td>14.7</td>\n      <td>389.61</td>\n      <td>1.92</td>\n    </tr>\n    <tr>\n      <th>363</th>\n      <td>4.22239</td>\n      <td>0.0</td>\n      <td>18.10</td>\n      <td>1</td>\n      <td>0.770</td>\n      <td>5.803</td>\n      <td>89.0</td>\n      <td>1.9047</td>\n      <td>24</td>\n      <td>666.0</td>\n      <td>20.2</td>\n      <td>353.04</td>\n      <td>14.64</td>\n    </tr>\n    <tr>\n      <th>...</th>\n      <td>...</td>\n      <td>...</td>\n      <td>...</td>\n      <td>...</td>\n      <td>...</td>\n      <td>...</td>\n      <td>...</td>\n      <td>...</td>\n      <td>...</td>\n      <td>...</td>\n      <td>...</td>\n      <td>...</td>\n      <td>...</td>\n    </tr>\n    <tr>\n      <th>500</th>\n      <td>0.22438</td>\n      <td>0.0</td>\n      <td>9.69</td>\n      <td>0</td>\n      <td>0.585</td>\n      <td>6.027</td>\n      <td>79.7</td>\n      <td>2.4982</td>\n      <td>6</td>\n      <td>391.0</td>\n      <td>19.2</td>\n      <td>396.90</td>\n      <td>14.33</td>\n    </tr>\n    <tr>\n      <th>301</th>\n      <td>0.03537</td>\n      <td>34.0</td>\n      <td>6.09</td>\n      <td>0</td>\n      <td>0.433</td>\n      <td>6.590</td>\n      <td>40.4</td>\n      <td>5.4917</td>\n      <td>7</td>\n      <td>329.0</td>\n      <td>16.1</td>\n      <td>395.75</td>\n      <td>9.50</td>\n    </tr>\n    <tr>\n      <th>429</th>\n      <td>9.33889</td>\n      <td>0.0</td>\n      <td>18.10</td>\n      <td>0</td>\n      <td>0.679</td>\n      <td>6.380</td>\n      <td>95.6</td>\n      <td>1.9682</td>\n      <td>24</td>\n      <td>666.0</td>\n      <td>20.2</td>\n      <td>60.72</td>\n      <td>24.08</td>\n    </tr>\n    <tr>\n      <th>421</th>\n      <td>7.02259</td>\n      <td>0.0</td>\n      <td>18.10</td>\n      <td>0</td>\n      <td>0.718</td>\n      <td>6.006</td>\n      <td>95.3</td>\n      <td>1.8746</td>\n      <td>24</td>\n      <td>666.0</td>\n      <td>20.2</td>\n      <td>319.98</td>\n      <td>15.70</td>\n    </tr>\n    <tr>\n      <th>293</th>\n      <td>0.08265</td>\n      <td>0.0</td>\n      <td>13.92</td>\n      <td>0</td>\n      <td>0.437</td>\n      <td>6.127</td>\n      <td>18.4</td>\n      <td>5.5027</td>\n      <td>4</td>\n      <td>289.0</td>\n      <td>16.0</td>\n      <td>396.90</td>\n      <td>8.58</td>\n    </tr>\n  </tbody>\n</table>\n<p>379 rows × 13 columns</p>\n</div>"
     },
     "execution_count": 20,
     "metadata": {},
     "output_type": "execute_result"
    }
   ],
   "source": [
    "# 训练集X\n",
    "x_train"
   ],
   "metadata": {
    "collapsed": false,
    "pycharm": {
     "name": "#%%\n"
    }
   }
  },
  {
   "cell_type": "code",
   "execution_count": 17,
   "outputs": [
    {
     "data": {
      "text/plain": "142    13.4\n10     15.0\n393    13.8\n162    50.0\n363    16.8\n       ... \n500    16.8\n301    22.0\n429     9.5\n421    14.2\n293    23.9\nName: MEDV, Length: 379, dtype: float64"
     },
     "execution_count": 17,
     "metadata": {},
     "output_type": "execute_result"
    }
   ],
   "source": [
    "# 训练集Y\n",
    "y_train"
   ],
   "metadata": {
    "collapsed": false,
    "pycharm": {
     "name": "#%%\n"
    }
   }
  },
  {
   "cell_type": "code",
   "execution_count": 18,
   "outputs": [
    {
     "data": {
      "text/plain": "         CRIM   ZN  INDUS CHAS    NOX     RM    AGE     DIS RAD    TAX  \\\n21    0.85204  0.0   8.14    0  0.538  5.965   89.2  4.0123   4  307.0   \n440  22.05110  0.0  18.10    0  0.740  5.818   92.4  1.8662  24  666.0   \n103   0.21161  0.0   8.56    0  0.520  6.137   87.4  2.7147   5  384.0   \n178   0.06642  0.0   4.05    0  0.510  6.860   74.4  2.9153   5  296.0   \n22    1.23247  0.0   8.14    0  0.538  6.142   91.7  3.9769   4  307.0   \n..        ...  ...    ...  ...    ...    ...    ...     ...  ..    ...   \n154   1.41385  0.0  19.58    1  0.871  6.129   96.0  1.7494   5  403.0   \n415  18.08460  0.0  18.10    0  0.679  6.434  100.0  1.8347  24  666.0   \n129   0.88125  0.0  21.89    0  0.624  5.637   94.7  1.9799   4  437.0   \n345   0.03113  0.0   4.39    0  0.442  6.014   48.5  8.0136   3  352.0   \n229   0.44178  0.0   6.20    0  0.504  6.552   21.4  3.3751   8  307.0   \n\n     PTRATIO       B  LSTAT  \n21      21.0  392.53  13.83  \n440     20.2  391.45  22.11  \n103     20.9  394.47  13.44  \n178     16.6  391.27   6.92  \n22      21.0  396.90  18.72  \n..       ...     ...    ...  \n154     14.7  321.02  15.12  \n415     20.2   27.25  29.05  \n129     21.2  396.90  18.34  \n345     18.8  385.64  10.53  \n229     17.4  380.34   3.76  \n\n[127 rows x 13 columns]",
      "text/html": "<div>\n<style scoped>\n    .dataframe tbody tr th:only-of-type {\n        vertical-align: middle;\n    }\n\n    .dataframe tbody tr th {\n        vertical-align: top;\n    }\n\n    .dataframe thead th {\n        text-align: right;\n    }\n</style>\n<table border=\"1\" class=\"dataframe\">\n  <thead>\n    <tr style=\"text-align: right;\">\n      <th></th>\n      <th>CRIM</th>\n      <th>ZN</th>\n      <th>INDUS</th>\n      <th>CHAS</th>\n      <th>NOX</th>\n      <th>RM</th>\n      <th>AGE</th>\n      <th>DIS</th>\n      <th>RAD</th>\n      <th>TAX</th>\n      <th>PTRATIO</th>\n      <th>B</th>\n      <th>LSTAT</th>\n    </tr>\n  </thead>\n  <tbody>\n    <tr>\n      <th>21</th>\n      <td>0.85204</td>\n      <td>0.0</td>\n      <td>8.14</td>\n      <td>0</td>\n      <td>0.538</td>\n      <td>5.965</td>\n      <td>89.2</td>\n      <td>4.0123</td>\n      <td>4</td>\n      <td>307.0</td>\n      <td>21.0</td>\n      <td>392.53</td>\n      <td>13.83</td>\n    </tr>\n    <tr>\n      <th>440</th>\n      <td>22.05110</td>\n      <td>0.0</td>\n      <td>18.10</td>\n      <td>0</td>\n      <td>0.740</td>\n      <td>5.818</td>\n      <td>92.4</td>\n      <td>1.8662</td>\n      <td>24</td>\n      <td>666.0</td>\n      <td>20.2</td>\n      <td>391.45</td>\n      <td>22.11</td>\n    </tr>\n    <tr>\n      <th>103</th>\n      <td>0.21161</td>\n      <td>0.0</td>\n      <td>8.56</td>\n      <td>0</td>\n      <td>0.520</td>\n      <td>6.137</td>\n      <td>87.4</td>\n      <td>2.7147</td>\n      <td>5</td>\n      <td>384.0</td>\n      <td>20.9</td>\n      <td>394.47</td>\n      <td>13.44</td>\n    </tr>\n    <tr>\n      <th>178</th>\n      <td>0.06642</td>\n      <td>0.0</td>\n      <td>4.05</td>\n      <td>0</td>\n      <td>0.510</td>\n      <td>6.860</td>\n      <td>74.4</td>\n      <td>2.9153</td>\n      <td>5</td>\n      <td>296.0</td>\n      <td>16.6</td>\n      <td>391.27</td>\n      <td>6.92</td>\n    </tr>\n    <tr>\n      <th>22</th>\n      <td>1.23247</td>\n      <td>0.0</td>\n      <td>8.14</td>\n      <td>0</td>\n      <td>0.538</td>\n      <td>6.142</td>\n      <td>91.7</td>\n      <td>3.9769</td>\n      <td>4</td>\n      <td>307.0</td>\n      <td>21.0</td>\n      <td>396.90</td>\n      <td>18.72</td>\n    </tr>\n    <tr>\n      <th>...</th>\n      <td>...</td>\n      <td>...</td>\n      <td>...</td>\n      <td>...</td>\n      <td>...</td>\n      <td>...</td>\n      <td>...</td>\n      <td>...</td>\n      <td>...</td>\n      <td>...</td>\n      <td>...</td>\n      <td>...</td>\n      <td>...</td>\n    </tr>\n    <tr>\n      <th>154</th>\n      <td>1.41385</td>\n      <td>0.0</td>\n      <td>19.58</td>\n      <td>1</td>\n      <td>0.871</td>\n      <td>6.129</td>\n      <td>96.0</td>\n      <td>1.7494</td>\n      <td>5</td>\n      <td>403.0</td>\n      <td>14.7</td>\n      <td>321.02</td>\n      <td>15.12</td>\n    </tr>\n    <tr>\n      <th>415</th>\n      <td>18.08460</td>\n      <td>0.0</td>\n      <td>18.10</td>\n      <td>0</td>\n      <td>0.679</td>\n      <td>6.434</td>\n      <td>100.0</td>\n      <td>1.8347</td>\n      <td>24</td>\n      <td>666.0</td>\n      <td>20.2</td>\n      <td>27.25</td>\n      <td>29.05</td>\n    </tr>\n    <tr>\n      <th>129</th>\n      <td>0.88125</td>\n      <td>0.0</td>\n      <td>21.89</td>\n      <td>0</td>\n      <td>0.624</td>\n      <td>5.637</td>\n      <td>94.7</td>\n      <td>1.9799</td>\n      <td>4</td>\n      <td>437.0</td>\n      <td>21.2</td>\n      <td>396.90</td>\n      <td>18.34</td>\n    </tr>\n    <tr>\n      <th>345</th>\n      <td>0.03113</td>\n      <td>0.0</td>\n      <td>4.39</td>\n      <td>0</td>\n      <td>0.442</td>\n      <td>6.014</td>\n      <td>48.5</td>\n      <td>8.0136</td>\n      <td>3</td>\n      <td>352.0</td>\n      <td>18.8</td>\n      <td>385.64</td>\n      <td>10.53</td>\n    </tr>\n    <tr>\n      <th>229</th>\n      <td>0.44178</td>\n      <td>0.0</td>\n      <td>6.20</td>\n      <td>0</td>\n      <td>0.504</td>\n      <td>6.552</td>\n      <td>21.4</td>\n      <td>3.3751</td>\n      <td>8</td>\n      <td>307.0</td>\n      <td>17.4</td>\n      <td>380.34</td>\n      <td>3.76</td>\n    </tr>\n  </tbody>\n</table>\n<p>127 rows × 13 columns</p>\n</div>"
     },
     "execution_count": 18,
     "metadata": {},
     "output_type": "execute_result"
    }
   ],
   "source": [
    "# 测试集X\n",
    "x_test"
   ],
   "metadata": {
    "collapsed": false,
    "pycharm": {
     "name": "#%%\n"
    }
   }
  },
  {
   "cell_type": "code",
   "execution_count": 21,
   "outputs": [
    {
     "data": {
      "text/plain": "21     19.6\n440    10.5\n103    19.3\n178    29.9\n22     15.2\n       ... \n154    17.0\n415     7.2\n129    14.3\n345    17.5\n229    31.5\nName: MEDV, Length: 127, dtype: float64"
     },
     "execution_count": 21,
     "metadata": {},
     "output_type": "execute_result"
    }
   ],
   "source": [
    "# 测试集Y\n",
    "y_test\n"
   ],
   "metadata": {
    "collapsed": false,
    "pycharm": {
     "name": "#%%\n"
    }
   }
  },
  {
   "cell_type": "code",
   "execution_count": 22,
   "outputs": [],
   "source": [
    "# 数据集处理 标准化\n",
    "from sklearn.preprocessing import StandardScaler\n",
    "standardScaler = StandardScaler()\n",
    "#给训练集数据标准化，各个feature之间具有可比性，均值为0，标准差为1，不改变数据分布\n",
    "x_train = standardScaler.fit_transform(x_train)\n",
    "# 为了保证和训练集一直使用同一个均值和标准差\n",
    "x_test = standardScaler.transform(x_test)"
   ],
   "metadata": {
    "collapsed": false,
    "pycharm": {
     "name": "#%%\n"
    }
   }
  },
  {
   "cell_type": "code",
   "execution_count": 23,
   "outputs": [
    {
     "data": {
      "text/plain": "array([[-0.05305115, -0.50304418,  1.25597173, ..., -1.68868921,\n         0.43283552,  1.99405386],\n       [-0.38128159,  0.01741265, -0.46087874, ..., -1.46141179,\n         0.38516603,  1.1039294 ],\n       [ 0.51132655, -0.50304418,  1.03898294, ...,  0.81136239,\n         0.43283552,  0.36611822],\n       ...,\n       [ 0.58491274, -0.50304418,  1.03898294, ...,  0.81136239,\n        -3.22596145,  1.61117458],\n       [ 0.3393569 , -0.50304418,  1.03898294, ...,  0.81136239,\n        -0.40431917,  0.44017881],\n       [-0.39636075, -0.50304418,  0.42613624, ..., -1.09776792,\n         0.43283552, -0.55474838]])"
     },
     "execution_count": 23,
     "metadata": {},
     "output_type": "execute_result"
    }
   ],
   "source": [
    "x_train"
   ],
   "metadata": {
    "collapsed": false,
    "pycharm": {
     "name": "#%%\n"
    }
   }
  },
  {
   "cell_type": "code",
   "execution_count": 24,
   "outputs": [
    {
     "data": {
      "text/plain": "array([-1.082296  ,  0.97155737, -0.0195896 ,  0.88135617, -2.07174553,\n        2.71411016,  0.12780908, -3.19081251,  2.83026855, -2.22845784,\n       -2.1059358 ,  0.58517276, -3.98854495])"
     },
     "execution_count": 24,
     "metadata": {},
     "output_type": "execute_result"
    }
   ],
   "source": [
    "from sklearn.linear_model import LinearRegression\n",
    "lr =  LinearRegression()\n",
    "lr.fit(x_train,y_train)\n",
    "#得出W\n",
    "lr.coef_"
   ],
   "metadata": {
    "collapsed": false,
    "pycharm": {
     "name": "#%%\n"
    }
   }
  },
  {
   "cell_type": "code",
   "execution_count": 25,
   "outputs": [
    {
     "data": {
      "text/plain": "22.653562005277042"
     },
     "execution_count": 25,
     "metadata": {},
     "output_type": "execute_result"
    }
   ],
   "source": [
    "#得出偏置 b\n",
    "lr.intercept_"
   ],
   "metadata": {
    "collapsed": false,
    "pycharm": {
     "name": "#%%\n"
    }
   }
  },
  {
   "cell_type": "code",
   "execution_count": 27,
   "outputs": [
    {
     "data": {
      "text/plain": "0.7417563197118319"
     },
     "execution_count": 27,
     "metadata": {},
     "output_type": "execute_result"
    }
   ],
   "source": [
    "lr.score(x_test,y_test)\n",
    "\n"
   ],
   "metadata": {
    "collapsed": false,
    "pycharm": {
     "name": "#%%\n"
    }
   }
  }
 ],
 "metadata": {
  "kernelspec": {
   "display_name": "Python 3",
   "language": "python",
   "name": "python3"
  },
  "language_info": {
   "codemirror_mode": {
    "name": "ipython",
    "version": 2
   },
   "file_extension": ".py",
   "mimetype": "text/x-python",
   "name": "python",
   "nbconvert_exporter": "python",
   "pygments_lexer": "ipython2",
   "version": "2.7.6"
  }
 },
 "nbformat": 4,
 "nbformat_minor": 0
}