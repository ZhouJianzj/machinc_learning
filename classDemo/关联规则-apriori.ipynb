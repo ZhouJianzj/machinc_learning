{
 "cells": [
  {
   "cell_type": "code",
   "execution_count": 17,
   "metadata": {
    "collapsed": true
   },
   "outputs": [],
   "source": [
    "from mlxtend.frequent_patterns import apriori,association_rules\n",
    "import  pandas as pd\n"
   ]
  },
  {
   "cell_type": "code",
   "execution_count": 18,
   "outputs": [
    {
     "data": {
      "text/plain": "   交易编号          商品\n0     1      牛奶, 面包\n1     2      面包, 黄油\n2     3      牛奶, 黄油\n3     4      牛奶, 面包\n4     5  牛奶, 面包, 黄油",
      "text/html": "<div>\n<style scoped>\n    .dataframe tbody tr th:only-of-type {\n        vertical-align: middle;\n    }\n\n    .dataframe tbody tr th {\n        vertical-align: top;\n    }\n\n    .dataframe thead th {\n        text-align: right;\n    }\n</style>\n<table border=\"1\" class=\"dataframe\">\n  <thead>\n    <tr style=\"text-align: right;\">\n      <th></th>\n      <th>交易编号</th>\n      <th>商品</th>\n    </tr>\n  </thead>\n  <tbody>\n    <tr>\n      <th>0</th>\n      <td>1</td>\n      <td>牛奶, 面包</td>\n    </tr>\n    <tr>\n      <th>1</th>\n      <td>2</td>\n      <td>面包, 黄油</td>\n    </tr>\n    <tr>\n      <th>2</th>\n      <td>3</td>\n      <td>牛奶, 黄油</td>\n    </tr>\n    <tr>\n      <th>3</th>\n      <td>4</td>\n      <td>牛奶, 面包</td>\n    </tr>\n    <tr>\n      <th>4</th>\n      <td>5</td>\n      <td>牛奶, 面包, 黄油</td>\n    </tr>\n  </tbody>\n</table>\n</div>"
     },
     "execution_count": 18,
     "metadata": {},
     "output_type": "execute_result"
    }
   ],
   "source": [
    "#dirt\n",
    "data = {\n",
    "    \"交易编号\":[1,2,3,4,5],\n",
    "    \"商品\": ['牛奶, 面包', '面包, 黄油', '牛奶, 黄油', '牛奶, 面包', '牛奶, 面包, 黄油']\n",
    "}\n",
    "df = pd.DataFrame(data)\n",
    "df"
   ],
   "metadata": {
    "collapsed": false,
    "pycharm": {
     "name": "#%%\n"
    }
   }
  },
  {
   "cell_type": "code",
   "execution_count": 19,
   "outputs": [
    {
     "data": {
      "text/plain": "   牛奶  面包  黄油\n0   1   1   0\n1   0   1   1\n2   1   0   1\n3   1   1   0\n4   1   1   1",
      "text/html": "<div>\n<style scoped>\n    .dataframe tbody tr th:only-of-type {\n        vertical-align: middle;\n    }\n\n    .dataframe tbody tr th {\n        vertical-align: top;\n    }\n\n    .dataframe thead th {\n        text-align: right;\n    }\n</style>\n<table border=\"1\" class=\"dataframe\">\n  <thead>\n    <tr style=\"text-align: right;\">\n      <th></th>\n      <th>牛奶</th>\n      <th>面包</th>\n      <th>黄油</th>\n    </tr>\n  </thead>\n  <tbody>\n    <tr>\n      <th>0</th>\n      <td>1</td>\n      <td>1</td>\n      <td>0</td>\n    </tr>\n    <tr>\n      <th>1</th>\n      <td>0</td>\n      <td>1</td>\n      <td>1</td>\n    </tr>\n    <tr>\n      <th>2</th>\n      <td>1</td>\n      <td>0</td>\n      <td>1</td>\n    </tr>\n    <tr>\n      <th>3</th>\n      <td>1</td>\n      <td>1</td>\n      <td>0</td>\n    </tr>\n    <tr>\n      <th>4</th>\n      <td>1</td>\n      <td>1</td>\n      <td>1</td>\n    </tr>\n  </tbody>\n</table>\n</div>"
     },
     "execution_count": 19,
     "metadata": {},
     "output_type": "execute_result"
    }
   ],
   "source": [
    "encode_df = df[\"商品\"].str.get_dummies(\", \")\n",
    "encode_df"
   ],
   "metadata": {
    "collapsed": false,
    "pycharm": {
     "name": "#%%\n"
    }
   }
  },
  {
   "cell_type": "code",
   "execution_count": 22,
   "outputs": [
    {
     "name": "stderr",
     "output_type": "stream",
     "text": [
      "E:\\software\\anaconda3\\Lib\\site-packages\\mlxtend\\frequent_patterns\\fpcommon.py:109: DeprecationWarning: DataFrames with non-bool types result in worse computationalperformance and their support might be discontinued in the future.Please use a DataFrame with bool type\n",
      "  warnings.warn(\n"
     ]
    },
    {
     "data": {
      "text/plain": "   support      itemsets\n0      0.8          (牛奶)\n1      0.8          (面包)\n2      0.6          (黄油)\n3      0.6      (牛奶, 面包)\n4      0.4      (牛奶, 黄油)\n5      0.4      (黄油, 面包)\n6      0.2  (牛奶, 黄油, 面包)",
      "text/html": "<div>\n<style scoped>\n    .dataframe tbody tr th:only-of-type {\n        vertical-align: middle;\n    }\n\n    .dataframe tbody tr th {\n        vertical-align: top;\n    }\n\n    .dataframe thead th {\n        text-align: right;\n    }\n</style>\n<table border=\"1\" class=\"dataframe\">\n  <thead>\n    <tr style=\"text-align: right;\">\n      <th></th>\n      <th>support</th>\n      <th>itemsets</th>\n    </tr>\n  </thead>\n  <tbody>\n    <tr>\n      <th>0</th>\n      <td>0.8</td>\n      <td>(牛奶)</td>\n    </tr>\n    <tr>\n      <th>1</th>\n      <td>0.8</td>\n      <td>(面包)</td>\n    </tr>\n    <tr>\n      <th>2</th>\n      <td>0.6</td>\n      <td>(黄油)</td>\n    </tr>\n    <tr>\n      <th>3</th>\n      <td>0.6</td>\n      <td>(牛奶, 面包)</td>\n    </tr>\n    <tr>\n      <th>4</th>\n      <td>0.4</td>\n      <td>(牛奶, 黄油)</td>\n    </tr>\n    <tr>\n      <th>5</th>\n      <td>0.4</td>\n      <td>(黄油, 面包)</td>\n    </tr>\n    <tr>\n      <th>6</th>\n      <td>0.2</td>\n      <td>(牛奶, 黄油, 面包)</td>\n    </tr>\n  </tbody>\n</table>\n</div>"
     },
     "execution_count": 22,
     "metadata": {},
     "output_type": "execute_result"
    }
   ],
   "source": [
    "freq_df = apriori(encode_df,min_support=0.2,use_colnames=True)\n",
    "freq_df"
   ],
   "metadata": {
    "collapsed": false,
    "pycharm": {
     "name": "#%%\n"
    }
   }
  },
  {
   "cell_type": "code",
   "execution_count": 23,
   "outputs": [
    {
     "data": {
      "text/plain": "  antecedents consequents  antecedent support  consequent support  support  \\\n0        (牛奶)        (面包)                 0.8                 0.8      0.6   \n1        (面包)        (牛奶)                 0.8                 0.8      0.6   \n2        (牛奶)        (黄油)                 0.8                 0.6      0.4   \n3        (黄油)        (牛奶)                 0.6                 0.8      0.4   \n4        (黄油)        (面包)                 0.6                 0.8      0.4   \n5        (面包)        (黄油)                 0.8                 0.6      0.4   \n6    (牛奶, 黄油)        (面包)                 0.4                 0.8      0.2   \n7    (黄油, 面包)        (牛奶)                 0.4                 0.8      0.2   \n\n   confidence      lift  leverage  conviction  zhangs_metric  \n0    0.750000  0.937500     -0.04         0.8      -0.250000  \n1    0.750000  0.937500     -0.04         0.8      -0.250000  \n2    0.500000  0.833333     -0.08         0.8      -0.500000  \n3    0.666667  0.833333     -0.08         0.6      -0.333333  \n4    0.666667  0.833333     -0.08         0.6      -0.333333  \n5    0.500000  0.833333     -0.08         0.8      -0.500000  \n6    0.500000  0.625000     -0.12         0.4      -0.500000  \n7    0.500000  0.625000     -0.12         0.4      -0.500000  ",
      "text/html": "<div>\n<style scoped>\n    .dataframe tbody tr th:only-of-type {\n        vertical-align: middle;\n    }\n\n    .dataframe tbody tr th {\n        vertical-align: top;\n    }\n\n    .dataframe thead th {\n        text-align: right;\n    }\n</style>\n<table border=\"1\" class=\"dataframe\">\n  <thead>\n    <tr style=\"text-align: right;\">\n      <th></th>\n      <th>antecedents</th>\n      <th>consequents</th>\n      <th>antecedent support</th>\n      <th>consequent support</th>\n      <th>support</th>\n      <th>confidence</th>\n      <th>lift</th>\n      <th>leverage</th>\n      <th>conviction</th>\n      <th>zhangs_metric</th>\n    </tr>\n  </thead>\n  <tbody>\n    <tr>\n      <th>0</th>\n      <td>(牛奶)</td>\n      <td>(面包)</td>\n      <td>0.8</td>\n      <td>0.8</td>\n      <td>0.6</td>\n      <td>0.750000</td>\n      <td>0.937500</td>\n      <td>-0.04</td>\n      <td>0.8</td>\n      <td>-0.250000</td>\n    </tr>\n    <tr>\n      <th>1</th>\n      <td>(面包)</td>\n      <td>(牛奶)</td>\n      <td>0.8</td>\n      <td>0.8</td>\n      <td>0.6</td>\n      <td>0.750000</td>\n      <td>0.937500</td>\n      <td>-0.04</td>\n      <td>0.8</td>\n      <td>-0.250000</td>\n    </tr>\n    <tr>\n      <th>2</th>\n      <td>(牛奶)</td>\n      <td>(黄油)</td>\n      <td>0.8</td>\n      <td>0.6</td>\n      <td>0.4</td>\n      <td>0.500000</td>\n      <td>0.833333</td>\n      <td>-0.08</td>\n      <td>0.8</td>\n      <td>-0.500000</td>\n    </tr>\n    <tr>\n      <th>3</th>\n      <td>(黄油)</td>\n      <td>(牛奶)</td>\n      <td>0.6</td>\n      <td>0.8</td>\n      <td>0.4</td>\n      <td>0.666667</td>\n      <td>0.833333</td>\n      <td>-0.08</td>\n      <td>0.6</td>\n      <td>-0.333333</td>\n    </tr>\n    <tr>\n      <th>4</th>\n      <td>(黄油)</td>\n      <td>(面包)</td>\n      <td>0.6</td>\n      <td>0.8</td>\n      <td>0.4</td>\n      <td>0.666667</td>\n      <td>0.833333</td>\n      <td>-0.08</td>\n      <td>0.6</td>\n      <td>-0.333333</td>\n    </tr>\n    <tr>\n      <th>5</th>\n      <td>(面包)</td>\n      <td>(黄油)</td>\n      <td>0.8</td>\n      <td>0.6</td>\n      <td>0.4</td>\n      <td>0.500000</td>\n      <td>0.833333</td>\n      <td>-0.08</td>\n      <td>0.8</td>\n      <td>-0.500000</td>\n    </tr>\n    <tr>\n      <th>6</th>\n      <td>(牛奶, 黄油)</td>\n      <td>(面包)</td>\n      <td>0.4</td>\n      <td>0.8</td>\n      <td>0.2</td>\n      <td>0.500000</td>\n      <td>0.625000</td>\n      <td>-0.12</td>\n      <td>0.4</td>\n      <td>-0.500000</td>\n    </tr>\n    <tr>\n      <th>7</th>\n      <td>(黄油, 面包)</td>\n      <td>(牛奶)</td>\n      <td>0.4</td>\n      <td>0.8</td>\n      <td>0.2</td>\n      <td>0.500000</td>\n      <td>0.625000</td>\n      <td>-0.12</td>\n      <td>0.4</td>\n      <td>-0.500000</td>\n    </tr>\n  </tbody>\n</table>\n</div>"
     },
     "execution_count": 23,
     "metadata": {},
     "output_type": "execute_result"
    }
   ],
   "source": [
    "rules = association_rules(freq_df,metric=\"confidence\",min_threshold=0.5)\n",
    "rules"
   ],
   "metadata": {
    "collapsed": false,
    "pycharm": {
     "name": "#%%\n"
    }
   }
  },
  {
   "cell_type": "code",
   "execution_count": 21,
   "outputs": [],
   "source": [],
   "metadata": {
    "collapsed": false,
    "pycharm": {
     "name": "#%%\n"
    }
   }
  }
 ],
 "metadata": {
  "kernelspec": {
   "name": "pycharm-d6d2fd5a",
   "language": "python",
   "display_name": "PyCharm (pythonBase)"
  },
  "language_info": {
   "codemirror_mode": {
    "name": "ipython",
    "version": 2
   },
   "file_extension": ".py",
   "mimetype": "text/x-python",
   "name": "python",
   "nbconvert_exporter": "python",
   "pygments_lexer": "ipython2",
   "version": "2.7.6"
  }
 },
 "nbformat": 4,
 "nbformat_minor": 0
}