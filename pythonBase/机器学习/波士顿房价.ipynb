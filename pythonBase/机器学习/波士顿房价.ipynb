{
 "cells": [
  {
   "cell_type": "code",
   "execution_count": 39,
   "metadata": {
    "collapsed": true
   },
   "outputs": [
    {
     "name": "stderr",
     "output_type": "stream",
     "text": [
      "E:\\software\\anaconda3\\Lib\\site-packages\\sklearn\\datasets\\_openml.py:1002: FutureWarning: The default value of `parser` will change from `'liac-arff'` to `'auto'` in 1.4. You can set `parser='auto'` to silence this warning. Therefore, an `ImportError` will be raised from 1.4 if the dataset is dense and pandas is not installed. Note that the pandas parser may return different data types. See the Notes Section in fetch_openml's API doc for details.\n",
      "  warn(\n"
     ]
    },
    {
     "data": {
      "text/plain": "{'data':         CRIM    ZN  INDUS CHAS    NOX     RM   AGE     DIS RAD    TAX  \\\n 0    0.00632  18.0   2.31    0  0.538  6.575  65.2  4.0900   1  296.0   \n 1    0.02731   0.0   7.07    0  0.469  6.421  78.9  4.9671   2  242.0   \n 2    0.02729   0.0   7.07    0  0.469  7.185  61.1  4.9671   2  242.0   \n 3    0.03237   0.0   2.18    0  0.458  6.998  45.8  6.0622   3  222.0   \n 4    0.06905   0.0   2.18    0  0.458  7.147  54.2  6.0622   3  222.0   \n ..       ...   ...    ...  ...    ...    ...   ...     ...  ..    ...   \n 501  0.06263   0.0  11.93    0  0.573  6.593  69.1  2.4786   1  273.0   \n 502  0.04527   0.0  11.93    0  0.573  6.120  76.7  2.2875   1  273.0   \n 503  0.06076   0.0  11.93    0  0.573  6.976  91.0  2.1675   1  273.0   \n 504  0.10959   0.0  11.93    0  0.573  6.794  89.3  2.3889   1  273.0   \n 505  0.04741   0.0  11.93    0  0.573  6.030  80.8  2.5050   1  273.0   \n \n      PTRATIO       B  LSTAT  \n 0       15.3  396.90   4.98  \n 1       17.8  396.90   9.14  \n 2       17.8  392.83   4.03  \n 3       18.7  394.63   2.94  \n 4       18.7  396.90   5.33  \n ..       ...     ...    ...  \n 501     21.0  391.99   9.67  \n 502     21.0  396.90   9.08  \n 503     21.0  396.90   5.64  \n 504     21.0  393.45   6.48  \n 505     21.0  396.90   7.88  \n \n [506 rows x 13 columns],\n 'target': 0      24.0\n 1      21.6\n 2      34.7\n 3      33.4\n 4      36.2\n        ... \n 501    22.4\n 502    20.6\n 503    23.9\n 504    22.0\n 505    11.9\n Name: MEDV, Length: 506, dtype: float64,\n 'frame':         CRIM    ZN  INDUS CHAS    NOX     RM   AGE     DIS RAD    TAX  \\\n 0    0.00632  18.0   2.31    0  0.538  6.575  65.2  4.0900   1  296.0   \n 1    0.02731   0.0   7.07    0  0.469  6.421  78.9  4.9671   2  242.0   \n 2    0.02729   0.0   7.07    0  0.469  7.185  61.1  4.9671   2  242.0   \n 3    0.03237   0.0   2.18    0  0.458  6.998  45.8  6.0622   3  222.0   \n 4    0.06905   0.0   2.18    0  0.458  7.147  54.2  6.0622   3  222.0   \n ..       ...   ...    ...  ...    ...    ...   ...     ...  ..    ...   \n 501  0.06263   0.0  11.93    0  0.573  6.593  69.1  2.4786   1  273.0   \n 502  0.04527   0.0  11.93    0  0.573  6.120  76.7  2.2875   1  273.0   \n 503  0.06076   0.0  11.93    0  0.573  6.976  91.0  2.1675   1  273.0   \n 504  0.10959   0.0  11.93    0  0.573  6.794  89.3  2.3889   1  273.0   \n 505  0.04741   0.0  11.93    0  0.573  6.030  80.8  2.5050   1  273.0   \n \n      PTRATIO       B  LSTAT  MEDV  \n 0       15.3  396.90   4.98  24.0  \n 1       17.8  396.90   9.14  21.6  \n 2       17.8  392.83   4.03  34.7  \n 3       18.7  394.63   2.94  33.4  \n 4       18.7  396.90   5.33  36.2  \n ..       ...     ...    ...   ...  \n 501     21.0  391.99   9.67  22.4  \n 502     21.0  396.90   9.08  20.6  \n 503     21.0  396.90   5.64  23.9  \n 504     21.0  393.45   6.48  22.0  \n 505     21.0  396.90   7.88  11.9  \n \n [506 rows x 14 columns],\n 'categories': None,\n 'feature_names': ['CRIM',\n  'ZN',\n  'INDUS',\n  'CHAS',\n  'NOX',\n  'RM',\n  'AGE',\n  'DIS',\n  'RAD',\n  'TAX',\n  'PTRATIO',\n  'B',\n  'LSTAT'],\n 'target_names': ['MEDV'],\n 'DESCR': \"**Author**:   \\n**Source**: Unknown - Date unknown  \\n**Please cite**:   \\n\\nThe Boston house-price data of Harrison, D. and Rubinfeld, D.L. 'Hedonic\\nprices and the demand for clean air', J. Environ. Economics & Management,\\nvol.5, 81-102, 1978.   Used in Belsley, Kuh & Welsch, 'Regression diagnostics\\n...', Wiley, 1980.   N.B. Various transformations are used in the table on\\npages 244-261 of the latter.\\nVariables in order:\\nCRIM     per capita crime rate by town\\nZN       proportion of residential land zoned for lots over 25,000 sq.ft.\\nINDUS    proportion of non-retail business acres per town\\nCHAS     Charles River dummy variable (= 1 if tract bounds river; 0 otherwise)\\nNOX      nitric oxides concentration (parts per 10 million)\\nRM       average number of rooms per dwelling\\nAGE      proportion of owner-occupied units built prior to 1940\\nDIS      weighted distances to five Boston employment centres\\nRAD      index of accessibility to radial highways\\nTAX      full-value property-tax rate per $10,000\\nPTRATIO  pupil-teacher ratio by town\\nB        1000(Bk - 0.63)^2 where Bk is the proportion of blacks by town\\nLSTAT    % lower status of the population\\nMEDV     Median value of owner-occupied homes in $1000's\\n\\n\\nInformation about the dataset\\nCLASSTYPE: numeric\\nCLASSINDEX: last\\n\\nDownloaded from openml.org.\",\n 'details': {'id': '531',\n  'name': 'boston',\n  'version': '1',\n  'description_version': '1',\n  'format': 'ARFF',\n  'creator': ['D. and Rubinfeld', \"D.L. 'Hedonic\"],\n  'collection_date': '1978',\n  'upload_date': '2014-09-29T00:08:07',\n  'language': 'English',\n  'licence': 'Public',\n  'url': 'https://api.openml.org/data/v1/download/52643/boston.arff',\n  'parquet_url': 'https://openml1.win.tue.nl/datasets/0000/0531/dataset_531.pq',\n  'file_id': '52643',\n  'default_target_attribute': 'MEDV',\n  'tag': ['OpenML-Reg19', 'study_130'],\n  'visibility': 'public',\n  'minio_url': 'https://openml1.win.tue.nl/datasets/0000/0531/dataset_531.pq',\n  'status': 'active',\n  'processing_date': '2020-11-20 20:16:37',\n  'md5_checksum': 'cdd361fb886627eaa80c92f90d0610cc'},\n 'url': 'https://www.openml.org/d/531'}"
     },
     "execution_count": 39,
     "metadata": {},
     "output_type": "execute_result"
    }
   ],
   "source": [
    "\"\"\"\n",
    "线性回归优化之正规方程\n",
    "\n",
    "\"\"\"\n",
    "from sklearn import datasets, preprocessing, model_selection\n",
    "\n",
    "# 加载波士顿房价数据\n",
    "boston = datasets.fetch_openml(name=\"boston\", version=1)\n",
    "# 数据拆分\n",
    "boston"
   ]
  },
  {
   "cell_type": "code",
   "execution_count": 40,
   "outputs": [
    {
     "data": {
      "text/plain": "        CRIM    ZN  INDUS CHAS    NOX     RM   AGE     DIS RAD    TAX  \\\n0    0.00632  18.0   2.31    0  0.538  6.575  65.2  4.0900   1  296.0   \n1    0.02731   0.0   7.07    0  0.469  6.421  78.9  4.9671   2  242.0   \n2    0.02729   0.0   7.07    0  0.469  7.185  61.1  4.9671   2  242.0   \n3    0.03237   0.0   2.18    0  0.458  6.998  45.8  6.0622   3  222.0   \n4    0.06905   0.0   2.18    0  0.458  7.147  54.2  6.0622   3  222.0   \n..       ...   ...    ...  ...    ...    ...   ...     ...  ..    ...   \n501  0.06263   0.0  11.93    0  0.573  6.593  69.1  2.4786   1  273.0   \n502  0.04527   0.0  11.93    0  0.573  6.120  76.7  2.2875   1  273.0   \n503  0.06076   0.0  11.93    0  0.573  6.976  91.0  2.1675   1  273.0   \n504  0.10959   0.0  11.93    0  0.573  6.794  89.3  2.3889   1  273.0   \n505  0.04741   0.0  11.93    0  0.573  6.030  80.8  2.5050   1  273.0   \n\n     PTRATIO       B  LSTAT  \n0       15.3  396.90   4.98  \n1       17.8  396.90   9.14  \n2       17.8  392.83   4.03  \n3       18.7  394.63   2.94  \n4       18.7  396.90   5.33  \n..       ...     ...    ...  \n501     21.0  391.99   9.67  \n502     21.0  396.90   9.08  \n503     21.0  396.90   5.64  \n504     21.0  393.45   6.48  \n505     21.0  396.90   7.88  \n\n[506 rows x 13 columns]",
      "text/html": "<div>\n<style scoped>\n    .dataframe tbody tr th:only-of-type {\n        vertical-align: middle;\n    }\n\n    .dataframe tbody tr th {\n        vertical-align: top;\n    }\n\n    .dataframe thead th {\n        text-align: right;\n    }\n</style>\n<table border=\"1\" class=\"dataframe\">\n  <thead>\n    <tr style=\"text-align: right;\">\n      <th></th>\n      <th>CRIM</th>\n      <th>ZN</th>\n      <th>INDUS</th>\n      <th>CHAS</th>\n      <th>NOX</th>\n      <th>RM</th>\n      <th>AGE</th>\n      <th>DIS</th>\n      <th>RAD</th>\n      <th>TAX</th>\n      <th>PTRATIO</th>\n      <th>B</th>\n      <th>LSTAT</th>\n    </tr>\n  </thead>\n  <tbody>\n    <tr>\n      <th>0</th>\n      <td>0.00632</td>\n      <td>18.0</td>\n      <td>2.31</td>\n      <td>0</td>\n      <td>0.538</td>\n      <td>6.575</td>\n      <td>65.2</td>\n      <td>4.0900</td>\n      <td>1</td>\n      <td>296.0</td>\n      <td>15.3</td>\n      <td>396.90</td>\n      <td>4.98</td>\n    </tr>\n    <tr>\n      <th>1</th>\n      <td>0.02731</td>\n      <td>0.0</td>\n      <td>7.07</td>\n      <td>0</td>\n      <td>0.469</td>\n      <td>6.421</td>\n      <td>78.9</td>\n      <td>4.9671</td>\n      <td>2</td>\n      <td>242.0</td>\n      <td>17.8</td>\n      <td>396.90</td>\n      <td>9.14</td>\n    </tr>\n    <tr>\n      <th>2</th>\n      <td>0.02729</td>\n      <td>0.0</td>\n      <td>7.07</td>\n      <td>0</td>\n      <td>0.469</td>\n      <td>7.185</td>\n      <td>61.1</td>\n      <td>4.9671</td>\n      <td>2</td>\n      <td>242.0</td>\n      <td>17.8</td>\n      <td>392.83</td>\n      <td>4.03</td>\n    </tr>\n    <tr>\n      <th>3</th>\n      <td>0.03237</td>\n      <td>0.0</td>\n      <td>2.18</td>\n      <td>0</td>\n      <td>0.458</td>\n      <td>6.998</td>\n      <td>45.8</td>\n      <td>6.0622</td>\n      <td>3</td>\n      <td>222.0</td>\n      <td>18.7</td>\n      <td>394.63</td>\n      <td>2.94</td>\n    </tr>\n    <tr>\n      <th>4</th>\n      <td>0.06905</td>\n      <td>0.0</td>\n      <td>2.18</td>\n      <td>0</td>\n      <td>0.458</td>\n      <td>7.147</td>\n      <td>54.2</td>\n      <td>6.0622</td>\n      <td>3</td>\n      <td>222.0</td>\n      <td>18.7</td>\n      <td>396.90</td>\n      <td>5.33</td>\n    </tr>\n    <tr>\n      <th>...</th>\n      <td>...</td>\n      <td>...</td>\n      <td>...</td>\n      <td>...</td>\n      <td>...</td>\n      <td>...</td>\n      <td>...</td>\n      <td>...</td>\n      <td>...</td>\n      <td>...</td>\n      <td>...</td>\n      <td>...</td>\n      <td>...</td>\n    </tr>\n    <tr>\n      <th>501</th>\n      <td>0.06263</td>\n      <td>0.0</td>\n      <td>11.93</td>\n      <td>0</td>\n      <td>0.573</td>\n      <td>6.593</td>\n      <td>69.1</td>\n      <td>2.4786</td>\n      <td>1</td>\n      <td>273.0</td>\n      <td>21.0</td>\n      <td>391.99</td>\n      <td>9.67</td>\n    </tr>\n    <tr>\n      <th>502</th>\n      <td>0.04527</td>\n      <td>0.0</td>\n      <td>11.93</td>\n      <td>0</td>\n      <td>0.573</td>\n      <td>6.120</td>\n      <td>76.7</td>\n      <td>2.2875</td>\n      <td>1</td>\n      <td>273.0</td>\n      <td>21.0</td>\n      <td>396.90</td>\n      <td>9.08</td>\n    </tr>\n    <tr>\n      <th>503</th>\n      <td>0.06076</td>\n      <td>0.0</td>\n      <td>11.93</td>\n      <td>0</td>\n      <td>0.573</td>\n      <td>6.976</td>\n      <td>91.0</td>\n      <td>2.1675</td>\n      <td>1</td>\n      <td>273.0</td>\n      <td>21.0</td>\n      <td>396.90</td>\n      <td>5.64</td>\n    </tr>\n    <tr>\n      <th>504</th>\n      <td>0.10959</td>\n      <td>0.0</td>\n      <td>11.93</td>\n      <td>0</td>\n      <td>0.573</td>\n      <td>6.794</td>\n      <td>89.3</td>\n      <td>2.3889</td>\n      <td>1</td>\n      <td>273.0</td>\n      <td>21.0</td>\n      <td>393.45</td>\n      <td>6.48</td>\n    </tr>\n    <tr>\n      <th>505</th>\n      <td>0.04741</td>\n      <td>0.0</td>\n      <td>11.93</td>\n      <td>0</td>\n      <td>0.573</td>\n      <td>6.030</td>\n      <td>80.8</td>\n      <td>2.5050</td>\n      <td>1</td>\n      <td>273.0</td>\n      <td>21.0</td>\n      <td>396.90</td>\n      <td>7.88</td>\n    </tr>\n  </tbody>\n</table>\n<p>506 rows × 13 columns</p>\n</div>"
     },
     "execution_count": 40,
     "metadata": {},
     "output_type": "execute_result"
    }
   ],
   "source": [
    "boston.data"
   ],
   "metadata": {
    "collapsed": false,
    "pycharm": {
     "name": "#%%\n"
    }
   }
  },
  {
   "cell_type": "code",
   "execution_count": 41,
   "outputs": [
    {
     "data": {
      "text/plain": "0      24.0\n1      21.6\n2      34.7\n3      33.4\n4      36.2\n       ... \n501    22.4\n502    20.6\n503    23.9\n504    22.0\n505    11.9\nName: MEDV, Length: 506, dtype: float64"
     },
     "execution_count": 41,
     "metadata": {},
     "output_type": "execute_result"
    }
   ],
   "source": [
    "boston.target"
   ],
   "metadata": {
    "collapsed": false,
    "pycharm": {
     "name": "#%%\n"
    }
   }
  },
  {
   "cell_type": "code",
   "execution_count": 42,
   "outputs": [],
   "source": [
    "x_train,x_test,y_train,y_test = model_selection.train_test_split(boston.data,boston.target)\n",
    "# 特征工程-数据标准化\n",
    "standard = preprocessing.StandardScaler()\n",
    "x_train = standard.fit_transform(x_train)\n",
    "# y_train = standard.fit_transform(y_train)"
   ],
   "metadata": {
    "collapsed": false,
    "pycharm": {
     "name": "#%%\n"
    }
   }
  },
  {
   "cell_type": "code",
   "execution_count": 43,
   "outputs": [
    {
     "name": "stdout",
     "output_type": "stream",
     "text": [
      "回归系数Wn------> [-0.8372771   0.953649   -0.03229581  0.69941506 -1.84640631  3.12289314\n",
      " -0.42376988 -2.95930163  2.37985226 -2.15962738 -1.93663044  0.69780877\n",
      " -2.95138037]\n",
      "偏置量b------> 22.411873350923475\n"
     ]
    }
   ],
   "source": [
    "# 模型训练----正规方程优化\n",
    "from sklearn.linear_model import LinearRegression\n",
    "# fit_intercept:偏置量b\n",
    "lr = LinearRegression(fit_intercept=True)\n",
    "lr.fit(x_train,y_train)\n",
    "print(\"回归系数Wn------>\",lr.coef_)\n",
    "print(\"偏置量b------>\",lr.intercept_)\n",
    "# 模型评估\n"
   ],
   "metadata": {
    "collapsed": false,
    "pycharm": {
     "name": "#%%\n"
    }
   }
  }
 ],
 "metadata": {
  "kernelspec": {
   "name": "pycharm-d6d2fd5a",
   "language": "python",
   "display_name": "PyCharm (pythonBase)"
  },
  "language_info": {
   "codemirror_mode": {
    "name": "ipython",
    "version": 2
   },
   "file_extension": ".py",
   "mimetype": "text/x-python",
   "name": "python",
   "nbconvert_exporter": "python",
   "pygments_lexer": "ipython2",
   "version": "2.7.6"
  }
 },
 "nbformat": 4,
 "nbformat_minor": 0
}