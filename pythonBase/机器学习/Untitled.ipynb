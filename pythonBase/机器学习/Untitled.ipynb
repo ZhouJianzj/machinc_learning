{
 "cells": [
  {
   "cell_type": "code",
   "execution_count": 1,
   "id": "f1c3c810-89a8-495d-817c-dd599eb32175",
   "metadata": {},
   "outputs": [],
   "source": [
    "import pandas as pd\n",
    "from sklearn.decomposition import PCA"
   ]
  },
  {
   "cell_type": "code",
   "execution_count": 2,
   "id": "7c5b6e03-213b-45a7-8ab5-fa2d143951b6",
   "metadata": {},
   "outputs": [],
   "source": [
    "products = pd.read_csv(\"C:/Users/29983/Desktop/Python3天快速入门机器学项目资料/机器学xiday1资料/02-代码/instacart/products.csv\")\n",
    "order_products = pd.read_csv(\"C:/Users/29983/Desktop/Python3天快速入门机器学项目资料/机器学xiday1资料/02-代码/instacart/order_products__prior.csv\")\n",
    "orders = pd.read_csv(\"C:/Users/29983/Desktop/Python3天快速入门机器学项目资料/机器学xiday1资料/02-代码/instacart/orders.csv\")\n",
    "aisles = pd.read_csv(\"C:/Users/29983/Desktop/Python3天快速入门机器学项目资料/机器学xiday1资料/02-代码/instacart/aisles.csv\")"
   ]
  },
  {
   "cell_type": "code",
   "execution_count": 3,
   "id": "175baf20-2845-405e-9d2e-191bc55590ca",
   "metadata": {},
   "outputs": [],
   "source": [
    "# 2、合并表，将user_id和aisle放在一张表上\n",
    "# 1）合并orders和order_products on=order_id tab1:order_id, product_id, user_id\n",
    "tab1 = pd.merge(orders, order_products, on=[\"order_id\", \"order_id\"])\n",
    "# 2）合并tab1和products on=product_id tab2:aisle_id\n",
    "tab2 = pd.merge(tab1, products, on=[\"product_id\", \"product_id\"])\n",
    "# 3）合并tab2和aisles on=aisle_id tab3:user_id, aisle\n",
    "tab3 = pd.merge(tab2, aisles, on=[\"aisle_id\", \"aisle_id\"])\n"
   ]
  },
  {
   "cell_type": "code",
   "execution_count": 9,
   "id": "f4cad7df-60ef-4073-98ca-6037ddfe05d1",
   "metadata": {},
   "outputs": [],
   "source": [
    "table = pd.crosstab(tab3[\"user_id\"], tab3[\"aisle\"])"
   ]
  },
  {
   "cell_type": "code",
   "execution_count": 17,
   "id": "2067f364-3e9a-465e-9750-38b36eb5d6f6",
   "metadata": {},
   "outputs": [
    {
     "data": {
      "text/plain": [
       "(1000, 100)"
      ]
     },
     "execution_count": 17,
     "metadata": {},
     "output_type": "execute_result"
    }
   ],
   "source": [
    "# 4、主成分分析的方法进行降维\n",
    "# 1）实例化一个转换器类PCA\n",
    "transfer = PCA(n_components=100)\n",
    "# 2）fit_transform\n",
    "data = transfer.fit_transform(table[:1000])\n",
    "\n",
    "data.shape"
   ]
  },
  {
   "cell_type": "code",
   "execution_count": null,
   "id": "93e5ad12-4dd5-4826-b941-683e76300d62",
   "metadata": {},
   "outputs": [],
   "source": []
  },
  {
   "cell_type": "code",
   "execution_count": null,
   "outputs": [],
   "source": [],
   "metadata": {
    "collapsed": false,
    "pycharm": {
     "name": "#%%\n"
    }
   }
  }
 ],
 "metadata": {
  "kernelspec": {
   "display_name": "Python 3 (ipykernel)",
   "language": "python",
   "name": "python3"
  },
  "language_info": {
   "codemirror_mode": {
    "name": "ipython",
    "version": 3
   },
   "file_extension": ".py",
   "mimetype": "text/x-python",
   "name": "python",
   "nbconvert_exporter": "python",
   "pygments_lexer": "ipython3",
   "version": "3.12.1"
  }
 },
 "nbformat": 4,
 "nbformat_minor": 5
}