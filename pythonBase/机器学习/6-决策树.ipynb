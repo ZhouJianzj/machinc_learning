{
 "cells": [
  {
   "cell_type": "code",
   "execution_count": 6,
   "metadata": {
    "collapsed": true
   },
   "outputs": [],
   "source": [
    "# iris数据集导入\n",
    "# 训练集测试集拆分\n",
    "# 决策树计算\n",
    "# 模型评估\n",
    "from sklearn import datasets\n",
    "from sklearn import model_selection\n",
    "from sklearn import tree\n",
    "def demo_decision_iris():\n",
    "    data = datasets.load_iris()\n",
    "    x_train,x_test,y_train,y_test = model_selection.train_test_split(data.data,data.target)\n",
    "    mode = tree.DecisionTreeClassifier(criterion='entropy')\n",
    "    mode.fit(x_train,y_train)\n",
    "    print(f'模型预测：{y_test == mode.predict(x_test)}\\n模型得分：{mode.score(x_test, y_test)}')\n",
    "\n",
    "    #还可以使用graphViz对决策数计算结果进行可视化\n",
    "    tree.export_graphviz(mode,out_file='iris_decision.dot',feature_names=data.feature_names)\n",
    "    print(data.feature_names)"
   ]
  },
  {
   "cell_type": "code",
   "execution_count": 7,
   "metadata": {
    "pycharm": {
     "name": "#%%\n"
    }
   },
   "outputs": [
    {
     "name": "stdout",
     "output_type": "stream",
     "text": [
      "模型预测：[ True  True  True  True  True  True  True  True  True  True  True  True\n",
      "  True  True  True  True  True  True  True  True  True False  True  True\n",
      "  True  True  True  True  True  True  True  True  True  True  True  True\n",
      "  True  True]\n",
      "模型得分：0.9736842105263158\n",
      "['sepal length (cm)', 'sepal width (cm)', 'petal length (cm)', 'petal width (cm)']\n"
     ]
    }
   ],
   "source": [
    "demo_decision_iris()"
   ]
  }
 ],
 "metadata": {
  "kernelspec": {
   "name": "pycharm-d6d2fd5a",
   "language": "python",
   "display_name": "PyCharm (pythonBase)"
  },
  "language_info": {
   "codemirror_mode": {
    "name": "ipython",
    "version": 3
   },
   "file_extension": ".py",
   "mimetype": "text/x-python",
   "name": "python",
   "nbconvert_exporter": "python",
   "pygments_lexer": "ipython3",
   "version": "3.11.5"
  }
 },
 "nbformat": 4,
 "nbformat_minor": 1
}