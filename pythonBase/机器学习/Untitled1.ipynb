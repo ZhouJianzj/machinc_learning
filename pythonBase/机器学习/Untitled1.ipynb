{
 "cells": [
  {
   "cell_type": "code",
   "execution_count": null,
   "id": "36ce5d4f-58ea-4fd6-bda6-c72cc5603829",
   "metadata": {},
   "outputs": [],
   "source": []
  },
  {
   "cell_type": "code",
   "execution_count": 3,
   "id": "de77e137-6f27-4467-9b00-37a0db6998cf",
   "metadata": {},
   "outputs": [
    {
     "ename": "NameError",
     "evalue": "name 'train_test_split' is not defined",
     "output_type": "error",
     "traceback": [
      "\u001b[1;31m---------------------------------------------------------------------------\u001b[0m",
      "\u001b[1;31mNameError\u001b[0m                                 Traceback (most recent call last)",
      "Cell \u001b[1;32mIn[3], line 31\u001b[0m\n\u001b[0;32m     28\u001b[0m data_target \u001b[38;5;241m=\u001b[39m data[\u001b[38;5;124m'\u001b[39m\u001b[38;5;124mplace_id\u001b[39m\u001b[38;5;124m'\u001b[39m]\n\u001b[0;32m     29\u001b[0m data_feature \u001b[38;5;241m=\u001b[39m data\u001b[38;5;241m.\u001b[39mdrop([\u001b[38;5;124m'\u001b[39m\u001b[38;5;124mplace_id\u001b[39m\u001b[38;5;124m'\u001b[39m, \u001b[38;5;124m'\u001b[39m\u001b[38;5;124mrow_id\u001b[39m\u001b[38;5;124m'\u001b[39m], axis\u001b[38;5;241m=\u001b[39m\u001b[38;5;241m1\u001b[39m)\n\u001b[1;32m---> 31\u001b[0m x_train, x_test, y_train, y_test \u001b[38;5;241m=\u001b[39m \u001b[43mtrain_test_split\u001b[49m(data_feature, data_target, test_size\u001b[38;5;241m=\u001b[39m\u001b[38;5;241m0.3\u001b[39m)\n",
      "\u001b[1;31mNameError\u001b[0m: name 'train_test_split' is not defined"
     ]
    }
   ],
   "source": [
    "# 获取数据集，数据集为csv文件需要使用到pandas\n",
    "# 数据集数据太多了我们选取指定范围的数据\n",
    "# 数据集的一些特征无效我们将其转化或者去除\n",
    "\n",
    "import pandas as pd\n",
    "import sklearn.preprocessing\n",
    "import sklearn.neighbors\n",
    "import sklearn.neighbors\n",
    "\n",
    "train_data = pd.read_csv(\"C:/Users/29983/Desktop/Python3天快速入门机器学项目资料/机器学xiday2资料/02-代码/FBlocation/train.csv\")\n",
    "\n",
    "\n",
    "train_data = train_data.query(\"x > 1.0 & x < 1.25 & y > 2.5 & y < 2.75\")\n",
    "\n",
    "\n",
    "# 转化或者丢弃特征\n",
    "train_data.drop(\"time\", axis=1)\n",
    "\n",
    "# 统计地点出现的频率\n",
    "place_data = train_data.groupby('place_id').count()\n",
    "\n",
    "# 去除只出现一次的地点\n",
    "trip_place_data = place_data[place_data.row_id > 1].reset_index()\n",
    "\n",
    "# 取出符合要求的数据\n",
    "data = train_data[train_data['place_id'].isin(trip_place_data.place_id)]\n",
    "\n",
    "# 取出目标值\n",
    "data_target = data['place_id']\n",
    "data_feature = data.drop(['place_id', 'row_id'], axis=1)\n",
    "\n",
    "x_train, x_test, y_train, y_test = train_test_split(data_feature, data_target, test_size=0.3)\n"
   ]
  },
  {
   "cell_type": "code",
   "execution_count": 2,
   "id": "d0e82176-641e-48eb-8174-58b894a11752",
   "metadata": {},
   "outputs": [
    {
     "name": "stderr",
     "output_type": "stream",
     "text": [
      "E:\\workspace\\pythonSpace\\pythonBase\\venv\\Lib\\site-packages\\sklearn\\model_selection\\_split.py:737: UserWarning: The least populated class in y has only 2 members, which is less than n_splits=5.\n",
      "  warnings.warn(\n"
     ]
    },
    {
     "ename": "AttributeError",
     "evalue": "'DataFrame' object has no attribute 'data'",
     "output_type": "error",
     "traceback": [
      "\u001b[1;31m---------------------------------------------------------------------------\u001b[0m",
      "\u001b[1;31mAttributeError\u001b[0m                            Traceback (most recent call last)",
      "Cell \u001b[1;32mIn[2], line 7\u001b[0m\n\u001b[0;32m      5\u001b[0m estimate \u001b[38;5;241m=\u001b[39m sklearn\u001b[38;5;241m.\u001b[39mmodel_selection\u001b[38;5;241m.\u001b[39mGridSearchCV(estimate, param_grid\u001b[38;5;241m=\u001b[39m{\u001b[38;5;124m'\u001b[39m\u001b[38;5;124mn_neighbors\u001b[39m\u001b[38;5;124m'\u001b[39m: [\u001b[38;5;241m1\u001b[39m, \u001b[38;5;241m2\u001b[39m, \u001b[38;5;241m3\u001b[39m, \u001b[38;5;241m4\u001b[39m, \u001b[38;5;241m5\u001b[39m]}, cv\u001b[38;5;241m=\u001b[39m\u001b[38;5;241m5\u001b[39m)\n\u001b[0;32m      6\u001b[0m estimate\u001b[38;5;241m.\u001b[39mfit(train_feature, train_target)\n\u001b[1;32m----> 7\u001b[0m \u001b[38;5;28mprint\u001b[39m(estimate\u001b[38;5;241m.\u001b[39mscore(\u001b[43mtest_data\u001b[49m\u001b[38;5;241;43m.\u001b[39;49m\u001b[43mdata\u001b[49m, test_data\u001b[38;5;241m.\u001b[39mtarget))\n",
      "File \u001b[1;32mE:\\workspace\\pythonSpace\\pythonBase\\venv\\Lib\\site-packages\\pandas\\core\\generic.py:6204\u001b[0m, in \u001b[0;36mNDFrame.__getattr__\u001b[1;34m(self, name)\u001b[0m\n\u001b[0;32m   6197\u001b[0m \u001b[38;5;28;01mif\u001b[39;00m (\n\u001b[0;32m   6198\u001b[0m     name \u001b[38;5;129;01mnot\u001b[39;00m \u001b[38;5;129;01min\u001b[39;00m \u001b[38;5;28mself\u001b[39m\u001b[38;5;241m.\u001b[39m_internal_names_set\n\u001b[0;32m   6199\u001b[0m     \u001b[38;5;129;01mand\u001b[39;00m name \u001b[38;5;129;01mnot\u001b[39;00m \u001b[38;5;129;01min\u001b[39;00m \u001b[38;5;28mself\u001b[39m\u001b[38;5;241m.\u001b[39m_metadata\n\u001b[0;32m   6200\u001b[0m     \u001b[38;5;129;01mand\u001b[39;00m name \u001b[38;5;129;01mnot\u001b[39;00m \u001b[38;5;129;01min\u001b[39;00m \u001b[38;5;28mself\u001b[39m\u001b[38;5;241m.\u001b[39m_accessors\n\u001b[0;32m   6201\u001b[0m     \u001b[38;5;129;01mand\u001b[39;00m \u001b[38;5;28mself\u001b[39m\u001b[38;5;241m.\u001b[39m_info_axis\u001b[38;5;241m.\u001b[39m_can_hold_identifiers_and_holds_name(name)\n\u001b[0;32m   6202\u001b[0m ):\n\u001b[0;32m   6203\u001b[0m     \u001b[38;5;28;01mreturn\u001b[39;00m \u001b[38;5;28mself\u001b[39m[name]\n\u001b[1;32m-> 6204\u001b[0m \u001b[38;5;28;01mreturn\u001b[39;00m \u001b[38;5;28;43mobject\u001b[39;49m\u001b[38;5;241;43m.\u001b[39;49m\u001b[38;5;21;43m__getattribute__\u001b[39;49m\u001b[43m(\u001b[49m\u001b[38;5;28;43mself\u001b[39;49m\u001b[43m,\u001b[49m\u001b[43m \u001b[49m\u001b[43mname\u001b[49m\u001b[43m)\u001b[49m\n",
      "\u001b[1;31mAttributeError\u001b[0m: 'DataFrame' object has no attribute 'data'"
     ]
    }
   ],
   "source": [
    "# 数据标准化了\n",
    "fs_train_feature = sklearn.preprocessing.StandardScaler().fit_transform(x_train)\n",
    "fs_test_feature = sklearn.preprocessing.StandardScaler().fit_transform(x_test)\n",
    "# kNeighbors\n",
    "estimate = sklearn.neighbors.KNeighborsClassifier()\n",
    "estimate = sklearn.model_selection.GridSearchCV(estimate, param_grid={'n_neighbors': [1, 2, 3, 4, 5]}, cv=5)\n",
    "estimate.fit(fs_train_feature, train_target)\n",
    "print(estimate.score(fs_test_feature.data, test_data.target))"
   ]
  },
  {
   "cell_type": "code",
   "execution_count": null,
   "id": "40f0bf28-1d21-4493-901b-b185938f45f0",
   "metadata": {},
   "outputs": [],
   "source": []
  }
 ],
 "metadata": {
  "kernelspec": {
   "display_name": "Python 3 (ipykernel)",
   "language": "python",
   "name": "python3"
  },
  "language_info": {
   "codemirror_mode": {
    "name": "ipython",
    "version": 3
   },
   "file_extension": ".py",
   "mimetype": "text/x-python",
   "name": "python",
   "nbconvert_exporter": "python",
   "pygments_lexer": "ipython3",
   "version": "3.12.1"
  }
 },
 "nbformat": 4,
 "nbformat_minor": 5
}
