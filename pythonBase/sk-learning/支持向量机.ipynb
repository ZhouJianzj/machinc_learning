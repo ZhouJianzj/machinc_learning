{
 "cells": [
  {
   "cell_type": "code",
   "execution_count": 1,
   "metadata": {
    "collapsed": true
   },
   "outputs": [
    {
     "name": "stdout",
     "output_type": "stream",
     "text": [
      "Linear SVM (Linearly Separable) Accuracy: 0.89\n"
     ]
    },
    {
     "name": "stderr",
     "output_type": "stream",
     "text": [
      "E:\\software\\anaconda3\\Lib\\site-packages\\sklearn\\svm\\_classes.py:32: FutureWarning: The default value of `dual` will change from `True` to `'auto'` in 1.5. Set the value of `dual` explicitly to suppress the warning.\n",
      "  warnings.warn(\n"
     ]
    }
   ],
   "source": [
    "from sklearn.datasets import make_classification\n",
    "from sklearn.model_selection import train_test_split\n",
    "from sklearn.preprocessing import StandardScaler\n",
    "from sklearn.svm import LinearSVC\n",
    "from sklearn.metrics import accuracy_score\n",
    "#n_clusters_per_class：每个类别中的簇（或者说集群）的数量。如果该参数设置为1，则每个类别将会是一个单独的高斯簇，使得生成的数据线性可分。如果该参数设置为大于1的值，则会在每个类别中生成多个簇，使得生成的数据线性不可分。\n",
    "# 创建线性可分数据集\n",
    "X, y = make_classification(n_samples=1000, n_features=20, n_classes=2, n_clusters_per_class=1, random_state=42)\n",
    "\n",
    "# 数据预处理：将数据分割为训练集和测试集，然后进行特征缩放\n",
    "X_train, X_test, y_train, y_test = train_test_split(X, y, test_size=0.3, random_state=42)\n",
    "scaler = StandardScaler()\n",
    "X_train_scaled = scaler.fit_transform(X_train)\n",
    "X_test_scaled = scaler.transform(X_test)\n",
    "\n",
    "# 创建线性可分支持向量机模型\n",
    "linear_svc = LinearSVC(random_state=42)\n",
    "linear_svc.fit(X_train_scaled, y_train)\n",
    "\n",
    "# 在测试集上进行预测\n",
    "y_pred = linear_svc.predict(X_test_scaled)\n",
    "\n",
    "# 计算模型的准确率\n",
    "accuracy = accuracy_score(y_test, y_pred)\n",
    "print(\"Linear SVM (Linearly Separable) Accuracy:\", accuracy)"
   ]
  },
  {
   "cell_type": "code",
   "execution_count": 2,
   "outputs": [
    {
     "name": "stdout",
     "output_type": "stream",
     "text": [
      "Linear SVM Accuracy: 0.9033333333333333\n"
     ]
    }
   ],
   "source": [
    "from sklearn.svm import SVC\n",
    "\n",
    "# 创建线性支持向量机模型\n",
    "svm = SVC(kernel='linear', random_state=42)\n",
    "svm.fit(X_train_scaled, y_train)\n",
    "\n",
    "# 在测试集上进行预测\n",
    "y_pred = svm.predict(X_test_scaled)\n",
    "\n",
    "# 计算模型的准确率\n",
    "accuracy = accuracy_score(y_test, y_pred)\n",
    "print(\"Linear SVM Accuracy:\", accuracy)\n",
    "\n",
    "\n",
    "\n"
   ],
   "metadata": {
    "collapsed": false,
    "pycharm": {
     "name": "#%%\n"
    }
   }
  },
  {
   "cell_type": "code",
   "execution_count": 3,
   "outputs": [
    {
     "name": "stdout",
     "output_type": "stream",
     "text": [
      "Linear SVM (Linearly Non-Separable) Accuracy: 0.8433333333333334\n"
     ]
    },
    {
     "name": "stderr",
     "output_type": "stream",
     "text": [
      "E:\\software\\anaconda3\\Lib\\site-packages\\sklearn\\svm\\_classes.py:32: FutureWarning: The default value of `dual` will change from `True` to `'auto'` in 1.5. Set the value of `dual` explicitly to suppress the warning.\n",
      "  warnings.warn(\n"
     ]
    }
   ],
   "source": [
    "# 创建线性不可分数据集\n",
    "X, y = make_classification(n_samples=1000, n_features=20, n_classes=2, n_clusters_per_class=2, random_state=42)\n",
    "\n",
    "# 数据预处理：将数据分割为训练集和测试集，然后进行特征缩放\n",
    "X_train, X_test, y_train, y_test = train_test_split(X, y, test_size=0.3, random_state=42)\n",
    "scaler = StandardScaler()\n",
    "X_train_scaled = scaler.fit_transform(X_train)\n",
    "X_test_scaled = scaler.transform(X_test)\n",
    "\n",
    "# 创建线性不可分支持向量机模型\n",
    "linear_svc_soft = LinearSVC(C=0.1, random_state=42)\n",
    "linear_svc_soft.fit(X_train_scaled, y_train)\n",
    "\n",
    "# 在测试集上进行预测\n",
    "y_pred = linear_svc_soft.predict(X_test_scaled)\n",
    "\n",
    "# 计算模型的准确率\n",
    "accuracy = accuracy_score(y_test, y_pred)\n",
    "print(\"Linear SVM (Linearly Non-Separable) Accuracy:\", accuracy)"
   ],
   "metadata": {
    "collapsed": false,
    "pycharm": {
     "name": "#%%\n"
    }
   }
  }
 ],
 "metadata": {
  "kernelspec": {
   "name": "pycharm-d6d2fd5a",
   "language": "python",
   "display_name": "PyCharm (pythonBase)"
  },
  "language_info": {
   "codemirror_mode": {
    "name": "ipython",
    "version": 2
   },
   "file_extension": ".py",
   "mimetype": "text/x-python",
   "name": "python",
   "nbconvert_exporter": "python",
   "pygments_lexer": "ipython2",
   "version": "2.7.6"
  }
 },
 "nbformat": 4,
 "nbformat_minor": 0
}