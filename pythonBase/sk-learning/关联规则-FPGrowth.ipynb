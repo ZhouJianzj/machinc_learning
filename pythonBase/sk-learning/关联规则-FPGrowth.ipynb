{
 "cells": [
  {
   "cell_type": "code",
   "execution_count": null,
   "outputs": [],
   "source": [
    "#conda install -c conda-forge mlxtend\n",
    "from mlxtend.frequent_patterns import fpgrowth\n",
    "import pandas as pd\n",
    "\n",
    "# 创建示例数据集\n",
    "data = {'ID': [1, 2, 3, 4, 5],\n",
    "        '商品': ['牛奶, 面包', '面包, 黄油', '牛奶, 黄油', '牛奶, 面包', '牛奶, 面包, 黄油']}\n",
    "df = pd.DataFrame(data)\n",
    "\n",
    "# 对数据进行独热编码\n",
    "df_encoded = df['商品'].str.get_dummies(', ')\n",
    "\n",
    "# 使用FP-Growth算法找出频繁项集\n",
    "frequent_itemsets = fpgrowth(df_encoded, min_support=0.2, use_colnames=True)\n",
    "\n",
    "print(\"频繁项集：\")\n",
    "print(frequent_itemsets)"
   ],
   "metadata": {
    "collapsed": false,
    "pycharm": {
     "name": "#%%\n"
    }
   }
  },
  {
   "cell_type": "code",
   "execution_count": null,
   "outputs": [],
   "source": [
    "import matplotlib.pyplot as plt\n",
    "# 绘制频繁项集的条形图\n",
    "plt.figure(figsize=(10, 6))\n",
    "plt.rcParams['font.sans-serif']=['SimHei']\n",
    "plt.rcParams['axes.unicode_minus']=False\n",
    "plt.barh(range(len(frequent_itemsets)), frequent_itemsets['support'], tick_label=frequent_itemsets['itemsets'])\n",
    "plt.xlabel('Support')\n",
    "plt.ylabel('Itemsets')\n",
    "plt.title('Frequent Itemsets')\n",
    "plt.show()"
   ],
   "metadata": {
    "collapsed": false,
    "pycharm": {
     "name": "#%%\n"
    }
   }
  }
 ],
 "metadata": {
  "kernelspec": {
   "name": "pycharm-d6d2fd5a",
   "language": "python",
   "display_name": "PyCharm (pythonBase)"
  },
  "language_info": {
   "codemirror_mode": {
    "name": "ipython",
    "version": 2
   },
   "file_extension": ".py",
   "mimetype": "text/x-python",
   "name": "python",
   "nbconvert_exporter": "python",
   "pygments_lexer": "ipython2",
   "version": "2.7.6"
  }
 },
 "nbformat": 4,
 "nbformat_minor": 0
}