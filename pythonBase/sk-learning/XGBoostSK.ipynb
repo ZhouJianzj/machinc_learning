{
 "cells": [
  {
   "cell_type": "code",
   "execution_count": 1,
   "outputs": [
    {
     "name": "stdout",
     "output_type": "stream",
     "text": [
      "XGBoost Accuracy: 1.0\n"
     ]
    }
   ],
   "source": [
    "# https://xgboost.readthedocs.io/en/latest/python/python_api.html\n",
    "from xgboost import XGBClassifier\n",
    "from sklearn.datasets import load_iris\n",
    "from sklearn.model_selection import train_test_split\n",
    "from sklearn.metrics import accuracy_score\n",
    "\n",
    "# 加载数据集\n",
    "iris = load_iris()\n",
    "X, y = iris.data, iris.target\n",
    "\n",
    "# 划分训练集和测试集\n",
    "X_train, X_test, y_train, y_test = train_test_split(X, y, test_size=0.2, random_state=42)\n",
    "\n",
    "# 创建 XGBClassifier 模型\n",
    "xgb_clf = XGBClassifier(\n",
    "    objective='multi:softmax',  # 多类别分类\n",
    "    num_class=3,  # 类别数量\n",
    "    max_depth=3,\n",
    "    learning_rate=0.1,\n",
    "    n_estimators=100,\n",
    "    subsample=0.8 ,#每棵树的样本采样比例。设置为小于 1 的值可以使模型更具有鲁棒性，防止过拟合。,\n",
    "    colsample_bytree=0.8, # 每棵树的特征采样比例。设置为小于 1 的值可以进一步防止过拟合\n",
    "    random_state=42 # 控制随机数生成的种子，以确保结果的可重复性。\n",
    ")\n",
    "\n",
    "# 拟合模型\n",
    "xgb_clf.fit(X_train, y_train)\n",
    "\n",
    "# 在测试集上进行预测\n",
    "y_pred = xgb_clf.predict(X_test)\n",
    "\n",
    "# 计算准确率\n",
    "accuracy = accuracy_score(y_test, y_pred)\n",
    "print(\"XGBoost Accuracy:\", accuracy)"
   ],
   "metadata": {
    "collapsed": false,
    "pycharm": {
     "name": "#%%\n"
    }
   }
  }
 ],
 "metadata": {
  "kernelspec": {
   "name": "pycharm-d6d2fd5a",
   "language": "python",
   "display_name": "PyCharm (pythonBase)"
  },
  "language_info": {
   "codemirror_mode": {
    "name": "ipython",
    "version": 2
   },
   "file_extension": ".py",
   "mimetype": "text/x-python",
   "name": "python",
   "nbconvert_exporter": "python",
   "pygments_lexer": "ipython2",
   "version": "2.7.6"
  }
 },
 "nbformat": 4,
 "nbformat_minor": 0
}