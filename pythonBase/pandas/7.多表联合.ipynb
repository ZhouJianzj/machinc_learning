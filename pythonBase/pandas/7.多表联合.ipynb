{
 "cells": [
  {
   "cell_type": "code",
   "execution_count": 3,
   "metadata": {
    "collapsed": true
   },
   "outputs": [],
   "source": [
    "import pandas as pd"
   ]
  },
  {
   "cell_type": "code",
   "execution_count": 8,
   "outputs": [
    {
     "data": {
      "text/plain": "           city country                   date.utc            location  \\\n0     Antwerpen      BE  2019-06-18 06:00:00+00:00             BETR801   \n1     Antwerpen      BE  2019-06-17 08:00:00+00:00             BETR801   \n2     Antwerpen      BE  2019-06-17 07:00:00+00:00             BETR801   \n3     Antwerpen      BE  2019-06-17 06:00:00+00:00             BETR801   \n4     Antwerpen      BE  2019-06-17 05:00:00+00:00             BETR801   \n...         ...     ...                        ...                 ...   \n1105     London      GB  2019-05-07 06:00:00+00:00  London Westminster   \n1106     London      GB  2019-05-07 04:00:00+00:00  London Westminster   \n1107     London      GB  2019-05-07 03:00:00+00:00  London Westminster   \n1108     London      GB  2019-05-07 02:00:00+00:00  London Westminster   \n1109     London      GB  2019-05-07 01:00:00+00:00  London Westminster   \n\n     parameter  value   unit  \n0         pm25   18.0  µg/m³  \n1         pm25    6.5  µg/m³  \n2         pm25   18.5  µg/m³  \n3         pm25   16.0  µg/m³  \n4         pm25    7.5  µg/m³  \n...        ...    ...    ...  \n1105      pm25    9.0  µg/m³  \n1106      pm25    8.0  µg/m³  \n1107      pm25    8.0  µg/m³  \n1108      pm25    8.0  µg/m³  \n1109      pm25    8.0  µg/m³  \n\n[1110 rows x 7 columns]",
      "text/html": "<div>\n<style scoped>\n    .dataframe tbody tr th:only-of-type {\n        vertical-align: middle;\n    }\n\n    .dataframe tbody tr th {\n        vertical-align: top;\n    }\n\n    .dataframe thead th {\n        text-align: right;\n    }\n</style>\n<table border=\"1\" class=\"dataframe\">\n  <thead>\n    <tr style=\"text-align: right;\">\n      <th></th>\n      <th>city</th>\n      <th>country</th>\n      <th>date.utc</th>\n      <th>location</th>\n      <th>parameter</th>\n      <th>value</th>\n      <th>unit</th>\n    </tr>\n  </thead>\n  <tbody>\n    <tr>\n      <th>0</th>\n      <td>Antwerpen</td>\n      <td>BE</td>\n      <td>2019-06-18 06:00:00+00:00</td>\n      <td>BETR801</td>\n      <td>pm25</td>\n      <td>18.0</td>\n      <td>µg/m³</td>\n    </tr>\n    <tr>\n      <th>1</th>\n      <td>Antwerpen</td>\n      <td>BE</td>\n      <td>2019-06-17 08:00:00+00:00</td>\n      <td>BETR801</td>\n      <td>pm25</td>\n      <td>6.5</td>\n      <td>µg/m³</td>\n    </tr>\n    <tr>\n      <th>2</th>\n      <td>Antwerpen</td>\n      <td>BE</td>\n      <td>2019-06-17 07:00:00+00:00</td>\n      <td>BETR801</td>\n      <td>pm25</td>\n      <td>18.5</td>\n      <td>µg/m³</td>\n    </tr>\n    <tr>\n      <th>3</th>\n      <td>Antwerpen</td>\n      <td>BE</td>\n      <td>2019-06-17 06:00:00+00:00</td>\n      <td>BETR801</td>\n      <td>pm25</td>\n      <td>16.0</td>\n      <td>µg/m³</td>\n    </tr>\n    <tr>\n      <th>4</th>\n      <td>Antwerpen</td>\n      <td>BE</td>\n      <td>2019-06-17 05:00:00+00:00</td>\n      <td>BETR801</td>\n      <td>pm25</td>\n      <td>7.5</td>\n      <td>µg/m³</td>\n    </tr>\n    <tr>\n      <th>...</th>\n      <td>...</td>\n      <td>...</td>\n      <td>...</td>\n      <td>...</td>\n      <td>...</td>\n      <td>...</td>\n      <td>...</td>\n    </tr>\n    <tr>\n      <th>1105</th>\n      <td>London</td>\n      <td>GB</td>\n      <td>2019-05-07 06:00:00+00:00</td>\n      <td>London Westminster</td>\n      <td>pm25</td>\n      <td>9.0</td>\n      <td>µg/m³</td>\n    </tr>\n    <tr>\n      <th>1106</th>\n      <td>London</td>\n      <td>GB</td>\n      <td>2019-05-07 04:00:00+00:00</td>\n      <td>London Westminster</td>\n      <td>pm25</td>\n      <td>8.0</td>\n      <td>µg/m³</td>\n    </tr>\n    <tr>\n      <th>1107</th>\n      <td>London</td>\n      <td>GB</td>\n      <td>2019-05-07 03:00:00+00:00</td>\n      <td>London Westminster</td>\n      <td>pm25</td>\n      <td>8.0</td>\n      <td>µg/m³</td>\n    </tr>\n    <tr>\n      <th>1108</th>\n      <td>London</td>\n      <td>GB</td>\n      <td>2019-05-07 02:00:00+00:00</td>\n      <td>London Westminster</td>\n      <td>pm25</td>\n      <td>8.0</td>\n      <td>µg/m³</td>\n    </tr>\n    <tr>\n      <th>1109</th>\n      <td>London</td>\n      <td>GB</td>\n      <td>2019-05-07 01:00:00+00:00</td>\n      <td>London Westminster</td>\n      <td>pm25</td>\n      <td>8.0</td>\n      <td>µg/m³</td>\n    </tr>\n  </tbody>\n</table>\n<p>1110 rows × 7 columns</p>\n</div>"
     },
     "execution_count": 8,
     "metadata": {},
     "output_type": "execute_result"
    }
   ],
   "source": [
    "pm25_data = pd.read_csv(\"./assert/air_quality_pm25_long.csv\")\n",
    "pm25_data"
   ],
   "metadata": {
    "collapsed": false,
    "pycharm": {
     "name": "#%%\n"
    }
   }
  },
  {
   "cell_type": "code",
   "execution_count": 6,
   "outputs": [
    {
     "data": {
      "text/plain": "        city country                   date.utc            location parameter  \\\n0      Paris      FR  2019-06-21 00:00:00+00:00             FR04014       no2   \n1      Paris      FR  2019-06-20 23:00:00+00:00             FR04014       no2   \n2      Paris      FR  2019-06-20 22:00:00+00:00             FR04014       no2   \n3      Paris      FR  2019-06-20 21:00:00+00:00             FR04014       no2   \n4      Paris      FR  2019-06-20 20:00:00+00:00             FR04014       no2   \n...      ...     ...                        ...                 ...       ...   \n2063  London      GB  2019-05-07 06:00:00+00:00  London Westminster       no2   \n2064  London      GB  2019-05-07 04:00:00+00:00  London Westminster       no2   \n2065  London      GB  2019-05-07 03:00:00+00:00  London Westminster       no2   \n2066  London      GB  2019-05-07 02:00:00+00:00  London Westminster       no2   \n2067  London      GB  2019-05-07 01:00:00+00:00  London Westminster       no2   \n\n      value   unit  \n0      20.0  µg/m³  \n1      21.8  µg/m³  \n2      26.5  µg/m³  \n3      24.9  µg/m³  \n4      21.4  µg/m³  \n...     ...    ...  \n2063   26.0  µg/m³  \n2064   16.0  µg/m³  \n2065   19.0  µg/m³  \n2066   19.0  µg/m³  \n2067   23.0  µg/m³  \n\n[2068 rows x 7 columns]",
      "text/html": "<div>\n<style scoped>\n    .dataframe tbody tr th:only-of-type {\n        vertical-align: middle;\n    }\n\n    .dataframe tbody tr th {\n        vertical-align: top;\n    }\n\n    .dataframe thead th {\n        text-align: right;\n    }\n</style>\n<table border=\"1\" class=\"dataframe\">\n  <thead>\n    <tr style=\"text-align: right;\">\n      <th></th>\n      <th>city</th>\n      <th>country</th>\n      <th>date.utc</th>\n      <th>location</th>\n      <th>parameter</th>\n      <th>value</th>\n      <th>unit</th>\n    </tr>\n  </thead>\n  <tbody>\n    <tr>\n      <th>0</th>\n      <td>Paris</td>\n      <td>FR</td>\n      <td>2019-06-21 00:00:00+00:00</td>\n      <td>FR04014</td>\n      <td>no2</td>\n      <td>20.0</td>\n      <td>µg/m³</td>\n    </tr>\n    <tr>\n      <th>1</th>\n      <td>Paris</td>\n      <td>FR</td>\n      <td>2019-06-20 23:00:00+00:00</td>\n      <td>FR04014</td>\n      <td>no2</td>\n      <td>21.8</td>\n      <td>µg/m³</td>\n    </tr>\n    <tr>\n      <th>2</th>\n      <td>Paris</td>\n      <td>FR</td>\n      <td>2019-06-20 22:00:00+00:00</td>\n      <td>FR04014</td>\n      <td>no2</td>\n      <td>26.5</td>\n      <td>µg/m³</td>\n    </tr>\n    <tr>\n      <th>3</th>\n      <td>Paris</td>\n      <td>FR</td>\n      <td>2019-06-20 21:00:00+00:00</td>\n      <td>FR04014</td>\n      <td>no2</td>\n      <td>24.9</td>\n      <td>µg/m³</td>\n    </tr>\n    <tr>\n      <th>4</th>\n      <td>Paris</td>\n      <td>FR</td>\n      <td>2019-06-20 20:00:00+00:00</td>\n      <td>FR04014</td>\n      <td>no2</td>\n      <td>21.4</td>\n      <td>µg/m³</td>\n    </tr>\n    <tr>\n      <th>...</th>\n      <td>...</td>\n      <td>...</td>\n      <td>...</td>\n      <td>...</td>\n      <td>...</td>\n      <td>...</td>\n      <td>...</td>\n    </tr>\n    <tr>\n      <th>2063</th>\n      <td>London</td>\n      <td>GB</td>\n      <td>2019-05-07 06:00:00+00:00</td>\n      <td>London Westminster</td>\n      <td>no2</td>\n      <td>26.0</td>\n      <td>µg/m³</td>\n    </tr>\n    <tr>\n      <th>2064</th>\n      <td>London</td>\n      <td>GB</td>\n      <td>2019-05-07 04:00:00+00:00</td>\n      <td>London Westminster</td>\n      <td>no2</td>\n      <td>16.0</td>\n      <td>µg/m³</td>\n    </tr>\n    <tr>\n      <th>2065</th>\n      <td>London</td>\n      <td>GB</td>\n      <td>2019-05-07 03:00:00+00:00</td>\n      <td>London Westminster</td>\n      <td>no2</td>\n      <td>19.0</td>\n      <td>µg/m³</td>\n    </tr>\n    <tr>\n      <th>2066</th>\n      <td>London</td>\n      <td>GB</td>\n      <td>2019-05-07 02:00:00+00:00</td>\n      <td>London Westminster</td>\n      <td>no2</td>\n      <td>19.0</td>\n      <td>µg/m³</td>\n    </tr>\n    <tr>\n      <th>2067</th>\n      <td>London</td>\n      <td>GB</td>\n      <td>2019-05-07 01:00:00+00:00</td>\n      <td>London Westminster</td>\n      <td>no2</td>\n      <td>23.0</td>\n      <td>µg/m³</td>\n    </tr>\n  </tbody>\n</table>\n<p>2068 rows × 7 columns</p>\n</div>"
     },
     "execution_count": 6,
     "metadata": {},
     "output_type": "execute_result"
    }
   ],
   "source": [
    "no2_data = pd.read_csv(\"./assert/air_quality_no2_long.csv\")\n",
    "no2_data"
   ],
   "metadata": {
    "collapsed": false,
    "pycharm": {
     "name": "#%%\n"
    }
   }
  },
  {
   "cell_type": "code",
   "execution_count": 9,
   "outputs": [
    {
     "data": {
      "text/plain": "           city country                   date.utc            location  \\\n0     Antwerpen      BE  2019-06-18 06:00:00+00:00             BETR801   \n1     Antwerpen      BE  2019-06-17 08:00:00+00:00             BETR801   \n2     Antwerpen      BE  2019-06-17 07:00:00+00:00             BETR801   \n3     Antwerpen      BE  2019-06-17 06:00:00+00:00             BETR801   \n4     Antwerpen      BE  2019-06-17 05:00:00+00:00             BETR801   \n...         ...     ...                        ...                 ...   \n2063     London      GB  2019-05-07 06:00:00+00:00  London Westminster   \n2064     London      GB  2019-05-07 04:00:00+00:00  London Westminster   \n2065     London      GB  2019-05-07 03:00:00+00:00  London Westminster   \n2066     London      GB  2019-05-07 02:00:00+00:00  London Westminster   \n2067     London      GB  2019-05-07 01:00:00+00:00  London Westminster   \n\n     parameter  value   unit  \n0         pm25   18.0  µg/m³  \n1         pm25    6.5  µg/m³  \n2         pm25   18.5  µg/m³  \n3         pm25   16.0  µg/m³  \n4         pm25    7.5  µg/m³  \n...        ...    ...    ...  \n2063       no2   26.0  µg/m³  \n2064       no2   16.0  µg/m³  \n2065       no2   19.0  µg/m³  \n2066       no2   19.0  µg/m³  \n2067       no2   23.0  µg/m³  \n\n[3178 rows x 7 columns]",
      "text/html": "<div>\n<style scoped>\n    .dataframe tbody tr th:only-of-type {\n        vertical-align: middle;\n    }\n\n    .dataframe tbody tr th {\n        vertical-align: top;\n    }\n\n    .dataframe thead th {\n        text-align: right;\n    }\n</style>\n<table border=\"1\" class=\"dataframe\">\n  <thead>\n    <tr style=\"text-align: right;\">\n      <th></th>\n      <th>city</th>\n      <th>country</th>\n      <th>date.utc</th>\n      <th>location</th>\n      <th>parameter</th>\n      <th>value</th>\n      <th>unit</th>\n    </tr>\n  </thead>\n  <tbody>\n    <tr>\n      <th>0</th>\n      <td>Antwerpen</td>\n      <td>BE</td>\n      <td>2019-06-18 06:00:00+00:00</td>\n      <td>BETR801</td>\n      <td>pm25</td>\n      <td>18.0</td>\n      <td>µg/m³</td>\n    </tr>\n    <tr>\n      <th>1</th>\n      <td>Antwerpen</td>\n      <td>BE</td>\n      <td>2019-06-17 08:00:00+00:00</td>\n      <td>BETR801</td>\n      <td>pm25</td>\n      <td>6.5</td>\n      <td>µg/m³</td>\n    </tr>\n    <tr>\n      <th>2</th>\n      <td>Antwerpen</td>\n      <td>BE</td>\n      <td>2019-06-17 07:00:00+00:00</td>\n      <td>BETR801</td>\n      <td>pm25</td>\n      <td>18.5</td>\n      <td>µg/m³</td>\n    </tr>\n    <tr>\n      <th>3</th>\n      <td>Antwerpen</td>\n      <td>BE</td>\n      <td>2019-06-17 06:00:00+00:00</td>\n      <td>BETR801</td>\n      <td>pm25</td>\n      <td>16.0</td>\n      <td>µg/m³</td>\n    </tr>\n    <tr>\n      <th>4</th>\n      <td>Antwerpen</td>\n      <td>BE</td>\n      <td>2019-06-17 05:00:00+00:00</td>\n      <td>BETR801</td>\n      <td>pm25</td>\n      <td>7.5</td>\n      <td>µg/m³</td>\n    </tr>\n    <tr>\n      <th>...</th>\n      <td>...</td>\n      <td>...</td>\n      <td>...</td>\n      <td>...</td>\n      <td>...</td>\n      <td>...</td>\n      <td>...</td>\n    </tr>\n    <tr>\n      <th>2063</th>\n      <td>London</td>\n      <td>GB</td>\n      <td>2019-05-07 06:00:00+00:00</td>\n      <td>London Westminster</td>\n      <td>no2</td>\n      <td>26.0</td>\n      <td>µg/m³</td>\n    </tr>\n    <tr>\n      <th>2064</th>\n      <td>London</td>\n      <td>GB</td>\n      <td>2019-05-07 04:00:00+00:00</td>\n      <td>London Westminster</td>\n      <td>no2</td>\n      <td>16.0</td>\n      <td>µg/m³</td>\n    </tr>\n    <tr>\n      <th>2065</th>\n      <td>London</td>\n      <td>GB</td>\n      <td>2019-05-07 03:00:00+00:00</td>\n      <td>London Westminster</td>\n      <td>no2</td>\n      <td>19.0</td>\n      <td>µg/m³</td>\n    </tr>\n    <tr>\n      <th>2066</th>\n      <td>London</td>\n      <td>GB</td>\n      <td>2019-05-07 02:00:00+00:00</td>\n      <td>London Westminster</td>\n      <td>no2</td>\n      <td>19.0</td>\n      <td>µg/m³</td>\n    </tr>\n    <tr>\n      <th>2067</th>\n      <td>London</td>\n      <td>GB</td>\n      <td>2019-05-07 01:00:00+00:00</td>\n      <td>London Westminster</td>\n      <td>no2</td>\n      <td>23.0</td>\n      <td>µg/m³</td>\n    </tr>\n  </tbody>\n</table>\n<p>3178 rows × 7 columns</p>\n</div>"
     },
     "execution_count": 9,
     "metadata": {},
     "output_type": "execute_result"
    }
   ],
   "source": [
    "#纵向组合\n",
    "pd.concat([pm25_data,no2_data],axis=0)"
   ],
   "metadata": {
    "collapsed": false,
    "pycharm": {
     "name": "#%%\n"
    }
   }
  },
  {
   "cell_type": "code",
   "execution_count": 10,
   "outputs": [
    {
     "data": {
      "text/plain": "           city country                   date.utc location parameter  value  \\\n0     Antwerpen      BE  2019-06-18 06:00:00+00:00  BETR801      pm25   18.0   \n1     Antwerpen      BE  2019-06-17 08:00:00+00:00  BETR801      pm25    6.5   \n2     Antwerpen      BE  2019-06-17 07:00:00+00:00  BETR801      pm25   18.5   \n3     Antwerpen      BE  2019-06-17 06:00:00+00:00  BETR801      pm25   16.0   \n4     Antwerpen      BE  2019-06-17 05:00:00+00:00  BETR801      pm25    7.5   \n...         ...     ...                        ...      ...       ...    ...   \n2063        NaN     NaN                        NaN      NaN       NaN    NaN   \n2064        NaN     NaN                        NaN      NaN       NaN    NaN   \n2065        NaN     NaN                        NaN      NaN       NaN    NaN   \n2066        NaN     NaN                        NaN      NaN       NaN    NaN   \n2067        NaN     NaN                        NaN      NaN       NaN    NaN   \n\n       unit    city country                   date.utc            location  \\\n0     µg/m³   Paris      FR  2019-06-21 00:00:00+00:00             FR04014   \n1     µg/m³   Paris      FR  2019-06-20 23:00:00+00:00             FR04014   \n2     µg/m³   Paris      FR  2019-06-20 22:00:00+00:00             FR04014   \n3     µg/m³   Paris      FR  2019-06-20 21:00:00+00:00             FR04014   \n4     µg/m³   Paris      FR  2019-06-20 20:00:00+00:00             FR04014   \n...     ...     ...     ...                        ...                 ...   \n2063    NaN  London      GB  2019-05-07 06:00:00+00:00  London Westminster   \n2064    NaN  London      GB  2019-05-07 04:00:00+00:00  London Westminster   \n2065    NaN  London      GB  2019-05-07 03:00:00+00:00  London Westminster   \n2066    NaN  London      GB  2019-05-07 02:00:00+00:00  London Westminster   \n2067    NaN  London      GB  2019-05-07 01:00:00+00:00  London Westminster   \n\n     parameter  value   unit  \n0          no2   20.0  µg/m³  \n1          no2   21.8  µg/m³  \n2          no2   26.5  µg/m³  \n3          no2   24.9  µg/m³  \n4          no2   21.4  µg/m³  \n...        ...    ...    ...  \n2063       no2   26.0  µg/m³  \n2064       no2   16.0  µg/m³  \n2065       no2   19.0  µg/m³  \n2066       no2   19.0  µg/m³  \n2067       no2   23.0  µg/m³  \n\n[2068 rows x 14 columns]",
      "text/html": "<div>\n<style scoped>\n    .dataframe tbody tr th:only-of-type {\n        vertical-align: middle;\n    }\n\n    .dataframe tbody tr th {\n        vertical-align: top;\n    }\n\n    .dataframe thead th {\n        text-align: right;\n    }\n</style>\n<table border=\"1\" class=\"dataframe\">\n  <thead>\n    <tr style=\"text-align: right;\">\n      <th></th>\n      <th>city</th>\n      <th>country</th>\n      <th>date.utc</th>\n      <th>location</th>\n      <th>parameter</th>\n      <th>value</th>\n      <th>unit</th>\n      <th>city</th>\n      <th>country</th>\n      <th>date.utc</th>\n      <th>location</th>\n      <th>parameter</th>\n      <th>value</th>\n      <th>unit</th>\n    </tr>\n  </thead>\n  <tbody>\n    <tr>\n      <th>0</th>\n      <td>Antwerpen</td>\n      <td>BE</td>\n      <td>2019-06-18 06:00:00+00:00</td>\n      <td>BETR801</td>\n      <td>pm25</td>\n      <td>18.0</td>\n      <td>µg/m³</td>\n      <td>Paris</td>\n      <td>FR</td>\n      <td>2019-06-21 00:00:00+00:00</td>\n      <td>FR04014</td>\n      <td>no2</td>\n      <td>20.0</td>\n      <td>µg/m³</td>\n    </tr>\n    <tr>\n      <th>1</th>\n      <td>Antwerpen</td>\n      <td>BE</td>\n      <td>2019-06-17 08:00:00+00:00</td>\n      <td>BETR801</td>\n      <td>pm25</td>\n      <td>6.5</td>\n      <td>µg/m³</td>\n      <td>Paris</td>\n      <td>FR</td>\n      <td>2019-06-20 23:00:00+00:00</td>\n      <td>FR04014</td>\n      <td>no2</td>\n      <td>21.8</td>\n      <td>µg/m³</td>\n    </tr>\n    <tr>\n      <th>2</th>\n      <td>Antwerpen</td>\n      <td>BE</td>\n      <td>2019-06-17 07:00:00+00:00</td>\n      <td>BETR801</td>\n      <td>pm25</td>\n      <td>18.5</td>\n      <td>µg/m³</td>\n      <td>Paris</td>\n      <td>FR</td>\n      <td>2019-06-20 22:00:00+00:00</td>\n      <td>FR04014</td>\n      <td>no2</td>\n      <td>26.5</td>\n      <td>µg/m³</td>\n    </tr>\n    <tr>\n      <th>3</th>\n      <td>Antwerpen</td>\n      <td>BE</td>\n      <td>2019-06-17 06:00:00+00:00</td>\n      <td>BETR801</td>\n      <td>pm25</td>\n      <td>16.0</td>\n      <td>µg/m³</td>\n      <td>Paris</td>\n      <td>FR</td>\n      <td>2019-06-20 21:00:00+00:00</td>\n      <td>FR04014</td>\n      <td>no2</td>\n      <td>24.9</td>\n      <td>µg/m³</td>\n    </tr>\n    <tr>\n      <th>4</th>\n      <td>Antwerpen</td>\n      <td>BE</td>\n      <td>2019-06-17 05:00:00+00:00</td>\n      <td>BETR801</td>\n      <td>pm25</td>\n      <td>7.5</td>\n      <td>µg/m³</td>\n      <td>Paris</td>\n      <td>FR</td>\n      <td>2019-06-20 20:00:00+00:00</td>\n      <td>FR04014</td>\n      <td>no2</td>\n      <td>21.4</td>\n      <td>µg/m³</td>\n    </tr>\n    <tr>\n      <th>...</th>\n      <td>...</td>\n      <td>...</td>\n      <td>...</td>\n      <td>...</td>\n      <td>...</td>\n      <td>...</td>\n      <td>...</td>\n      <td>...</td>\n      <td>...</td>\n      <td>...</td>\n      <td>...</td>\n      <td>...</td>\n      <td>...</td>\n      <td>...</td>\n    </tr>\n    <tr>\n      <th>2063</th>\n      <td>NaN</td>\n      <td>NaN</td>\n      <td>NaN</td>\n      <td>NaN</td>\n      <td>NaN</td>\n      <td>NaN</td>\n      <td>NaN</td>\n      <td>London</td>\n      <td>GB</td>\n      <td>2019-05-07 06:00:00+00:00</td>\n      <td>London Westminster</td>\n      <td>no2</td>\n      <td>26.0</td>\n      <td>µg/m³</td>\n    </tr>\n    <tr>\n      <th>2064</th>\n      <td>NaN</td>\n      <td>NaN</td>\n      <td>NaN</td>\n      <td>NaN</td>\n      <td>NaN</td>\n      <td>NaN</td>\n      <td>NaN</td>\n      <td>London</td>\n      <td>GB</td>\n      <td>2019-05-07 04:00:00+00:00</td>\n      <td>London Westminster</td>\n      <td>no2</td>\n      <td>16.0</td>\n      <td>µg/m³</td>\n    </tr>\n    <tr>\n      <th>2065</th>\n      <td>NaN</td>\n      <td>NaN</td>\n      <td>NaN</td>\n      <td>NaN</td>\n      <td>NaN</td>\n      <td>NaN</td>\n      <td>NaN</td>\n      <td>London</td>\n      <td>GB</td>\n      <td>2019-05-07 03:00:00+00:00</td>\n      <td>London Westminster</td>\n      <td>no2</td>\n      <td>19.0</td>\n      <td>µg/m³</td>\n    </tr>\n    <tr>\n      <th>2066</th>\n      <td>NaN</td>\n      <td>NaN</td>\n      <td>NaN</td>\n      <td>NaN</td>\n      <td>NaN</td>\n      <td>NaN</td>\n      <td>NaN</td>\n      <td>London</td>\n      <td>GB</td>\n      <td>2019-05-07 02:00:00+00:00</td>\n      <td>London Westminster</td>\n      <td>no2</td>\n      <td>19.0</td>\n      <td>µg/m³</td>\n    </tr>\n    <tr>\n      <th>2067</th>\n      <td>NaN</td>\n      <td>NaN</td>\n      <td>NaN</td>\n      <td>NaN</td>\n      <td>NaN</td>\n      <td>NaN</td>\n      <td>NaN</td>\n      <td>London</td>\n      <td>GB</td>\n      <td>2019-05-07 01:00:00+00:00</td>\n      <td>London Westminster</td>\n      <td>no2</td>\n      <td>23.0</td>\n      <td>µg/m³</td>\n    </tr>\n  </tbody>\n</table>\n<p>2068 rows × 14 columns</p>\n</div>"
     },
     "execution_count": 10,
     "metadata": {},
     "output_type": "execute_result"
    }
   ],
   "source": [
    "# 横向组合\n",
    "pd.concat([pm25_data,no2_data],axis=1)"
   ],
   "metadata": {
    "collapsed": false,
    "pycharm": {
     "name": "#%%\n"
    }
   }
  },
  {
   "cell_type": "code",
   "execution_count": 14,
   "outputs": [
    {
     "data": {
      "text/plain": "                 city country                   date.utc            location  \\\nPM2.5 0     Antwerpen      BE  2019-06-18 06:00:00+00:00             BETR801   \n      1     Antwerpen      BE  2019-06-17 08:00:00+00:00             BETR801   \n      2     Antwerpen      BE  2019-06-17 07:00:00+00:00             BETR801   \n      3     Antwerpen      BE  2019-06-17 06:00:00+00:00             BETR801   \n      4     Antwerpen      BE  2019-06-17 05:00:00+00:00             BETR801   \n...               ...     ...                        ...                 ...   \nNo2   2063     London      GB  2019-05-07 06:00:00+00:00  London Westminster   \n      2064     London      GB  2019-05-07 04:00:00+00:00  London Westminster   \n      2065     London      GB  2019-05-07 03:00:00+00:00  London Westminster   \n      2066     London      GB  2019-05-07 02:00:00+00:00  London Westminster   \n      2067     London      GB  2019-05-07 01:00:00+00:00  London Westminster   \n\n           parameter  value   unit  \nPM2.5 0         pm25   18.0  µg/m³  \n      1         pm25    6.5  µg/m³  \n      2         pm25   18.5  µg/m³  \n      3         pm25   16.0  µg/m³  \n      4         pm25    7.5  µg/m³  \n...              ...    ...    ...  \nNo2   2063       no2   26.0  µg/m³  \n      2064       no2   16.0  µg/m³  \n      2065       no2   19.0  µg/m³  \n      2066       no2   19.0  µg/m³  \n      2067       no2   23.0  µg/m³  \n\n[3178 rows x 7 columns]",
      "text/html": "<div>\n<style scoped>\n    .dataframe tbody tr th:only-of-type {\n        vertical-align: middle;\n    }\n\n    .dataframe tbody tr th {\n        vertical-align: top;\n    }\n\n    .dataframe thead th {\n        text-align: right;\n    }\n</style>\n<table border=\"1\" class=\"dataframe\">\n  <thead>\n    <tr style=\"text-align: right;\">\n      <th></th>\n      <th></th>\n      <th>city</th>\n      <th>country</th>\n      <th>date.utc</th>\n      <th>location</th>\n      <th>parameter</th>\n      <th>value</th>\n      <th>unit</th>\n    </tr>\n  </thead>\n  <tbody>\n    <tr>\n      <th rowspan=\"5\" valign=\"top\">PM2.5</th>\n      <th>0</th>\n      <td>Antwerpen</td>\n      <td>BE</td>\n      <td>2019-06-18 06:00:00+00:00</td>\n      <td>BETR801</td>\n      <td>pm25</td>\n      <td>18.0</td>\n      <td>µg/m³</td>\n    </tr>\n    <tr>\n      <th>1</th>\n      <td>Antwerpen</td>\n      <td>BE</td>\n      <td>2019-06-17 08:00:00+00:00</td>\n      <td>BETR801</td>\n      <td>pm25</td>\n      <td>6.5</td>\n      <td>µg/m³</td>\n    </tr>\n    <tr>\n      <th>2</th>\n      <td>Antwerpen</td>\n      <td>BE</td>\n      <td>2019-06-17 07:00:00+00:00</td>\n      <td>BETR801</td>\n      <td>pm25</td>\n      <td>18.5</td>\n      <td>µg/m³</td>\n    </tr>\n    <tr>\n      <th>3</th>\n      <td>Antwerpen</td>\n      <td>BE</td>\n      <td>2019-06-17 06:00:00+00:00</td>\n      <td>BETR801</td>\n      <td>pm25</td>\n      <td>16.0</td>\n      <td>µg/m³</td>\n    </tr>\n    <tr>\n      <th>4</th>\n      <td>Antwerpen</td>\n      <td>BE</td>\n      <td>2019-06-17 05:00:00+00:00</td>\n      <td>BETR801</td>\n      <td>pm25</td>\n      <td>7.5</td>\n      <td>µg/m³</td>\n    </tr>\n    <tr>\n      <th>...</th>\n      <th>...</th>\n      <td>...</td>\n      <td>...</td>\n      <td>...</td>\n      <td>...</td>\n      <td>...</td>\n      <td>...</td>\n      <td>...</td>\n    </tr>\n    <tr>\n      <th rowspan=\"5\" valign=\"top\">No2</th>\n      <th>2063</th>\n      <td>London</td>\n      <td>GB</td>\n      <td>2019-05-07 06:00:00+00:00</td>\n      <td>London Westminster</td>\n      <td>no2</td>\n      <td>26.0</td>\n      <td>µg/m³</td>\n    </tr>\n    <tr>\n      <th>2064</th>\n      <td>London</td>\n      <td>GB</td>\n      <td>2019-05-07 04:00:00+00:00</td>\n      <td>London Westminster</td>\n      <td>no2</td>\n      <td>16.0</td>\n      <td>µg/m³</td>\n    </tr>\n    <tr>\n      <th>2065</th>\n      <td>London</td>\n      <td>GB</td>\n      <td>2019-05-07 03:00:00+00:00</td>\n      <td>London Westminster</td>\n      <td>no2</td>\n      <td>19.0</td>\n      <td>µg/m³</td>\n    </tr>\n    <tr>\n      <th>2066</th>\n      <td>London</td>\n      <td>GB</td>\n      <td>2019-05-07 02:00:00+00:00</td>\n      <td>London Westminster</td>\n      <td>no2</td>\n      <td>19.0</td>\n      <td>µg/m³</td>\n    </tr>\n    <tr>\n      <th>2067</th>\n      <td>London</td>\n      <td>GB</td>\n      <td>2019-05-07 01:00:00+00:00</td>\n      <td>London Westminster</td>\n      <td>no2</td>\n      <td>23.0</td>\n      <td>µg/m³</td>\n    </tr>\n  </tbody>\n</table>\n<p>3178 rows × 7 columns</p>\n</div>"
     },
     "execution_count": 14,
     "metadata": {},
     "output_type": "execute_result"
    }
   ],
   "source": [
    "#纵向组合更具提供的标识组合\n",
    "pd.concat([pm25_data,no2_data],axis=0,keys=[\"PM2.5\",\"No2\"])\n"
   ],
   "metadata": {
    "collapsed": false,
    "pycharm": {
     "name": "#%%\n"
    }
   }
  },
  {
   "cell_type": "code",
   "execution_count": 20,
   "outputs": [
    {
     "data": {
      "text/plain": "                      location  coordinates.latitude  coordinates.longitude\n0                      BELAL01              51.23619                4.38522\n1                      BELHB23              51.17030                4.34100\n2                      BELLD01              51.10998                5.00486\n3                      BELLD02              51.12038                5.02155\n4                      BELR833              51.32766                4.36226\n..                         ...                   ...                    ...\n61             Southend-on-Sea              51.54420                0.67841\n62  Southwark A2 Old Kent Road              51.48050               -0.05955\n63                    Thurrock              51.47707                0.31797\n64      Tower Hamlets Roadside              51.52253               -0.04216\n65        Groton Fort Griswold              41.35360              -72.07890\n\n[66 rows x 3 columns]",
      "text/html": "<div>\n<style scoped>\n    .dataframe tbody tr th:only-of-type {\n        vertical-align: middle;\n    }\n\n    .dataframe tbody tr th {\n        vertical-align: top;\n    }\n\n    .dataframe thead th {\n        text-align: right;\n    }\n</style>\n<table border=\"1\" class=\"dataframe\">\n  <thead>\n    <tr style=\"text-align: right;\">\n      <th></th>\n      <th>location</th>\n      <th>coordinates.latitude</th>\n      <th>coordinates.longitude</th>\n    </tr>\n  </thead>\n  <tbody>\n    <tr>\n      <th>0</th>\n      <td>BELAL01</td>\n      <td>51.23619</td>\n      <td>4.38522</td>\n    </tr>\n    <tr>\n      <th>1</th>\n      <td>BELHB23</td>\n      <td>51.17030</td>\n      <td>4.34100</td>\n    </tr>\n    <tr>\n      <th>2</th>\n      <td>BELLD01</td>\n      <td>51.10998</td>\n      <td>5.00486</td>\n    </tr>\n    <tr>\n      <th>3</th>\n      <td>BELLD02</td>\n      <td>51.12038</td>\n      <td>5.02155</td>\n    </tr>\n    <tr>\n      <th>4</th>\n      <td>BELR833</td>\n      <td>51.32766</td>\n      <td>4.36226</td>\n    </tr>\n    <tr>\n      <th>...</th>\n      <td>...</td>\n      <td>...</td>\n      <td>...</td>\n    </tr>\n    <tr>\n      <th>61</th>\n      <td>Southend-on-Sea</td>\n      <td>51.54420</td>\n      <td>0.67841</td>\n    </tr>\n    <tr>\n      <th>62</th>\n      <td>Southwark A2 Old Kent Road</td>\n      <td>51.48050</td>\n      <td>-0.05955</td>\n    </tr>\n    <tr>\n      <th>63</th>\n      <td>Thurrock</td>\n      <td>51.47707</td>\n      <td>0.31797</td>\n    </tr>\n    <tr>\n      <th>64</th>\n      <td>Tower Hamlets Roadside</td>\n      <td>51.52253</td>\n      <td>-0.04216</td>\n    </tr>\n    <tr>\n      <th>65</th>\n      <td>Groton Fort Griswold</td>\n      <td>41.35360</td>\n      <td>-72.07890</td>\n    </tr>\n  </tbody>\n</table>\n<p>66 rows × 3 columns</p>\n</div>"
     },
     "execution_count": 20,
     "metadata": {},
     "output_type": "execute_result"
    }
   ],
   "source": [
    "#join\n",
    "# 观测站经纬度表 location：观测站名称\n",
    "stations = pd.read_csv(\"./assert/air_quality_stations.csv\")\n",
    "stations"
   ],
   "metadata": {
    "collapsed": false,
    "pycharm": {
     "name": "#%%\n"
    }
   }
  },
  {
   "cell_type": "code",
   "execution_count": 21,
   "outputs": [
    {
     "data": {
      "text/plain": "           city country                   date.utc            location  \\\n0     Antwerpen      BE  2019-06-18 06:00:00+00:00             BETR801   \n1     Antwerpen      BE  2019-06-17 08:00:00+00:00             BETR801   \n2     Antwerpen      BE  2019-06-17 07:00:00+00:00             BETR801   \n3     Antwerpen      BE  2019-06-17 06:00:00+00:00             BETR801   \n4     Antwerpen      BE  2019-06-17 05:00:00+00:00             BETR801   \n...         ...     ...                        ...                 ...   \n5267     London      GB  2019-04-09 06:00:00+00:00  London Westminster   \n5268     London      GB  2019-04-09 05:00:00+00:00  London Westminster   \n5269     London      GB  2019-04-09 04:00:00+00:00  London Westminster   \n5270     London      GB  2019-04-09 03:00:00+00:00  London Westminster   \n5271     London      GB  2019-04-09 02:00:00+00:00  London Westminster   \n\n     parameter  value   unit  \n0         pm25   18.0  µg/m³  \n1         pm25    6.5  µg/m³  \n2         pm25   18.5  µg/m³  \n3         pm25   16.0  µg/m³  \n4         pm25    7.5  µg/m³  \n...        ...    ...    ...  \n5267       no2   41.0  µg/m³  \n5268       no2   41.0  µg/m³  \n5269       no2   41.0  µg/m³  \n5270       no2   67.0  µg/m³  \n5271       no2   67.0  µg/m³  \n\n[5272 rows x 7 columns]",
      "text/html": "<div>\n<style scoped>\n    .dataframe tbody tr th:only-of-type {\n        vertical-align: middle;\n    }\n\n    .dataframe tbody tr th {\n        vertical-align: top;\n    }\n\n    .dataframe thead th {\n        text-align: right;\n    }\n</style>\n<table border=\"1\" class=\"dataframe\">\n  <thead>\n    <tr style=\"text-align: right;\">\n      <th></th>\n      <th>city</th>\n      <th>country</th>\n      <th>date.utc</th>\n      <th>location</th>\n      <th>parameter</th>\n      <th>value</th>\n      <th>unit</th>\n    </tr>\n  </thead>\n  <tbody>\n    <tr>\n      <th>0</th>\n      <td>Antwerpen</td>\n      <td>BE</td>\n      <td>2019-06-18 06:00:00+00:00</td>\n      <td>BETR801</td>\n      <td>pm25</td>\n      <td>18.0</td>\n      <td>µg/m³</td>\n    </tr>\n    <tr>\n      <th>1</th>\n      <td>Antwerpen</td>\n      <td>BE</td>\n      <td>2019-06-17 08:00:00+00:00</td>\n      <td>BETR801</td>\n      <td>pm25</td>\n      <td>6.5</td>\n      <td>µg/m³</td>\n    </tr>\n    <tr>\n      <th>2</th>\n      <td>Antwerpen</td>\n      <td>BE</td>\n      <td>2019-06-17 07:00:00+00:00</td>\n      <td>BETR801</td>\n      <td>pm25</td>\n      <td>18.5</td>\n      <td>µg/m³</td>\n    </tr>\n    <tr>\n      <th>3</th>\n      <td>Antwerpen</td>\n      <td>BE</td>\n      <td>2019-06-17 06:00:00+00:00</td>\n      <td>BETR801</td>\n      <td>pm25</td>\n      <td>16.0</td>\n      <td>µg/m³</td>\n    </tr>\n    <tr>\n      <th>4</th>\n      <td>Antwerpen</td>\n      <td>BE</td>\n      <td>2019-06-17 05:00:00+00:00</td>\n      <td>BETR801</td>\n      <td>pm25</td>\n      <td>7.5</td>\n      <td>µg/m³</td>\n    </tr>\n    <tr>\n      <th>...</th>\n      <td>...</td>\n      <td>...</td>\n      <td>...</td>\n      <td>...</td>\n      <td>...</td>\n      <td>...</td>\n      <td>...</td>\n    </tr>\n    <tr>\n      <th>5267</th>\n      <td>London</td>\n      <td>GB</td>\n      <td>2019-04-09 06:00:00+00:00</td>\n      <td>London Westminster</td>\n      <td>no2</td>\n      <td>41.0</td>\n      <td>µg/m³</td>\n    </tr>\n    <tr>\n      <th>5268</th>\n      <td>London</td>\n      <td>GB</td>\n      <td>2019-04-09 05:00:00+00:00</td>\n      <td>London Westminster</td>\n      <td>no2</td>\n      <td>41.0</td>\n      <td>µg/m³</td>\n    </tr>\n    <tr>\n      <th>5269</th>\n      <td>London</td>\n      <td>GB</td>\n      <td>2019-04-09 04:00:00+00:00</td>\n      <td>London Westminster</td>\n      <td>no2</td>\n      <td>41.0</td>\n      <td>µg/m³</td>\n    </tr>\n    <tr>\n      <th>5270</th>\n      <td>London</td>\n      <td>GB</td>\n      <td>2019-04-09 03:00:00+00:00</td>\n      <td>London Westminster</td>\n      <td>no2</td>\n      <td>67.0</td>\n      <td>µg/m³</td>\n    </tr>\n    <tr>\n      <th>5271</th>\n      <td>London</td>\n      <td>GB</td>\n      <td>2019-04-09 02:00:00+00:00</td>\n      <td>London Westminster</td>\n      <td>no2</td>\n      <td>67.0</td>\n      <td>µg/m³</td>\n    </tr>\n  </tbody>\n</table>\n<p>5272 rows × 7 columns</p>\n</div>"
     },
     "execution_count": 21,
     "metadata": {},
     "output_type": "execute_result"
    }
   ],
   "source": [
    "# 空气质量数据 location：观测站名称\n",
    "air = pd.read_csv(\"./assert/air_quality_long.csv\")\n",
    "air"
   ],
   "metadata": {
    "collapsed": false,
    "pycharm": {
     "name": "#%%\n"
    }
   }
  },
  {
   "cell_type": "code",
   "execution_count": 27,
   "outputs": [
    {
     "data": {
      "text/plain": "           city country                   date.utc            location  \\\n0     Antwerpen      BE  2019-06-18 06:00:00+00:00             BETR801   \n1     Antwerpen      BE  2019-06-17 08:00:00+00:00             BETR801   \n2     Antwerpen      BE  2019-06-17 07:00:00+00:00             BETR801   \n3     Antwerpen      BE  2019-06-17 06:00:00+00:00             BETR801   \n4     Antwerpen      BE  2019-06-17 05:00:00+00:00             BETR801   \n...         ...     ...                        ...                 ...   \n6943     London      GB  2019-04-09 06:00:00+00:00  London Westminster   \n6944     London      GB  2019-04-09 05:00:00+00:00  London Westminster   \n6945     London      GB  2019-04-09 04:00:00+00:00  London Westminster   \n6946     London      GB  2019-04-09 03:00:00+00:00  London Westminster   \n6947     London      GB  2019-04-09 02:00:00+00:00  London Westminster   \n\n     parameter  value   unit  coordinates.latitude  coordinates.longitude  \n0         pm25   18.0  µg/m³              51.20966                4.43182  \n1         pm25    6.5  µg/m³              51.20966                4.43182  \n2         pm25   18.5  µg/m³              51.20966                4.43182  \n3         pm25   16.0  µg/m³              51.20966                4.43182  \n4         pm25    7.5  µg/m³              51.20966                4.43182  \n...        ...    ...    ...                   ...                    ...  \n6943       no2   41.0  µg/m³              51.49467               -0.13193  \n6944       no2   41.0  µg/m³              51.49467               -0.13193  \n6945       no2   41.0  µg/m³              51.49467               -0.13193  \n6946       no2   67.0  µg/m³              51.49467               -0.13193  \n6947       no2   67.0  µg/m³              51.49467               -0.13193  \n\n[6948 rows x 9 columns]",
      "text/html": "<div>\n<style scoped>\n    .dataframe tbody tr th:only-of-type {\n        vertical-align: middle;\n    }\n\n    .dataframe tbody tr th {\n        vertical-align: top;\n    }\n\n    .dataframe thead th {\n        text-align: right;\n    }\n</style>\n<table border=\"1\" class=\"dataframe\">\n  <thead>\n    <tr style=\"text-align: right;\">\n      <th></th>\n      <th>city</th>\n      <th>country</th>\n      <th>date.utc</th>\n      <th>location</th>\n      <th>parameter</th>\n      <th>value</th>\n      <th>unit</th>\n      <th>coordinates.latitude</th>\n      <th>coordinates.longitude</th>\n    </tr>\n  </thead>\n  <tbody>\n    <tr>\n      <th>0</th>\n      <td>Antwerpen</td>\n      <td>BE</td>\n      <td>2019-06-18 06:00:00+00:00</td>\n      <td>BETR801</td>\n      <td>pm25</td>\n      <td>18.0</td>\n      <td>µg/m³</td>\n      <td>51.20966</td>\n      <td>4.43182</td>\n    </tr>\n    <tr>\n      <th>1</th>\n      <td>Antwerpen</td>\n      <td>BE</td>\n      <td>2019-06-17 08:00:00+00:00</td>\n      <td>BETR801</td>\n      <td>pm25</td>\n      <td>6.5</td>\n      <td>µg/m³</td>\n      <td>51.20966</td>\n      <td>4.43182</td>\n    </tr>\n    <tr>\n      <th>2</th>\n      <td>Antwerpen</td>\n      <td>BE</td>\n      <td>2019-06-17 07:00:00+00:00</td>\n      <td>BETR801</td>\n      <td>pm25</td>\n      <td>18.5</td>\n      <td>µg/m³</td>\n      <td>51.20966</td>\n      <td>4.43182</td>\n    </tr>\n    <tr>\n      <th>3</th>\n      <td>Antwerpen</td>\n      <td>BE</td>\n      <td>2019-06-17 06:00:00+00:00</td>\n      <td>BETR801</td>\n      <td>pm25</td>\n      <td>16.0</td>\n      <td>µg/m³</td>\n      <td>51.20966</td>\n      <td>4.43182</td>\n    </tr>\n    <tr>\n      <th>4</th>\n      <td>Antwerpen</td>\n      <td>BE</td>\n      <td>2019-06-17 05:00:00+00:00</td>\n      <td>BETR801</td>\n      <td>pm25</td>\n      <td>7.5</td>\n      <td>µg/m³</td>\n      <td>51.20966</td>\n      <td>4.43182</td>\n    </tr>\n    <tr>\n      <th>...</th>\n      <td>...</td>\n      <td>...</td>\n      <td>...</td>\n      <td>...</td>\n      <td>...</td>\n      <td>...</td>\n      <td>...</td>\n      <td>...</td>\n      <td>...</td>\n    </tr>\n    <tr>\n      <th>6943</th>\n      <td>London</td>\n      <td>GB</td>\n      <td>2019-04-09 06:00:00+00:00</td>\n      <td>London Westminster</td>\n      <td>no2</td>\n      <td>41.0</td>\n      <td>µg/m³</td>\n      <td>51.49467</td>\n      <td>-0.13193</td>\n    </tr>\n    <tr>\n      <th>6944</th>\n      <td>London</td>\n      <td>GB</td>\n      <td>2019-04-09 05:00:00+00:00</td>\n      <td>London Westminster</td>\n      <td>no2</td>\n      <td>41.0</td>\n      <td>µg/m³</td>\n      <td>51.49467</td>\n      <td>-0.13193</td>\n    </tr>\n    <tr>\n      <th>6945</th>\n      <td>London</td>\n      <td>GB</td>\n      <td>2019-04-09 04:00:00+00:00</td>\n      <td>London Westminster</td>\n      <td>no2</td>\n      <td>41.0</td>\n      <td>µg/m³</td>\n      <td>51.49467</td>\n      <td>-0.13193</td>\n    </tr>\n    <tr>\n      <th>6946</th>\n      <td>London</td>\n      <td>GB</td>\n      <td>2019-04-09 03:00:00+00:00</td>\n      <td>London Westminster</td>\n      <td>no2</td>\n      <td>67.0</td>\n      <td>µg/m³</td>\n      <td>51.49467</td>\n      <td>-0.13193</td>\n    </tr>\n    <tr>\n      <th>6947</th>\n      <td>London</td>\n      <td>GB</td>\n      <td>2019-04-09 02:00:00+00:00</td>\n      <td>London Westminster</td>\n      <td>no2</td>\n      <td>67.0</td>\n      <td>µg/m³</td>\n      <td>51.49467</td>\n      <td>-0.13193</td>\n    </tr>\n  </tbody>\n</table>\n<p>6948 rows × 9 columns</p>\n</div>"
     },
     "execution_count": 27,
     "metadata": {},
     "output_type": "execute_result"
    }
   ],
   "source": [
    "#合并\n",
    "pd.merge(air,stations,on=\"location\",how=\"left\")"
   ],
   "metadata": {
    "collapsed": false,
    "pycharm": {
     "name": "#%%\n"
    }
   }
  },
  {
   "cell_type": "code",
   "execution_count": 29,
   "outputs": [
    {
     "data": {
      "text/plain": "           city country                   date.utc            location  \\\n0     Antwerpen      BE  2019-06-18 06:00:00+00:00             BETR801   \n1     Antwerpen      BE  2019-06-17 08:00:00+00:00             BETR801   \n2     Antwerpen      BE  2019-06-17 07:00:00+00:00             BETR801   \n3     Antwerpen      BE  2019-06-17 06:00:00+00:00             BETR801   \n4     Antwerpen      BE  2019-06-17 05:00:00+00:00             BETR801   \n...         ...     ...                        ...                 ...   \n6943     London      GB  2019-04-09 06:00:00+00:00  London Westminster   \n6944     London      GB  2019-04-09 05:00:00+00:00  London Westminster   \n6945     London      GB  2019-04-09 04:00:00+00:00  London Westminster   \n6946     London      GB  2019-04-09 03:00:00+00:00  London Westminster   \n6947     London      GB  2019-04-09 02:00:00+00:00  London Westminster   \n\n     parameter  value   unit  coordinates.latitude  coordinates.longitude  \n0         pm25   18.0  µg/m³              51.20966                4.43182  \n1         pm25    6.5  µg/m³              51.20966                4.43182  \n2         pm25   18.5  µg/m³              51.20966                4.43182  \n3         pm25   16.0  µg/m³              51.20966                4.43182  \n4         pm25    7.5  µg/m³              51.20966                4.43182  \n...        ...    ...    ...                   ...                    ...  \n6943       no2   41.0  µg/m³              51.49467               -0.13193  \n6944       no2   41.0  µg/m³              51.49467               -0.13193  \n6945       no2   41.0  µg/m³              51.49467               -0.13193  \n6946       no2   67.0  µg/m³              51.49467               -0.13193  \n6947       no2   67.0  µg/m³              51.49467               -0.13193  \n\n[6948 rows x 9 columns]",
      "text/html": "<div>\n<style scoped>\n    .dataframe tbody tr th:only-of-type {\n        vertical-align: middle;\n    }\n\n    .dataframe tbody tr th {\n        vertical-align: top;\n    }\n\n    .dataframe thead th {\n        text-align: right;\n    }\n</style>\n<table border=\"1\" class=\"dataframe\">\n  <thead>\n    <tr style=\"text-align: right;\">\n      <th></th>\n      <th>city</th>\n      <th>country</th>\n      <th>date.utc</th>\n      <th>location</th>\n      <th>parameter</th>\n      <th>value</th>\n      <th>unit</th>\n      <th>coordinates.latitude</th>\n      <th>coordinates.longitude</th>\n    </tr>\n  </thead>\n  <tbody>\n    <tr>\n      <th>0</th>\n      <td>Antwerpen</td>\n      <td>BE</td>\n      <td>2019-06-18 06:00:00+00:00</td>\n      <td>BETR801</td>\n      <td>pm25</td>\n      <td>18.0</td>\n      <td>µg/m³</td>\n      <td>51.20966</td>\n      <td>4.43182</td>\n    </tr>\n    <tr>\n      <th>1</th>\n      <td>Antwerpen</td>\n      <td>BE</td>\n      <td>2019-06-17 08:00:00+00:00</td>\n      <td>BETR801</td>\n      <td>pm25</td>\n      <td>6.5</td>\n      <td>µg/m³</td>\n      <td>51.20966</td>\n      <td>4.43182</td>\n    </tr>\n    <tr>\n      <th>2</th>\n      <td>Antwerpen</td>\n      <td>BE</td>\n      <td>2019-06-17 07:00:00+00:00</td>\n      <td>BETR801</td>\n      <td>pm25</td>\n      <td>18.5</td>\n      <td>µg/m³</td>\n      <td>51.20966</td>\n      <td>4.43182</td>\n    </tr>\n    <tr>\n      <th>3</th>\n      <td>Antwerpen</td>\n      <td>BE</td>\n      <td>2019-06-17 06:00:00+00:00</td>\n      <td>BETR801</td>\n      <td>pm25</td>\n      <td>16.0</td>\n      <td>µg/m³</td>\n      <td>51.20966</td>\n      <td>4.43182</td>\n    </tr>\n    <tr>\n      <th>4</th>\n      <td>Antwerpen</td>\n      <td>BE</td>\n      <td>2019-06-17 05:00:00+00:00</td>\n      <td>BETR801</td>\n      <td>pm25</td>\n      <td>7.5</td>\n      <td>µg/m³</td>\n      <td>51.20966</td>\n      <td>4.43182</td>\n    </tr>\n    <tr>\n      <th>...</th>\n      <td>...</td>\n      <td>...</td>\n      <td>...</td>\n      <td>...</td>\n      <td>...</td>\n      <td>...</td>\n      <td>...</td>\n      <td>...</td>\n      <td>...</td>\n    </tr>\n    <tr>\n      <th>6943</th>\n      <td>London</td>\n      <td>GB</td>\n      <td>2019-04-09 06:00:00+00:00</td>\n      <td>London Westminster</td>\n      <td>no2</td>\n      <td>41.0</td>\n      <td>µg/m³</td>\n      <td>51.49467</td>\n      <td>-0.13193</td>\n    </tr>\n    <tr>\n      <th>6944</th>\n      <td>London</td>\n      <td>GB</td>\n      <td>2019-04-09 05:00:00+00:00</td>\n      <td>London Westminster</td>\n      <td>no2</td>\n      <td>41.0</td>\n      <td>µg/m³</td>\n      <td>51.49467</td>\n      <td>-0.13193</td>\n    </tr>\n    <tr>\n      <th>6945</th>\n      <td>London</td>\n      <td>GB</td>\n      <td>2019-04-09 04:00:00+00:00</td>\n      <td>London Westminster</td>\n      <td>no2</td>\n      <td>41.0</td>\n      <td>µg/m³</td>\n      <td>51.49467</td>\n      <td>-0.13193</td>\n    </tr>\n    <tr>\n      <th>6946</th>\n      <td>London</td>\n      <td>GB</td>\n      <td>2019-04-09 03:00:00+00:00</td>\n      <td>London Westminster</td>\n      <td>no2</td>\n      <td>67.0</td>\n      <td>µg/m³</td>\n      <td>51.49467</td>\n      <td>-0.13193</td>\n    </tr>\n    <tr>\n      <th>6947</th>\n      <td>London</td>\n      <td>GB</td>\n      <td>2019-04-09 02:00:00+00:00</td>\n      <td>London Westminster</td>\n      <td>no2</td>\n      <td>67.0</td>\n      <td>µg/m³</td>\n      <td>51.49467</td>\n      <td>-0.13193</td>\n    </tr>\n  </tbody>\n</table>\n<p>6948 rows × 9 columns</p>\n</div>"
     },
     "execution_count": 29,
     "metadata": {},
     "output_type": "execute_result"
    }
   ],
   "source": [
    "#还可以这样\n",
    "pd.merge(air, stations, how=\"left\", right_on=\"location\", left_on=\"location\")"
   ],
   "metadata": {
    "collapsed": false,
    "pycharm": {
     "name": "#%%\n"
    }
   }
  }
 ],
 "metadata": {
  "kernelspec": {
   "name": "pycharm-d6d2fd5a",
   "language": "python",
   "display_name": "PyCharm (pythonBase)"
  },
  "language_info": {
   "codemirror_mode": {
    "name": "ipython",
    "version": 2
   },
   "file_extension": ".py",
   "mimetype": "text/x-python",
   "name": "python",
   "nbconvert_exporter": "python",
   "pygments_lexer": "ipython2",
   "version": "2.7.6"
  }
 },
 "nbformat": 4,
 "nbformat_minor": 0
}