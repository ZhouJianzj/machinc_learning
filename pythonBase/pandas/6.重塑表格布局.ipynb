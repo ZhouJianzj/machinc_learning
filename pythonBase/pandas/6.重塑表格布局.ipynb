{
 "cells": [
  {
   "cell_type": "code",
   "execution_count": 176,
   "metadata": {
    "collapsed": true
   },
   "outputs": [],
   "source": [
    "import pandas as pd"
   ]
  },
  {
   "cell_type": "code",
   "execution_count": 177,
   "outputs": [
    {
     "data": {
      "text/plain": "   PassengerId  Survived  Pclass  \\\n0            1         0       3   \n1            2         1       1   \n2            3         1       3   \n3            4         1       1   \n4            5         0       3   \n\n                                                Name     Sex   Age  SibSp  \\\n0                            Braund, Mr. Owen Harris    male  22.0      1   \n1  Cumings, Mrs. John Bradley (Florence Briggs Th...  female  38.0      1   \n2                             Heikkinen, Miss. Laina  female  26.0      0   \n3       Futrelle, Mrs. Jacques Heath (Lily May Peel)  female  35.0      1   \n4                           Allen, Mr. William Henry    male  35.0      0   \n\n   Parch            Ticket     Fare Cabin Embarked  \n0      0         A/5 21171   7.2500   NaN        S  \n1      0          PC 17599  71.2833   C85        C  \n2      0  STON/O2. 3101282   7.9250   NaN        S  \n3      0            113803  53.1000  C123        S  \n4      0            373450   8.0500   NaN        S  ",
      "text/html": "<div>\n<style scoped>\n    .dataframe tbody tr th:only-of-type {\n        vertical-align: middle;\n    }\n\n    .dataframe tbody tr th {\n        vertical-align: top;\n    }\n\n    .dataframe thead th {\n        text-align: right;\n    }\n</style>\n<table border=\"1\" class=\"dataframe\">\n  <thead>\n    <tr style=\"text-align: right;\">\n      <th></th>\n      <th>PassengerId</th>\n      <th>Survived</th>\n      <th>Pclass</th>\n      <th>Name</th>\n      <th>Sex</th>\n      <th>Age</th>\n      <th>SibSp</th>\n      <th>Parch</th>\n      <th>Ticket</th>\n      <th>Fare</th>\n      <th>Cabin</th>\n      <th>Embarked</th>\n    </tr>\n  </thead>\n  <tbody>\n    <tr>\n      <th>0</th>\n      <td>1</td>\n      <td>0</td>\n      <td>3</td>\n      <td>Braund, Mr. Owen Harris</td>\n      <td>male</td>\n      <td>22.0</td>\n      <td>1</td>\n      <td>0</td>\n      <td>A/5 21171</td>\n      <td>7.2500</td>\n      <td>NaN</td>\n      <td>S</td>\n    </tr>\n    <tr>\n      <th>1</th>\n      <td>2</td>\n      <td>1</td>\n      <td>1</td>\n      <td>Cumings, Mrs. John Bradley (Florence Briggs Th...</td>\n      <td>female</td>\n      <td>38.0</td>\n      <td>1</td>\n      <td>0</td>\n      <td>PC 17599</td>\n      <td>71.2833</td>\n      <td>C85</td>\n      <td>C</td>\n    </tr>\n    <tr>\n      <th>2</th>\n      <td>3</td>\n      <td>1</td>\n      <td>3</td>\n      <td>Heikkinen, Miss. Laina</td>\n      <td>female</td>\n      <td>26.0</td>\n      <td>0</td>\n      <td>0</td>\n      <td>STON/O2. 3101282</td>\n      <td>7.9250</td>\n      <td>NaN</td>\n      <td>S</td>\n    </tr>\n    <tr>\n      <th>3</th>\n      <td>4</td>\n      <td>1</td>\n      <td>1</td>\n      <td>Futrelle, Mrs. Jacques Heath (Lily May Peel)</td>\n      <td>female</td>\n      <td>35.0</td>\n      <td>1</td>\n      <td>0</td>\n      <td>113803</td>\n      <td>53.1000</td>\n      <td>C123</td>\n      <td>S</td>\n    </tr>\n    <tr>\n      <th>4</th>\n      <td>5</td>\n      <td>0</td>\n      <td>3</td>\n      <td>Allen, Mr. William Henry</td>\n      <td>male</td>\n      <td>35.0</td>\n      <td>0</td>\n      <td>0</td>\n      <td>373450</td>\n      <td>8.0500</td>\n      <td>NaN</td>\n      <td>S</td>\n    </tr>\n  </tbody>\n</table>\n</div>"
     },
     "execution_count": 177,
     "metadata": {},
     "output_type": "execute_result"
    }
   ],
   "source": [
    "data = pd.read_csv(\"./assert/titanic.csv\")\n",
    "data.head()"
   ],
   "metadata": {
    "collapsed": false,
    "pycharm": {
     "name": "#%%\n"
    }
   }
  },
  {
   "cell_type": "code",
   "execution_count": 178,
   "outputs": [
    {
     "data": {
      "text/plain": "     PassengerId  Survived  Pclass                                  Name  \\\n305          306         1       1        Allison, Master. Hudson Trevor   \n183          184         1       2             Becker, Master. Richard F   \n205          206         0       3            Strom, Miss. Telma Matilda   \n297          298         0       1          Allison, Miss. Helen Loraine   \n340          341         1       2        Navratil, Master. Edmond Roger   \n..           ...       ...     ...                                   ...   \n54            55         0       1        Ostby, Mr. Engelhart Cornelius   \n456          457         0       1             Millet, Mr. Francis Davis   \n745          746         0       1          Crosby, Capt. Edward Gifford   \n96            97         0       1             Goldschmidt, Mr. George B   \n630          631         1       1  Barkworth, Mr. Algernon Henry Wilson   \n\n        Sex    Age  SibSp  Parch     Ticket      Fare    Cabin Embarked  \n305    male   0.92      1      2     113781  151.5500  C22 C26        S  \n183    male   1.00      2      1     230136   39.0000       F4        S  \n205  female   2.00      0      1     347054   10.4625       G6        S  \n297  female   2.00      1      2     113781  151.5500  C22 C26        S  \n340    male   2.00      1      1     230080   26.0000       F2        S  \n..      ...    ...    ...    ...        ...       ...      ...      ...  \n54     male  65.00      0      1     113509   61.9792      B30        C  \n456    male  65.00      0      0      13509   26.5500      E38        S  \n745    male  70.00      1      1  WE/P 5735   71.0000      B22        S  \n96     male  71.00      0      0   PC 17754   34.6542       A5        C  \n630    male  80.00      0      0      27042   30.0000      A23        S  \n\n[183 rows x 12 columns]",
      "text/html": "<div>\n<style scoped>\n    .dataframe tbody tr th:only-of-type {\n        vertical-align: middle;\n    }\n\n    .dataframe tbody tr th {\n        vertical-align: top;\n    }\n\n    .dataframe thead th {\n        text-align: right;\n    }\n</style>\n<table border=\"1\" class=\"dataframe\">\n  <thead>\n    <tr style=\"text-align: right;\">\n      <th></th>\n      <th>PassengerId</th>\n      <th>Survived</th>\n      <th>Pclass</th>\n      <th>Name</th>\n      <th>Sex</th>\n      <th>Age</th>\n      <th>SibSp</th>\n      <th>Parch</th>\n      <th>Ticket</th>\n      <th>Fare</th>\n      <th>Cabin</th>\n      <th>Embarked</th>\n    </tr>\n  </thead>\n  <tbody>\n    <tr>\n      <th>305</th>\n      <td>306</td>\n      <td>1</td>\n      <td>1</td>\n      <td>Allison, Master. Hudson Trevor</td>\n      <td>male</td>\n      <td>0.92</td>\n      <td>1</td>\n      <td>2</td>\n      <td>113781</td>\n      <td>151.5500</td>\n      <td>C22 C26</td>\n      <td>S</td>\n    </tr>\n    <tr>\n      <th>183</th>\n      <td>184</td>\n      <td>1</td>\n      <td>2</td>\n      <td>Becker, Master. Richard F</td>\n      <td>male</td>\n      <td>1.00</td>\n      <td>2</td>\n      <td>1</td>\n      <td>230136</td>\n      <td>39.0000</td>\n      <td>F4</td>\n      <td>S</td>\n    </tr>\n    <tr>\n      <th>205</th>\n      <td>206</td>\n      <td>0</td>\n      <td>3</td>\n      <td>Strom, Miss. Telma Matilda</td>\n      <td>female</td>\n      <td>2.00</td>\n      <td>0</td>\n      <td>1</td>\n      <td>347054</td>\n      <td>10.4625</td>\n      <td>G6</td>\n      <td>S</td>\n    </tr>\n    <tr>\n      <th>297</th>\n      <td>298</td>\n      <td>0</td>\n      <td>1</td>\n      <td>Allison, Miss. Helen Loraine</td>\n      <td>female</td>\n      <td>2.00</td>\n      <td>1</td>\n      <td>2</td>\n      <td>113781</td>\n      <td>151.5500</td>\n      <td>C22 C26</td>\n      <td>S</td>\n    </tr>\n    <tr>\n      <th>340</th>\n      <td>341</td>\n      <td>1</td>\n      <td>2</td>\n      <td>Navratil, Master. Edmond Roger</td>\n      <td>male</td>\n      <td>2.00</td>\n      <td>1</td>\n      <td>1</td>\n      <td>230080</td>\n      <td>26.0000</td>\n      <td>F2</td>\n      <td>S</td>\n    </tr>\n    <tr>\n      <th>...</th>\n      <td>...</td>\n      <td>...</td>\n      <td>...</td>\n      <td>...</td>\n      <td>...</td>\n      <td>...</td>\n      <td>...</td>\n      <td>...</td>\n      <td>...</td>\n      <td>...</td>\n      <td>...</td>\n      <td>...</td>\n    </tr>\n    <tr>\n      <th>54</th>\n      <td>55</td>\n      <td>0</td>\n      <td>1</td>\n      <td>Ostby, Mr. Engelhart Cornelius</td>\n      <td>male</td>\n      <td>65.00</td>\n      <td>0</td>\n      <td>1</td>\n      <td>113509</td>\n      <td>61.9792</td>\n      <td>B30</td>\n      <td>C</td>\n    </tr>\n    <tr>\n      <th>456</th>\n      <td>457</td>\n      <td>0</td>\n      <td>1</td>\n      <td>Millet, Mr. Francis Davis</td>\n      <td>male</td>\n      <td>65.00</td>\n      <td>0</td>\n      <td>0</td>\n      <td>13509</td>\n      <td>26.5500</td>\n      <td>E38</td>\n      <td>S</td>\n    </tr>\n    <tr>\n      <th>745</th>\n      <td>746</td>\n      <td>0</td>\n      <td>1</td>\n      <td>Crosby, Capt. Edward Gifford</td>\n      <td>male</td>\n      <td>70.00</td>\n      <td>1</td>\n      <td>1</td>\n      <td>WE/P 5735</td>\n      <td>71.0000</td>\n      <td>B22</td>\n      <td>S</td>\n    </tr>\n    <tr>\n      <th>96</th>\n      <td>97</td>\n      <td>0</td>\n      <td>1</td>\n      <td>Goldschmidt, Mr. George B</td>\n      <td>male</td>\n      <td>71.00</td>\n      <td>0</td>\n      <td>0</td>\n      <td>PC 17754</td>\n      <td>34.6542</td>\n      <td>A5</td>\n      <td>C</td>\n    </tr>\n    <tr>\n      <th>630</th>\n      <td>631</td>\n      <td>1</td>\n      <td>1</td>\n      <td>Barkworth, Mr. Algernon Henry Wilson</td>\n      <td>male</td>\n      <td>80.00</td>\n      <td>0</td>\n      <td>0</td>\n      <td>27042</td>\n      <td>30.0000</td>\n      <td>A23</td>\n      <td>S</td>\n    </tr>\n  </tbody>\n</table>\n<p>183 rows × 12 columns</p>\n</div>"
     },
     "execution_count": 178,
     "metadata": {},
     "output_type": "execute_result"
    }
   ],
   "source": [
    "# 按照Age升序排序，dropna()过滤掉NaN\n",
    "data.dropna().sort_values([\"Age\"])"
   ],
   "metadata": {
    "collapsed": false,
    "pycharm": {
     "name": "#%%\n"
    }
   }
  },
  {
   "cell_type": "code",
   "execution_count": 179,
   "outputs": [
    {
     "data": {
      "text/plain": "                                city country            location parameter  \\\ndate.utc                                                                     \n2019-06-18 06:00:00+00:00  Antwerpen      BE             BETR801      pm25   \n2019-06-17 08:00:00+00:00  Antwerpen      BE             BETR801      pm25   \n2019-06-17 07:00:00+00:00  Antwerpen      BE             BETR801      pm25   \n2019-06-17 06:00:00+00:00  Antwerpen      BE             BETR801      pm25   \n2019-06-17 05:00:00+00:00  Antwerpen      BE             BETR801      pm25   \n...                              ...     ...                 ...       ...   \n2019-04-09 06:00:00+00:00     London      GB  London Westminster       no2   \n2019-04-09 05:00:00+00:00     London      GB  London Westminster       no2   \n2019-04-09 04:00:00+00:00     London      GB  London Westminster       no2   \n2019-04-09 03:00:00+00:00     London      GB  London Westminster       no2   \n2019-04-09 02:00:00+00:00     London      GB  London Westminster       no2   \n\n                           value   unit  \ndate.utc                                 \n2019-06-18 06:00:00+00:00   18.0  µg/m³  \n2019-06-17 08:00:00+00:00    6.5  µg/m³  \n2019-06-17 07:00:00+00:00   18.5  µg/m³  \n2019-06-17 06:00:00+00:00   16.0  µg/m³  \n2019-06-17 05:00:00+00:00    7.5  µg/m³  \n...                          ...    ...  \n2019-04-09 06:00:00+00:00   41.0  µg/m³  \n2019-04-09 05:00:00+00:00   41.0  µg/m³  \n2019-04-09 04:00:00+00:00   41.0  µg/m³  \n2019-04-09 03:00:00+00:00   67.0  µg/m³  \n2019-04-09 02:00:00+00:00   67.0  µg/m³  \n\n[5272 rows x 6 columns]",
      "text/html": "<div>\n<style scoped>\n    .dataframe tbody tr th:only-of-type {\n        vertical-align: middle;\n    }\n\n    .dataframe tbody tr th {\n        vertical-align: top;\n    }\n\n    .dataframe thead th {\n        text-align: right;\n    }\n</style>\n<table border=\"1\" class=\"dataframe\">\n  <thead>\n    <tr style=\"text-align: right;\">\n      <th></th>\n      <th>city</th>\n      <th>country</th>\n      <th>location</th>\n      <th>parameter</th>\n      <th>value</th>\n      <th>unit</th>\n    </tr>\n    <tr>\n      <th>date.utc</th>\n      <th></th>\n      <th></th>\n      <th></th>\n      <th></th>\n      <th></th>\n      <th></th>\n    </tr>\n  </thead>\n  <tbody>\n    <tr>\n      <th>2019-06-18 06:00:00+00:00</th>\n      <td>Antwerpen</td>\n      <td>BE</td>\n      <td>BETR801</td>\n      <td>pm25</td>\n      <td>18.0</td>\n      <td>µg/m³</td>\n    </tr>\n    <tr>\n      <th>2019-06-17 08:00:00+00:00</th>\n      <td>Antwerpen</td>\n      <td>BE</td>\n      <td>BETR801</td>\n      <td>pm25</td>\n      <td>6.5</td>\n      <td>µg/m³</td>\n    </tr>\n    <tr>\n      <th>2019-06-17 07:00:00+00:00</th>\n      <td>Antwerpen</td>\n      <td>BE</td>\n      <td>BETR801</td>\n      <td>pm25</td>\n      <td>18.5</td>\n      <td>µg/m³</td>\n    </tr>\n    <tr>\n      <th>2019-06-17 06:00:00+00:00</th>\n      <td>Antwerpen</td>\n      <td>BE</td>\n      <td>BETR801</td>\n      <td>pm25</td>\n      <td>16.0</td>\n      <td>µg/m³</td>\n    </tr>\n    <tr>\n      <th>2019-06-17 05:00:00+00:00</th>\n      <td>Antwerpen</td>\n      <td>BE</td>\n      <td>BETR801</td>\n      <td>pm25</td>\n      <td>7.5</td>\n      <td>µg/m³</td>\n    </tr>\n    <tr>\n      <th>...</th>\n      <td>...</td>\n      <td>...</td>\n      <td>...</td>\n      <td>...</td>\n      <td>...</td>\n      <td>...</td>\n    </tr>\n    <tr>\n      <th>2019-04-09 06:00:00+00:00</th>\n      <td>London</td>\n      <td>GB</td>\n      <td>London Westminster</td>\n      <td>no2</td>\n      <td>41.0</td>\n      <td>µg/m³</td>\n    </tr>\n    <tr>\n      <th>2019-04-09 05:00:00+00:00</th>\n      <td>London</td>\n      <td>GB</td>\n      <td>London Westminster</td>\n      <td>no2</td>\n      <td>41.0</td>\n      <td>µg/m³</td>\n    </tr>\n    <tr>\n      <th>2019-04-09 04:00:00+00:00</th>\n      <td>London</td>\n      <td>GB</td>\n      <td>London Westminster</td>\n      <td>no2</td>\n      <td>41.0</td>\n      <td>µg/m³</td>\n    </tr>\n    <tr>\n      <th>2019-04-09 03:00:00+00:00</th>\n      <td>London</td>\n      <td>GB</td>\n      <td>London Westminster</td>\n      <td>no2</td>\n      <td>67.0</td>\n      <td>µg/m³</td>\n    </tr>\n    <tr>\n      <th>2019-04-09 02:00:00+00:00</th>\n      <td>London</td>\n      <td>GB</td>\n      <td>London Westminster</td>\n      <td>no2</td>\n      <td>67.0</td>\n      <td>µg/m³</td>\n    </tr>\n  </tbody>\n</table>\n<p>5272 rows × 6 columns</p>\n</div>"
     },
     "execution_count": 179,
     "metadata": {},
     "output_type": "execute_result"
    }
   ],
   "source": [
    "air = pd.read_csv(\"./assert/air_quality_long.csv\",index_col=\"date.utc\", parse_dates=True)\n",
    "air"
   ],
   "metadata": {
    "collapsed": false,
    "pycharm": {
     "name": "#%%\n"
    }
   }
  },
  {
   "cell_type": "code",
   "execution_count": 180,
   "outputs": [
    {
     "data": {
      "text/plain": "                                city country            location parameter  \\\ndate.utc                                                                     \n2019-06-21 00:00:00+00:00      Paris      FR             FR04014       no2   \n2019-06-20 23:00:00+00:00      Paris      FR             FR04014       no2   \n2019-06-17 08:00:00+00:00  Antwerpen      BE             BETR801       no2   \n2019-06-17 07:00:00+00:00  Antwerpen      BE             BETR801       no2   \n2019-06-17 11:00:00+00:00     London      GB  London Westminster       no2   \n2019-06-17 10:00:00+00:00     London      GB  London Westminster       no2   \n\n                           value   unit  \ndate.utc                                 \n2019-06-21 00:00:00+00:00   20.0  µg/m³  \n2019-06-20 23:00:00+00:00   21.8  µg/m³  \n2019-06-17 08:00:00+00:00   41.0  µg/m³  \n2019-06-17 07:00:00+00:00   45.0  µg/m³  \n2019-06-17 11:00:00+00:00   11.0  µg/m³  \n2019-06-17 10:00:00+00:00   11.0  µg/m³  ",
      "text/html": "<div>\n<style scoped>\n    .dataframe tbody tr th:only-of-type {\n        vertical-align: middle;\n    }\n\n    .dataframe tbody tr th {\n        vertical-align: top;\n    }\n\n    .dataframe thead th {\n        text-align: right;\n    }\n</style>\n<table border=\"1\" class=\"dataframe\">\n  <thead>\n    <tr style=\"text-align: right;\">\n      <th></th>\n      <th>city</th>\n      <th>country</th>\n      <th>location</th>\n      <th>parameter</th>\n      <th>value</th>\n      <th>unit</th>\n    </tr>\n    <tr>\n      <th>date.utc</th>\n      <th></th>\n      <th></th>\n      <th></th>\n      <th></th>\n      <th></th>\n      <th></th>\n    </tr>\n  </thead>\n  <tbody>\n    <tr>\n      <th>2019-06-21 00:00:00+00:00</th>\n      <td>Paris</td>\n      <td>FR</td>\n      <td>FR04014</td>\n      <td>no2</td>\n      <td>20.0</td>\n      <td>µg/m³</td>\n    </tr>\n    <tr>\n      <th>2019-06-20 23:00:00+00:00</th>\n      <td>Paris</td>\n      <td>FR</td>\n      <td>FR04014</td>\n      <td>no2</td>\n      <td>21.8</td>\n      <td>µg/m³</td>\n    </tr>\n    <tr>\n      <th>2019-06-17 08:00:00+00:00</th>\n      <td>Antwerpen</td>\n      <td>BE</td>\n      <td>BETR801</td>\n      <td>no2</td>\n      <td>41.0</td>\n      <td>µg/m³</td>\n    </tr>\n    <tr>\n      <th>2019-06-17 07:00:00+00:00</th>\n      <td>Antwerpen</td>\n      <td>BE</td>\n      <td>BETR801</td>\n      <td>no2</td>\n      <td>45.0</td>\n      <td>µg/m³</td>\n    </tr>\n    <tr>\n      <th>2019-06-17 11:00:00+00:00</th>\n      <td>London</td>\n      <td>GB</td>\n      <td>London Westminster</td>\n      <td>no2</td>\n      <td>11.0</td>\n      <td>µg/m³</td>\n    </tr>\n    <tr>\n      <th>2019-06-17 10:00:00+00:00</th>\n      <td>London</td>\n      <td>GB</td>\n      <td>London Westminster</td>\n      <td>no2</td>\n      <td>11.0</td>\n      <td>µg/m³</td>\n    </tr>\n  </tbody>\n</table>\n</div>"
     },
     "execution_count": 180,
     "metadata": {},
     "output_type": "execute_result"
    }
   ],
   "source": [
    "new_air = air[(air[\"parameter\"] == \"no2\")].groupby(\"location\").head(2)\n",
    "new_air"
   ],
   "metadata": {
    "collapsed": false,
    "pycharm": {
     "name": "#%%\n"
    }
   }
  },
  {
   "cell_type": "code",
   "execution_count": 181,
   "outputs": [
    {
     "data": {
      "text/plain": "location                   BETR801  FR04014  London Westminster\ndate.utc                                                       \n2019-06-17 07:00:00+00:00     45.0      NaN                 NaN\n2019-06-17 08:00:00+00:00     41.0      NaN                 NaN\n2019-06-17 10:00:00+00:00      NaN      NaN                11.0\n2019-06-17 11:00:00+00:00      NaN      NaN                11.0\n2019-06-20 23:00:00+00:00      NaN     21.8                 NaN\n2019-06-21 00:00:00+00:00      NaN     20.0                 NaN",
      "text/html": "<div>\n<style scoped>\n    .dataframe tbody tr th:only-of-type {\n        vertical-align: middle;\n    }\n\n    .dataframe tbody tr th {\n        vertical-align: top;\n    }\n\n    .dataframe thead th {\n        text-align: right;\n    }\n</style>\n<table border=\"1\" class=\"dataframe\">\n  <thead>\n    <tr style=\"text-align: right;\">\n      <th>location</th>\n      <th>BETR801</th>\n      <th>FR04014</th>\n      <th>London Westminster</th>\n    </tr>\n    <tr>\n      <th>date.utc</th>\n      <th></th>\n      <th></th>\n      <th></th>\n    </tr>\n  </thead>\n  <tbody>\n    <tr>\n      <th>2019-06-17 07:00:00+00:00</th>\n      <td>45.0</td>\n      <td>NaN</td>\n      <td>NaN</td>\n    </tr>\n    <tr>\n      <th>2019-06-17 08:00:00+00:00</th>\n      <td>41.0</td>\n      <td>NaN</td>\n      <td>NaN</td>\n    </tr>\n    <tr>\n      <th>2019-06-17 10:00:00+00:00</th>\n      <td>NaN</td>\n      <td>NaN</td>\n      <td>11.0</td>\n    </tr>\n    <tr>\n      <th>2019-06-17 11:00:00+00:00</th>\n      <td>NaN</td>\n      <td>NaN</td>\n      <td>11.0</td>\n    </tr>\n    <tr>\n      <th>2019-06-20 23:00:00+00:00</th>\n      <td>NaN</td>\n      <td>21.8</td>\n      <td>NaN</td>\n    </tr>\n    <tr>\n      <th>2019-06-21 00:00:00+00:00</th>\n      <td>NaN</td>\n      <td>20.0</td>\n      <td>NaN</td>\n    </tr>\n  </tbody>\n</table>\n</div>"
     },
     "execution_count": 181,
     "metadata": {},
     "output_type": "execute_result"
    }
   ],
   "source": [
    "#对分组之后数据进行整形：columns-->使原先columns_value为 column_label values:为需要获取的值\n",
    "new_air.pivot(columns=\"location\",values=\"value\")\n",
    "\n",
    "# air.pivot(columns=\"location\",values=\"value\").plot()"
   ],
   "metadata": {
    "collapsed": false,
    "pycharm": {
     "name": "#%%\n"
    }
   }
  },
  {
   "cell_type": "code",
   "execution_count": 182,
   "outputs": [
    {
     "data": {
      "text/plain": "parameter                 no2       pm25        All\nlocation                                           \nBETR801             26.950920  23.169492  24.982353\nFR04014             29.374284        NaN  29.374284\nLondon Westminster  29.740050  13.443568  21.491708\nAll                 29.430316  14.386849  24.222743",
      "text/html": "<div>\n<style scoped>\n    .dataframe tbody tr th:only-of-type {\n        vertical-align: middle;\n    }\n\n    .dataframe tbody tr th {\n        vertical-align: top;\n    }\n\n    .dataframe thead th {\n        text-align: right;\n    }\n</style>\n<table border=\"1\" class=\"dataframe\">\n  <thead>\n    <tr style=\"text-align: right;\">\n      <th>parameter</th>\n      <th>no2</th>\n      <th>pm25</th>\n      <th>All</th>\n    </tr>\n    <tr>\n      <th>location</th>\n      <th></th>\n      <th></th>\n      <th></th>\n    </tr>\n  </thead>\n  <tbody>\n    <tr>\n      <th>BETR801</th>\n      <td>26.950920</td>\n      <td>23.169492</td>\n      <td>24.982353</td>\n    </tr>\n    <tr>\n      <th>FR04014</th>\n      <td>29.374284</td>\n      <td>NaN</td>\n      <td>29.374284</td>\n    </tr>\n    <tr>\n      <th>London Westminster</th>\n      <td>29.740050</td>\n      <td>13.443568</td>\n      <td>21.491708</td>\n    </tr>\n    <tr>\n      <th>All</th>\n      <td>29.430316</td>\n      <td>14.386849</td>\n      <td>24.222743</td>\n    </tr>\n  </tbody>\n</table>\n</div>"
     },
     "execution_count": 182,
     "metadata": {},
     "output_type": "execute_result"
    }
   ],
   "source": [
    "# 数据透视表\n",
    "# 展示各个地区采集的空气质量各参数的平均浓度\n",
    "air.pivot_table(values=\"value\",index=\"location\",columns=\"parameter\",aggfunc=\"mean\",margins=True)"
   ],
   "metadata": {
    "collapsed": false,
    "pycharm": {
     "name": "#%%\n"
    }
   }
  },
  {
   "cell_type": "code",
   "execution_count": 183,
   "outputs": [
    {
     "data": {
      "text/plain": "parameter                 no2       pm25\nlocation                                \nBETR801             26.950920  23.169492\nFR04014             29.374284        NaN\nLondon Westminster  29.740050  13.443568",
      "text/html": "<div>\n<style scoped>\n    .dataframe tbody tr th:only-of-type {\n        vertical-align: middle;\n    }\n\n    .dataframe tbody tr th {\n        vertical-align: top;\n    }\n\n    .dataframe thead th {\n        text-align: right;\n    }\n</style>\n<table border=\"1\" class=\"dataframe\">\n  <thead>\n    <tr style=\"text-align: right;\">\n      <th>parameter</th>\n      <th>no2</th>\n      <th>pm25</th>\n    </tr>\n    <tr>\n      <th>location</th>\n      <th></th>\n      <th></th>\n    </tr>\n  </thead>\n  <tbody>\n    <tr>\n      <th>BETR801</th>\n      <td>26.950920</td>\n      <td>23.169492</td>\n    </tr>\n    <tr>\n      <th>FR04014</th>\n      <td>29.374284</td>\n      <td>NaN</td>\n    </tr>\n    <tr>\n      <th>London Westminster</th>\n      <td>29.740050</td>\n      <td>13.443568</td>\n    </tr>\n  </tbody>\n</table>\n</div>"
     },
     "execution_count": 183,
     "metadata": {},
     "output_type": "execute_result"
    }
   ],
   "source": [
    "# 等价写法\n",
    "new_g_air = air.groupby([\"location\",\"parameter\"])[\"value\"].mean()\n",
    "new_g_air.to_frame().pivot_table(columns=\"parameter\",values=\"value\",index=\"location\")"
   ],
   "metadata": {
    "collapsed": false,
    "pycharm": {
     "name": "#%%\n"
    }
   }
  },
  {
   "cell_type": "code",
   "execution_count": 198,
   "outputs": [
    {
     "ename": "ValueError",
     "evalue": "Index contains duplicate entries, cannot reshape",
     "output_type": "error",
     "traceback": [
      "\u001B[1;31m---------------------------------------------------------------------------\u001B[0m",
      "\u001B[1;31mValueError\u001B[0m                                Traceback (most recent call last)",
      "Cell \u001B[1;32mIn[198], line 2\u001B[0m\n\u001B[0;32m      1\u001B[0m air \u001B[38;5;241m=\u001B[39m pd\u001B[38;5;241m.\u001B[39mread_csv(\u001B[38;5;124m\"\u001B[39m\u001B[38;5;124m./assert/air_quality_long.csv\u001B[39m\u001B[38;5;124m\"\u001B[39m,index_col\u001B[38;5;241m=\u001B[39m\u001B[38;5;124m\"\u001B[39m\u001B[38;5;124mdate.utc\u001B[39m\u001B[38;5;124m\"\u001B[39m, parse_dates\u001B[38;5;241m=\u001B[39m\u001B[38;5;28;01mTrue\u001B[39;00m)\n\u001B[1;32m----> 2\u001B[0m air\u001B[38;5;241m.\u001B[39mpivot(columns\u001B[38;5;241m=\u001B[39m\u001B[38;5;124m\"\u001B[39m\u001B[38;5;124mlocation\u001B[39m\u001B[38;5;124m\"\u001B[39m, values\u001B[38;5;241m=\u001B[39m\u001B[38;5;124m\"\u001B[39m\u001B[38;5;124mvalue\u001B[39m\u001B[38;5;124m\"\u001B[39m)\u001B[38;5;241m.\u001B[39mreset_index()\n",
      "File \u001B[1;32mE:\\software\\anaconda3\\Lib\\site-packages\\pandas\\core\\frame.py:8414\u001B[0m, in \u001B[0;36mDataFrame.pivot\u001B[1;34m(self, columns, index, values)\u001B[0m\n\u001B[0;32m   8409\u001B[0m \u001B[38;5;129m@Substitution\u001B[39m(\u001B[38;5;124m\"\u001B[39m\u001B[38;5;124m\"\u001B[39m)\n\u001B[0;32m   8410\u001B[0m \u001B[38;5;129m@Appender\u001B[39m(_shared_docs[\u001B[38;5;124m\"\u001B[39m\u001B[38;5;124mpivot\u001B[39m\u001B[38;5;124m\"\u001B[39m])\n\u001B[0;32m   8411\u001B[0m \u001B[38;5;28;01mdef\u001B[39;00m \u001B[38;5;21mpivot\u001B[39m(\u001B[38;5;28mself\u001B[39m, \u001B[38;5;241m*\u001B[39m, columns, index\u001B[38;5;241m=\u001B[39mlib\u001B[38;5;241m.\u001B[39mNoDefault, values\u001B[38;5;241m=\u001B[39mlib\u001B[38;5;241m.\u001B[39mNoDefault) \u001B[38;5;241m-\u001B[39m\u001B[38;5;241m>\u001B[39m DataFrame:\n\u001B[0;32m   8412\u001B[0m     \u001B[38;5;28;01mfrom\u001B[39;00m \u001B[38;5;21;01mpandas\u001B[39;00m\u001B[38;5;21;01m.\u001B[39;00m\u001B[38;5;21;01mcore\u001B[39;00m\u001B[38;5;21;01m.\u001B[39;00m\u001B[38;5;21;01mreshape\u001B[39;00m\u001B[38;5;21;01m.\u001B[39;00m\u001B[38;5;21;01mpivot\u001B[39;00m \u001B[38;5;28;01mimport\u001B[39;00m pivot\n\u001B[1;32m-> 8414\u001B[0m     \u001B[38;5;28;01mreturn\u001B[39;00m pivot(\u001B[38;5;28mself\u001B[39m, index\u001B[38;5;241m=\u001B[39mindex, columns\u001B[38;5;241m=\u001B[39mcolumns, values\u001B[38;5;241m=\u001B[39mvalues)\n",
      "File \u001B[1;32mE:\\software\\anaconda3\\Lib\\site-packages\\pandas\\core\\reshape\\pivot.py:557\u001B[0m, in \u001B[0;36mpivot\u001B[1;34m(data, columns, index, values)\u001B[0m\n\u001B[0;32m    553\u001B[0m         indexed \u001B[38;5;241m=\u001B[39m data\u001B[38;5;241m.\u001B[39m_constructor_sliced(data[values]\u001B[38;5;241m.\u001B[39m_values, index\u001B[38;5;241m=\u001B[39mmultiindex)\n\u001B[0;32m    554\u001B[0m \u001B[38;5;66;03m# error: Argument 1 to \"unstack\" of \"DataFrame\" has incompatible type \"Union\u001B[39;00m\n\u001B[0;32m    555\u001B[0m \u001B[38;5;66;03m# [List[Any], ExtensionArray, ndarray[Any, Any], Index, Series]\"; expected\u001B[39;00m\n\u001B[0;32m    556\u001B[0m \u001B[38;5;66;03m# \"Hashable\"\u001B[39;00m\n\u001B[1;32m--> 557\u001B[0m result \u001B[38;5;241m=\u001B[39m indexed\u001B[38;5;241m.\u001B[39munstack(columns_listlike)  \u001B[38;5;66;03m# type: ignore[arg-type]\u001B[39;00m\n\u001B[0;32m    558\u001B[0m result\u001B[38;5;241m.\u001B[39mindex\u001B[38;5;241m.\u001B[39mnames \u001B[38;5;241m=\u001B[39m [\n\u001B[0;32m    559\u001B[0m     name \u001B[38;5;28;01mif\u001B[39;00m name \u001B[38;5;129;01mis\u001B[39;00m \u001B[38;5;129;01mnot\u001B[39;00m lib\u001B[38;5;241m.\u001B[39mNoDefault \u001B[38;5;28;01melse\u001B[39;00m \u001B[38;5;28;01mNone\u001B[39;00m \u001B[38;5;28;01mfor\u001B[39;00m name \u001B[38;5;129;01min\u001B[39;00m result\u001B[38;5;241m.\u001B[39mindex\u001B[38;5;241m.\u001B[39mnames\n\u001B[0;32m    560\u001B[0m ]\n\u001B[0;32m    562\u001B[0m \u001B[38;5;28;01mreturn\u001B[39;00m result\n",
      "File \u001B[1;32mE:\\software\\anaconda3\\Lib\\site-packages\\pandas\\core\\series.py:4313\u001B[0m, in \u001B[0;36mSeries.unstack\u001B[1;34m(self, level, fill_value)\u001B[0m\n\u001B[0;32m   4270\u001B[0m \u001B[38;5;250m\u001B[39m\u001B[38;5;124;03m\"\"\"\u001B[39;00m\n\u001B[0;32m   4271\u001B[0m \u001B[38;5;124;03mUnstack, also known as pivot, Series with MultiIndex to produce DataFrame.\u001B[39;00m\n\u001B[0;32m   4272\u001B[0m \n\u001B[1;32m   (...)\u001B[0m\n\u001B[0;32m   4309\u001B[0m \u001B[38;5;124;03mb    2    4\u001B[39;00m\n\u001B[0;32m   4310\u001B[0m \u001B[38;5;124;03m\"\"\"\u001B[39;00m\n\u001B[0;32m   4311\u001B[0m \u001B[38;5;28;01mfrom\u001B[39;00m \u001B[38;5;21;01mpandas\u001B[39;00m\u001B[38;5;21;01m.\u001B[39;00m\u001B[38;5;21;01mcore\u001B[39;00m\u001B[38;5;21;01m.\u001B[39;00m\u001B[38;5;21;01mreshape\u001B[39;00m\u001B[38;5;21;01m.\u001B[39;00m\u001B[38;5;21;01mreshape\u001B[39;00m \u001B[38;5;28;01mimport\u001B[39;00m unstack\n\u001B[1;32m-> 4313\u001B[0m \u001B[38;5;28;01mreturn\u001B[39;00m unstack(\u001B[38;5;28mself\u001B[39m, level, fill_value)\n",
      "File \u001B[1;32mE:\\software\\anaconda3\\Lib\\site-packages\\pandas\\core\\reshape\\reshape.py:488\u001B[0m, in \u001B[0;36munstack\u001B[1;34m(obj, level, fill_value)\u001B[0m\n\u001B[0;32m    486\u001B[0m \u001B[38;5;28;01mif\u001B[39;00m is_1d_only_ea_dtype(obj\u001B[38;5;241m.\u001B[39mdtype):\n\u001B[0;32m    487\u001B[0m     \u001B[38;5;28;01mreturn\u001B[39;00m _unstack_extension_series(obj, level, fill_value)\n\u001B[1;32m--> 488\u001B[0m unstacker \u001B[38;5;241m=\u001B[39m _Unstacker(\n\u001B[0;32m    489\u001B[0m     obj\u001B[38;5;241m.\u001B[39mindex, level\u001B[38;5;241m=\u001B[39mlevel, constructor\u001B[38;5;241m=\u001B[39mobj\u001B[38;5;241m.\u001B[39m_constructor_expanddim\n\u001B[0;32m    490\u001B[0m )\n\u001B[0;32m    491\u001B[0m \u001B[38;5;28;01mreturn\u001B[39;00m unstacker\u001B[38;5;241m.\u001B[39mget_result(\n\u001B[0;32m    492\u001B[0m     obj\u001B[38;5;241m.\u001B[39m_values, value_columns\u001B[38;5;241m=\u001B[39m\u001B[38;5;28;01mNone\u001B[39;00m, fill_value\u001B[38;5;241m=\u001B[39mfill_value\n\u001B[0;32m    493\u001B[0m )\n",
      "File \u001B[1;32mE:\\software\\anaconda3\\Lib\\site-packages\\pandas\\core\\reshape\\reshape.py:136\u001B[0m, in \u001B[0;36m_Unstacker.__init__\u001B[1;34m(self, index, level, constructor)\u001B[0m\n\u001B[0;32m    128\u001B[0m \u001B[38;5;28;01mif\u001B[39;00m num_cells \u001B[38;5;241m>\u001B[39m np\u001B[38;5;241m.\u001B[39miinfo(np\u001B[38;5;241m.\u001B[39mint32)\u001B[38;5;241m.\u001B[39mmax:\n\u001B[0;32m    129\u001B[0m     warnings\u001B[38;5;241m.\u001B[39mwarn(\n\u001B[0;32m    130\u001B[0m         \u001B[38;5;124mf\u001B[39m\u001B[38;5;124m\"\u001B[39m\u001B[38;5;124mThe following operation may generate \u001B[39m\u001B[38;5;132;01m{\u001B[39;00mnum_cells\u001B[38;5;132;01m}\u001B[39;00m\u001B[38;5;124m cells \u001B[39m\u001B[38;5;124m\"\u001B[39m\n\u001B[0;32m    131\u001B[0m         \u001B[38;5;124mf\u001B[39m\u001B[38;5;124m\"\u001B[39m\u001B[38;5;124min the resulting pandas object.\u001B[39m\u001B[38;5;124m\"\u001B[39m,\n\u001B[0;32m    132\u001B[0m         PerformanceWarning,\n\u001B[0;32m    133\u001B[0m         stacklevel\u001B[38;5;241m=\u001B[39mfind_stack_level(),\n\u001B[0;32m    134\u001B[0m     )\n\u001B[1;32m--> 136\u001B[0m \u001B[38;5;28mself\u001B[39m\u001B[38;5;241m.\u001B[39m_make_selectors()\n",
      "File \u001B[1;32mE:\\software\\anaconda3\\Lib\\site-packages\\pandas\\core\\reshape\\reshape.py:188\u001B[0m, in \u001B[0;36m_Unstacker._make_selectors\u001B[1;34m(self)\u001B[0m\n\u001B[0;32m    185\u001B[0m mask\u001B[38;5;241m.\u001B[39mput(selector, \u001B[38;5;28;01mTrue\u001B[39;00m)\n\u001B[0;32m    187\u001B[0m \u001B[38;5;28;01mif\u001B[39;00m mask\u001B[38;5;241m.\u001B[39msum() \u001B[38;5;241m<\u001B[39m \u001B[38;5;28mlen\u001B[39m(\u001B[38;5;28mself\u001B[39m\u001B[38;5;241m.\u001B[39mindex):\n\u001B[1;32m--> 188\u001B[0m     \u001B[38;5;28;01mraise\u001B[39;00m \u001B[38;5;167;01mValueError\u001B[39;00m(\u001B[38;5;124m\"\u001B[39m\u001B[38;5;124mIndex contains duplicate entries, cannot reshape\u001B[39m\u001B[38;5;124m\"\u001B[39m)\n\u001B[0;32m    190\u001B[0m \u001B[38;5;28mself\u001B[39m\u001B[38;5;241m.\u001B[39mgroup_index \u001B[38;5;241m=\u001B[39m comp_index\n\u001B[0;32m    191\u001B[0m \u001B[38;5;28mself\u001B[39m\u001B[38;5;241m.\u001B[39mmask \u001B[38;5;241m=\u001B[39m mask\n",
      "\u001B[1;31mValueError\u001B[0m: Index contains duplicate entries, cannot reshape"
     ]
    }
   ],
   "source": [
    "air = pd.read_csv(\"./assert/air_quality_long.csv\",index_col=\"date.utc\", parse_dates=True)\n",
    "air.pivot(columns=\"location\", values=\"value\").reset_index()"
   ],
   "metadata": {
    "collapsed": false,
    "pycharm": {
     "name": "#%%\n"
    }
   }
  }
 ],
 "metadata": {
  "kernelspec": {
   "display_name": "Python 3",
   "language": "python",
   "name": "python3"
  },
  "language_info": {
   "codemirror_mode": {
    "name": "ipython",
    "version": 2
   },
   "file_extension": ".py",
   "mimetype": "text/x-python",
   "name": "python",
   "nbconvert_exporter": "python",
   "pygments_lexer": "ipython2",
   "version": "2.7.6"
  }
 },
 "nbformat": 4,
 "nbformat_minor": 0
}