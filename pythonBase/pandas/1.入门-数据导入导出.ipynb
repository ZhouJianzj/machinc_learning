{
 "cells": [
  {
   "cell_type": "code",
   "execution_count": 1,
   "metadata": {
    "collapsed": true
   },
   "outputs": [],
   "source": [
    "import  pandas as pd"
   ]
  },
  {
   "cell_type": "code",
   "execution_count": 2,
   "outputs": [
    {
     "data": {
      "text/plain": "   姓名  年龄 性别\n0  张三  19  男\n1  李四  34  女\n2  王五  43  男\n3  赵六  43  女",
      "text/html": "<div>\n<style scoped>\n    .dataframe tbody tr th:only-of-type {\n        vertical-align: middle;\n    }\n\n    .dataframe tbody tr th {\n        vertical-align: top;\n    }\n\n    .dataframe thead th {\n        text-align: right;\n    }\n</style>\n<table border=\"1\" class=\"dataframe\">\n  <thead>\n    <tr style=\"text-align: right;\">\n      <th></th>\n      <th>姓名</th>\n      <th>年龄</th>\n      <th>性别</th>\n    </tr>\n  </thead>\n  <tbody>\n    <tr>\n      <th>0</th>\n      <td>张三</td>\n      <td>19</td>\n      <td>男</td>\n    </tr>\n    <tr>\n      <th>1</th>\n      <td>李四</td>\n      <td>34</td>\n      <td>女</td>\n    </tr>\n    <tr>\n      <th>2</th>\n      <td>王五</td>\n      <td>43</td>\n      <td>男</td>\n    </tr>\n    <tr>\n      <th>3</th>\n      <td>赵六</td>\n      <td>43</td>\n      <td>女</td>\n    </tr>\n  </tbody>\n</table>\n</div>"
     },
     "execution_count": 2,
     "metadata": {},
     "output_type": "execute_result"
    }
   ],
   "source": [
    "#第一种方式\n",
    "table = pd.DataFrame({\n",
    "    \"姓名\":['张三',\"李四\",\"王五\",\"赵六\"],\n",
    "    \"年龄\":[19,34,43,43],\n",
    "    \"性别\":[\"男\",\"女\",\"男\",\"女\"]\n",
    "})\n",
    "\n",
    "table"
   ],
   "metadata": {
    "collapsed": false,
    "pycharm": {
     "name": "#%%\n"
    }
   }
  },
  {
   "cell_type": "code",
   "execution_count": 14,
   "outputs": [
    {
     "data": {
      "text/plain": "                   A         B         C         D\n2024-01-01  1.654637  0.095332 -2.739577  0.322249\n2024-01-02 -0.559047  2.662540  0.303572  1.009012\n2024-01-03  1.938788  0.226964 -1.819201  0.430983\n2024-01-04 -0.525892  1.517214 -0.717167  0.522481\n2024-01-05 -0.641379 -0.421147  0.101156 -0.834088\n2024-01-06 -0.077370  0.829348 -0.031586 -1.876911",
      "text/html": "<div>\n<style scoped>\n    .dataframe tbody tr th:only-of-type {\n        vertical-align: middle;\n    }\n\n    .dataframe tbody tr th {\n        vertical-align: top;\n    }\n\n    .dataframe thead th {\n        text-align: right;\n    }\n</style>\n<table border=\"1\" class=\"dataframe\">\n  <thead>\n    <tr style=\"text-align: right;\">\n      <th></th>\n      <th>A</th>\n      <th>B</th>\n      <th>C</th>\n      <th>D</th>\n    </tr>\n  </thead>\n  <tbody>\n    <tr>\n      <th>2024-01-01</th>\n      <td>1.654637</td>\n      <td>0.095332</td>\n      <td>-2.739577</td>\n      <td>0.322249</td>\n    </tr>\n    <tr>\n      <th>2024-01-02</th>\n      <td>-0.559047</td>\n      <td>2.662540</td>\n      <td>0.303572</td>\n      <td>1.009012</td>\n    </tr>\n    <tr>\n      <th>2024-01-03</th>\n      <td>1.938788</td>\n      <td>0.226964</td>\n      <td>-1.819201</td>\n      <td>0.430983</td>\n    </tr>\n    <tr>\n      <th>2024-01-04</th>\n      <td>-0.525892</td>\n      <td>1.517214</td>\n      <td>-0.717167</td>\n      <td>0.522481</td>\n    </tr>\n    <tr>\n      <th>2024-01-05</th>\n      <td>-0.641379</td>\n      <td>-0.421147</td>\n      <td>0.101156</td>\n      <td>-0.834088</td>\n    </tr>\n    <tr>\n      <th>2024-01-06</th>\n      <td>-0.077370</td>\n      <td>0.829348</td>\n      <td>-0.031586</td>\n      <td>-1.876911</td>\n    </tr>\n  </tbody>\n</table>\n</div>"
     },
     "execution_count": 14,
     "metadata": {},
     "output_type": "execute_result"
    }
   ],
   "source": [
    "# 第二种方式使用\n",
    "import numpy as np\n",
    "pd.DataFrame(data=np.random.randn(6,4),index=pd.date_range(\"2024-1-1\",periods=6),columns=[\"A\",\"B\",\"C\",\"D\"])"
   ],
   "metadata": {
    "collapsed": false,
    "pycharm": {
     "name": "#%%\n"
    }
   }
  },
  {
   "cell_type": "code",
   "execution_count": 3,
   "outputs": [
    {
     "data": {
      "text/plain": "0    张三\n1    李四\n2    王五\n3    赵六\nName: 姓名, dtype: object"
     },
     "execution_count": 3,
     "metadata": {},
     "output_type": "execute_result"
    }
   ],
   "source": [
    "# 查询列\n",
    "table[\"姓名\"]"
   ],
   "metadata": {
    "collapsed": false,
    "pycharm": {
     "name": "#%%\n"
    }
   }
  },
  {
   "cell_type": "code",
   "execution_count": 4,
   "outputs": [
    {
     "data": {
      "text/plain": "0    11\n1    12\n2    13\n3    14\nName: testColumn, dtype: object"
     },
     "execution_count": 4,
     "metadata": {},
     "output_type": "execute_result"
    }
   ],
   "source": [
    "# 创建series\n",
    "test_series = pd.Series([\"11\",\"12\",\"13\",\"14\"],name=\"testColumn\")\n",
    "test_series"
   ],
   "metadata": {
    "collapsed": false,
    "pycharm": {
     "name": "#%%\n"
    }
   }
  },
  {
   "cell_type": "code",
   "execution_count": 5,
   "outputs": [
    {
     "data": {
      "text/plain": "'14'"
     },
     "execution_count": 5,
     "metadata": {},
     "output_type": "execute_result"
    }
   ],
   "source": [
    "# 查询age最大的用户\n",
    "# DataFrom max\n",
    "max_age = table[\"年龄\"].max()\n",
    "max_age\n",
    "# Series max\n",
    "test_series.max()"
   ],
   "metadata": {
    "collapsed": false,
    "pycharm": {
     "name": "#%%\n"
    }
   }
  },
  {
   "cell_type": "code",
   "execution_count": 6,
   "outputs": [
    {
     "data": {
      "text/plain": "              年龄\ncount   4.000000\nmean   34.750000\nstd    11.324752\nmin    19.000000\n25%    30.250000\n50%    38.500000\n75%    43.000000\nmax    43.000000",
      "text/html": "<div>\n<style scoped>\n    .dataframe tbody tr th:only-of-type {\n        vertical-align: middle;\n    }\n\n    .dataframe tbody tr th {\n        vertical-align: top;\n    }\n\n    .dataframe thead th {\n        text-align: right;\n    }\n</style>\n<table border=\"1\" class=\"dataframe\">\n  <thead>\n    <tr style=\"text-align: right;\">\n      <th></th>\n      <th>年龄</th>\n    </tr>\n  </thead>\n  <tbody>\n    <tr>\n      <th>count</th>\n      <td>4.000000</td>\n    </tr>\n    <tr>\n      <th>mean</th>\n      <td>34.750000</td>\n    </tr>\n    <tr>\n      <th>std</th>\n      <td>11.324752</td>\n    </tr>\n    <tr>\n      <th>min</th>\n      <td>19.000000</td>\n    </tr>\n    <tr>\n      <th>25%</th>\n      <td>30.250000</td>\n    </tr>\n    <tr>\n      <th>50%</th>\n      <td>38.500000</td>\n    </tr>\n    <tr>\n      <th>75%</th>\n      <td>43.000000</td>\n    </tr>\n    <tr>\n      <th>max</th>\n      <td>43.000000</td>\n    </tr>\n  </tbody>\n</table>\n</div>"
     },
     "execution_count": 6,
     "metadata": {},
     "output_type": "execute_result"
    }
   ],
   "source": [
    "# 表格数值数据的快速预览\n",
    "table.describe()\n"
   ],
   "metadata": {
    "collapsed": false,
    "pycharm": {
     "name": "#%%\n"
    }
   }
  },
  {
   "cell_type": "code",
   "execution_count": 7,
   "outputs": [
    {
     "data": {
      "text/plain": "   姓名  年龄 性别\n0  张三  19  男\n1  李四  34  女\n2  王五  43  男\n3  赵六  43  女",
      "text/html": "<div>\n<style scoped>\n    .dataframe tbody tr th:only-of-type {\n        vertical-align: middle;\n    }\n\n    .dataframe tbody tr th {\n        vertical-align: top;\n    }\n\n    .dataframe thead th {\n        text-align: right;\n    }\n</style>\n<table border=\"1\" class=\"dataframe\">\n  <thead>\n    <tr style=\"text-align: right;\">\n      <th></th>\n      <th>姓名</th>\n      <th>年龄</th>\n      <th>性别</th>\n    </tr>\n  </thead>\n  <tbody>\n    <tr>\n      <th>0</th>\n      <td>张三</td>\n      <td>19</td>\n      <td>男</td>\n    </tr>\n    <tr>\n      <th>1</th>\n      <td>李四</td>\n      <td>34</td>\n      <td>女</td>\n    </tr>\n    <tr>\n      <th>2</th>\n      <td>王五</td>\n      <td>43</td>\n      <td>男</td>\n    </tr>\n    <tr>\n      <th>3</th>\n      <td>赵六</td>\n      <td>43</td>\n      <td>女</td>\n    </tr>\n  </tbody>\n</table>\n</div>"
     },
     "execution_count": 7,
     "metadata": {},
     "output_type": "execute_result"
    }
   ],
   "source": [
    "# 数据读取和写入\n",
    "execl_table = pd.read_excel(\"../数据表.xlsx\")\n",
    "execl_table"
   ],
   "metadata": {
    "collapsed": false,
    "pycharm": {
     "name": "#%%\n"
    }
   }
  },
  {
   "cell_type": "code",
   "execution_count": 8,
   "outputs": [
    {
     "data": {
      "text/plain": "   姓名  年龄 性别\n0  张三  19  男\n1  李四  34  女",
      "text/html": "<div>\n<style scoped>\n    .dataframe tbody tr th:only-of-type {\n        vertical-align: middle;\n    }\n\n    .dataframe tbody tr th {\n        vertical-align: top;\n    }\n\n    .dataframe thead th {\n        text-align: right;\n    }\n</style>\n<table border=\"1\" class=\"dataframe\">\n  <thead>\n    <tr style=\"text-align: right;\">\n      <th></th>\n      <th>姓名</th>\n      <th>年龄</th>\n      <th>性别</th>\n    </tr>\n  </thead>\n  <tbody>\n    <tr>\n      <th>0</th>\n      <td>张三</td>\n      <td>19</td>\n      <td>男</td>\n    </tr>\n    <tr>\n      <th>1</th>\n      <td>李四</td>\n      <td>34</td>\n      <td>女</td>\n    </tr>\n  </tbody>\n</table>\n</div>"
     },
     "execution_count": 8,
     "metadata": {},
     "output_type": "execute_result"
    }
   ],
   "source": [
    "#前N行数据\n",
    "execl_table.head(2)"
   ],
   "metadata": {
    "collapsed": false,
    "pycharm": {
     "name": "#%%\n"
    }
   }
  },
  {
   "cell_type": "code",
   "execution_count": 9,
   "outputs": [
    {
     "data": {
      "text/plain": "   姓名  年龄 性别\n1  李四  34  女\n2  王五  43  男\n3  赵六  43  女",
      "text/html": "<div>\n<style scoped>\n    .dataframe tbody tr th:only-of-type {\n        vertical-align: middle;\n    }\n\n    .dataframe tbody tr th {\n        vertical-align: top;\n    }\n\n    .dataframe thead th {\n        text-align: right;\n    }\n</style>\n<table border=\"1\" class=\"dataframe\">\n  <thead>\n    <tr style=\"text-align: right;\">\n      <th></th>\n      <th>姓名</th>\n      <th>年龄</th>\n      <th>性别</th>\n    </tr>\n  </thead>\n  <tbody>\n    <tr>\n      <th>1</th>\n      <td>李四</td>\n      <td>34</td>\n      <td>女</td>\n    </tr>\n    <tr>\n      <th>2</th>\n      <td>王五</td>\n      <td>43</td>\n      <td>男</td>\n    </tr>\n    <tr>\n      <th>3</th>\n      <td>赵六</td>\n      <td>43</td>\n      <td>女</td>\n    </tr>\n  </tbody>\n</table>\n</div>"
     },
     "execution_count": 9,
     "metadata": {},
     "output_type": "execute_result"
    }
   ],
   "source": [
    "#后N行数据\n",
    "execl_table.tail(3)\n"
   ],
   "metadata": {
    "collapsed": false,
    "pycharm": {
     "name": "#%%\n"
    }
   }
  },
  {
   "cell_type": "code",
   "execution_count": 10,
   "outputs": [
    {
     "data": {
      "text/plain": "姓名    object\n年龄     int64\n性别    object\ndtype: object"
     },
     "execution_count": 10,
     "metadata": {},
     "output_type": "execute_result"
    }
   ],
   "source": [
    "# 查看pd如何解析每一列数据的，也就是对应的属性类型\n",
    "execl_table.dtypes\n"
   ],
   "metadata": {
    "collapsed": false,
    "pycharm": {
     "name": "#%%\n"
    }
   }
  },
  {
   "cell_type": "code",
   "execution_count": 11,
   "outputs": [],
   "source": [
    "# 将数据转换成表格\n",
    "table.to_excel(\"数据表.xlsx\",sheet_name=\"用户数据\",index=False)\n",
    "# 等效的读取表中指定sheet"
   ],
   "metadata": {
    "collapsed": false,
    "pycharm": {
     "name": "#%%\n"
    }
   }
  },
  {
   "cell_type": "code",
   "execution_count": 12,
   "outputs": [],
   "source": [
    "table = pd.read_excel(\"数据表.xlsx\",sheet_name=\"用户数据\")"
   ],
   "metadata": {
    "collapsed": false,
    "pycharm": {
     "name": "#%%\n"
    }
   }
  },
  {
   "cell_type": "code",
   "execution_count": 13,
   "outputs": [
    {
     "name": "stdout",
     "output_type": "stream",
     "text": [
      "<class 'pandas.core.frame.DataFrame'>\n",
      "RangeIndex: 4 entries, 0 to 3\n",
      "Data columns (total 3 columns):\n",
      " #   Column  Non-Null Count  Dtype \n",
      "---  ------  --------------  ----- \n",
      " 0   姓名      4 non-null      object\n",
      " 1   年龄      4 non-null      int64 \n",
      " 2   性别      4 non-null      object\n",
      "dtypes: int64(1), object(2)\n",
      "memory usage: 228.0+ bytes\n"
     ]
    }
   ],
   "source": [
    "# 表格信息\n",
    "table.info()"
   ],
   "metadata": {
    "collapsed": false,
    "pycharm": {
     "name": "#%%\n"
    }
   }
  },
  {
   "cell_type": "code",
   "execution_count": 19,
   "outputs": [
    {
     "data": {
      "text/plain": "   姓名  年龄 性别\n0  张三  19  男\n1  李四  34  女\n2  王五  43  男\n3  赵六  43  女",
      "text/html": "<div>\n<style scoped>\n    .dataframe tbody tr th:only-of-type {\n        vertical-align: middle;\n    }\n\n    .dataframe tbody tr th {\n        vertical-align: top;\n    }\n\n    .dataframe thead th {\n        text-align: right;\n    }\n</style>\n<table border=\"1\" class=\"dataframe\">\n  <thead>\n    <tr style=\"text-align: right;\">\n      <th></th>\n      <th>姓名</th>\n      <th>年龄</th>\n      <th>性别</th>\n    </tr>\n  </thead>\n  <tbody>\n    <tr>\n      <th>0</th>\n      <td>张三</td>\n      <td>19</td>\n      <td>男</td>\n    </tr>\n    <tr>\n      <th>1</th>\n      <td>李四</td>\n      <td>34</td>\n      <td>女</td>\n    </tr>\n    <tr>\n      <th>2</th>\n      <td>王五</td>\n      <td>43</td>\n      <td>男</td>\n    </tr>\n    <tr>\n      <th>3</th>\n      <td>赵六</td>\n      <td>43</td>\n      <td>女</td>\n    </tr>\n  </tbody>\n</table>\n</div>"
     },
     "execution_count": 19,
     "metadata": {},
     "output_type": "execute_result"
    }
   ],
   "source": [
    "table"
   ],
   "metadata": {
    "collapsed": false,
    "pycharm": {
     "name": "#%%\n"
    }
   }
  },
  {
   "cell_type": "code",
   "execution_count": 20,
   "outputs": [
    {
     "data": {
      "text/plain": "     0   1   2   3\n姓名  张三  李四  王五  赵六\n年龄  19  34  43  43\n性别   男   女   男   女",
      "text/html": "<div>\n<style scoped>\n    .dataframe tbody tr th:only-of-type {\n        vertical-align: middle;\n    }\n\n    .dataframe tbody tr th {\n        vertical-align: top;\n    }\n\n    .dataframe thead th {\n        text-align: right;\n    }\n</style>\n<table border=\"1\" class=\"dataframe\">\n  <thead>\n    <tr style=\"text-align: right;\">\n      <th></th>\n      <th>0</th>\n      <th>1</th>\n      <th>2</th>\n      <th>3</th>\n    </tr>\n  </thead>\n  <tbody>\n    <tr>\n      <th>姓名</th>\n      <td>张三</td>\n      <td>李四</td>\n      <td>王五</td>\n      <td>赵六</td>\n    </tr>\n    <tr>\n      <th>年龄</th>\n      <td>19</td>\n      <td>34</td>\n      <td>43</td>\n      <td>43</td>\n    </tr>\n    <tr>\n      <th>性别</th>\n      <td>男</td>\n      <td>女</td>\n      <td>男</td>\n      <td>女</td>\n    </tr>\n  </tbody>\n</table>\n</div>"
     },
     "execution_count": 20,
     "metadata": {},
     "output_type": "execute_result"
    }
   ],
   "source": [
    "table.T"
   ],
   "metadata": {
    "collapsed": false,
    "pycharm": {
     "name": "#%%\n"
    }
   }
  },
  {
   "cell_type": "code",
   "execution_count": 21,
   "outputs": [
    {
     "data": {
      "text/plain": "array([['张三', 19, '男'],\n       ['李四', 34, '女'],\n       ['王五', 43, '男'],\n       ['赵六', 43, '女']], dtype=object)"
     },
     "execution_count": 21,
     "metadata": {},
     "output_type": "execute_result"
    }
   ],
   "source": [
    "table.to_numpy()"
   ],
   "metadata": {
    "collapsed": false,
    "pycharm": {
     "name": "#%%\n"
    }
   }
  },
  {
   "cell_type": "code",
   "execution_count": 25,
   "outputs": [
    {
     "data": {
      "text/plain": "                   A         B         C         D\n2024-01-01  1.226040  0.325219 -0.211004 -2.205367\n2024-01-02  0.109392  0.963106 -1.363906  1.316090\n2024-01-03  0.161155  0.363688  0.654913  2.294845\n2024-01-04  0.803871  2.381735  0.536450  1.117700\n2024-01-05  0.573545  0.323468  0.377707 -0.406711\n2024-01-06  0.149573  0.851077 -0.478517  0.482468",
      "text/html": "<div>\n<style scoped>\n    .dataframe tbody tr th:only-of-type {\n        vertical-align: middle;\n    }\n\n    .dataframe tbody tr th {\n        vertical-align: top;\n    }\n\n    .dataframe thead th {\n        text-align: right;\n    }\n</style>\n<table border=\"1\" class=\"dataframe\">\n  <thead>\n    <tr style=\"text-align: right;\">\n      <th></th>\n      <th>A</th>\n      <th>B</th>\n      <th>C</th>\n      <th>D</th>\n    </tr>\n  </thead>\n  <tbody>\n    <tr>\n      <th>2024-01-01</th>\n      <td>1.226040</td>\n      <td>0.325219</td>\n      <td>-0.211004</td>\n      <td>-2.205367</td>\n    </tr>\n    <tr>\n      <th>2024-01-02</th>\n      <td>0.109392</td>\n      <td>0.963106</td>\n      <td>-1.363906</td>\n      <td>1.316090</td>\n    </tr>\n    <tr>\n      <th>2024-01-03</th>\n      <td>0.161155</td>\n      <td>0.363688</td>\n      <td>0.654913</td>\n      <td>2.294845</td>\n    </tr>\n    <tr>\n      <th>2024-01-04</th>\n      <td>0.803871</td>\n      <td>2.381735</td>\n      <td>0.536450</td>\n      <td>1.117700</td>\n    </tr>\n    <tr>\n      <th>2024-01-05</th>\n      <td>0.573545</td>\n      <td>0.323468</td>\n      <td>0.377707</td>\n      <td>-0.406711</td>\n    </tr>\n    <tr>\n      <th>2024-01-06</th>\n      <td>0.149573</td>\n      <td>0.851077</td>\n      <td>-0.478517</td>\n      <td>0.482468</td>\n    </tr>\n  </tbody>\n</table>\n</div>"
     },
     "execution_count": 25,
     "metadata": {},
     "output_type": "execute_result"
    }
   ],
   "source": [
    "import numpy as np\n",
    "data = pd.DataFrame(data=np.random.randn(6,4),index=pd.date_range(\"2024-1-1\",periods=6),columns=[\"A\",\"B\",\"C\",\"D\"])\n",
    "data"
   ],
   "metadata": {
    "collapsed": false,
    "pycharm": {
     "name": "#%%\n"
    }
   }
  },
  {
   "cell_type": "code",
   "execution_count": 40,
   "outputs": [
    {
     "data": {
      "text/plain": "                   A         B         C         D\n2024-01-01  1.226040  0.325219 -0.211004 -2.205367\n2024-01-02  0.109392  0.963106 -1.363906  1.316090",
      "text/html": "<div>\n<style scoped>\n    .dataframe tbody tr th:only-of-type {\n        vertical-align: middle;\n    }\n\n    .dataframe tbody tr th {\n        vertical-align: top;\n    }\n\n    .dataframe thead th {\n        text-align: right;\n    }\n</style>\n<table border=\"1\" class=\"dataframe\">\n  <thead>\n    <tr style=\"text-align: right;\">\n      <th></th>\n      <th>A</th>\n      <th>B</th>\n      <th>C</th>\n      <th>D</th>\n    </tr>\n  </thead>\n  <tbody>\n    <tr>\n      <th>2024-01-01</th>\n      <td>1.226040</td>\n      <td>0.325219</td>\n      <td>-0.211004</td>\n      <td>-2.205367</td>\n    </tr>\n    <tr>\n      <th>2024-01-02</th>\n      <td>0.109392</td>\n      <td>0.963106</td>\n      <td>-1.363906</td>\n      <td>1.316090</td>\n    </tr>\n  </tbody>\n</table>\n</div>"
     },
     "execution_count": 40,
     "metadata": {},
     "output_type": "execute_result"
    }
   ],
   "source": [
    "data[0:2]"
   ],
   "metadata": {
    "collapsed": false,
    "pycharm": {
     "name": "#%%\n"
    }
   }
  },
  {
   "cell_type": "code",
   "execution_count": 41,
   "outputs": [
    {
     "data": {
      "text/plain": "A    0.803871\nB    2.381735\nC    0.536450\nD    1.117700\nName: 2024-01-04 00:00:00, dtype: float64"
     },
     "execution_count": 41,
     "metadata": {},
     "output_type": "execute_result"
    }
   ],
   "source": [
    "#获取指定的行\n",
    "data.iloc[3]\n",
    "\n",
    "data."
   ],
   "metadata": {
    "collapsed": false,
    "pycharm": {
     "name": "#%%\n"
    }
   }
  }
 ],
 "metadata": {
  "kernelspec": {
   "name": "pycharm-d6d2fd5a",
   "language": "python",
   "display_name": "PyCharm (pythonBase)"
  },
  "language_info": {
   "codemirror_mode": {
    "name": "ipython",
    "version": 2
   },
   "file_extension": ".py",
   "mimetype": "text/x-python",
   "name": "python",
   "nbconvert_exporter": "python",
   "pygments_lexer": "ipython2",
   "version": "2.7.6"
  }
 },
 "nbformat": 4,
 "nbformat_minor": 0
}