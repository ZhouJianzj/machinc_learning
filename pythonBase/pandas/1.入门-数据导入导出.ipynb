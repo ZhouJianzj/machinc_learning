{
 "cells": [
  {
   "cell_type": "code",
   "execution_count": 9,
   "metadata": {
    "collapsed": true
   },
   "outputs": [],
   "source": [
    "import  pandas as pd"
   ]
  },
  {
   "cell_type": "code",
   "execution_count": 10,
   "outputs": [
    {
     "data": {
      "text/plain": "   姓名  年龄 性别\n0  张三  19  男\n1  李四  34  女\n2  王五  43  男\n3  赵六  43  女",
      "text/html": "<div>\n<style scoped>\n    .dataframe tbody tr th:only-of-type {\n        vertical-align: middle;\n    }\n\n    .dataframe tbody tr th {\n        vertical-align: top;\n    }\n\n    .dataframe thead th {\n        text-align: right;\n    }\n</style>\n<table border=\"1\" class=\"dataframe\">\n  <thead>\n    <tr style=\"text-align: right;\">\n      <th></th>\n      <th>姓名</th>\n      <th>年龄</th>\n      <th>性别</th>\n    </tr>\n  </thead>\n  <tbody>\n    <tr>\n      <th>0</th>\n      <td>张三</td>\n      <td>19</td>\n      <td>男</td>\n    </tr>\n    <tr>\n      <th>1</th>\n      <td>李四</td>\n      <td>34</td>\n      <td>女</td>\n    </tr>\n    <tr>\n      <th>2</th>\n      <td>王五</td>\n      <td>43</td>\n      <td>男</td>\n    </tr>\n    <tr>\n      <th>3</th>\n      <td>赵六</td>\n      <td>43</td>\n      <td>女</td>\n    </tr>\n  </tbody>\n</table>\n</div>"
     },
     "execution_count": 10,
     "metadata": {},
     "output_type": "execute_result"
    }
   ],
   "source": [
    "table = pd.DataFrame({\n",
    "    \"姓名\":['张三',\"李四\",\"王五\",\"赵六\"],\n",
    "    \"年龄\":[19,34,43,43],\n",
    "    \"性别\":[\"男\",\"女\",\"男\",\"女\"]\n",
    "})\n",
    "\n",
    "table"
   ],
   "metadata": {
    "collapsed": false,
    "pycharm": {
     "name": "#%%\n"
    }
   }
  },
  {
   "cell_type": "code",
   "execution_count": 11,
   "outputs": [
    {
     "data": {
      "text/plain": "0    张三\n1    李四\n2    王五\n3    赵六\nName: 姓名, dtype: object"
     },
     "execution_count": 11,
     "metadata": {},
     "output_type": "execute_result"
    }
   ],
   "source": [
    "# 查询列\n",
    "table[\"姓名\"]"
   ],
   "metadata": {
    "collapsed": false,
    "pycharm": {
     "name": "#%%\n"
    }
   }
  },
  {
   "cell_type": "code",
   "execution_count": 12,
   "outputs": [
    {
     "data": {
      "text/plain": "0    11\n1    12\n2    13\n3    14\nName: testColumn, dtype: object"
     },
     "execution_count": 12,
     "metadata": {},
     "output_type": "execute_result"
    }
   ],
   "source": [
    "# 创建series\n",
    "test_series = pd.Series([\"11\",\"12\",\"13\",\"14\"],name=\"testColumn\")\n",
    "test_series"
   ],
   "metadata": {
    "collapsed": false,
    "pycharm": {
     "name": "#%%\n"
    }
   }
  },
  {
   "cell_type": "code",
   "execution_count": 13,
   "outputs": [
    {
     "data": {
      "text/plain": "'14'"
     },
     "execution_count": 13,
     "metadata": {},
     "output_type": "execute_result"
    }
   ],
   "source": [
    "# 查询age最大的用户\n",
    "# DataFrom max\n",
    "max_age = table[\"年龄\"].max()\n",
    "max_age\n",
    "# Series max\n",
    "test_series.max()"
   ],
   "metadata": {
    "collapsed": false,
    "pycharm": {
     "name": "#%%\n"
    }
   }
  },
  {
   "cell_type": "code",
   "execution_count": 14,
   "outputs": [
    {
     "data": {
      "text/plain": "              年龄\ncount   4.000000\nmean   34.750000\nstd    11.324752\nmin    19.000000\n25%    30.250000\n50%    38.500000\n75%    43.000000\nmax    43.000000",
      "text/html": "<div>\n<style scoped>\n    .dataframe tbody tr th:only-of-type {\n        vertical-align: middle;\n    }\n\n    .dataframe tbody tr th {\n        vertical-align: top;\n    }\n\n    .dataframe thead th {\n        text-align: right;\n    }\n</style>\n<table border=\"1\" class=\"dataframe\">\n  <thead>\n    <tr style=\"text-align: right;\">\n      <th></th>\n      <th>年龄</th>\n    </tr>\n  </thead>\n  <tbody>\n    <tr>\n      <th>count</th>\n      <td>4.000000</td>\n    </tr>\n    <tr>\n      <th>mean</th>\n      <td>34.750000</td>\n    </tr>\n    <tr>\n      <th>std</th>\n      <td>11.324752</td>\n    </tr>\n    <tr>\n      <th>min</th>\n      <td>19.000000</td>\n    </tr>\n    <tr>\n      <th>25%</th>\n      <td>30.250000</td>\n    </tr>\n    <tr>\n      <th>50%</th>\n      <td>38.500000</td>\n    </tr>\n    <tr>\n      <th>75%</th>\n      <td>43.000000</td>\n    </tr>\n    <tr>\n      <th>max</th>\n      <td>43.000000</td>\n    </tr>\n  </tbody>\n</table>\n</div>"
     },
     "execution_count": 14,
     "metadata": {},
     "output_type": "execute_result"
    }
   ],
   "source": [
    "# 表格数值数据的快速预览\n",
    "table.describe()\n"
   ],
   "metadata": {
    "collapsed": false,
    "pycharm": {
     "name": "#%%\n"
    }
   }
  },
  {
   "cell_type": "code",
   "execution_count": 15,
   "outputs": [
    {
     "data": {
      "text/plain": "    景区     天气      气温 旅游指数\n0   三亚     多云  27/20℃   适宜\n1  九寨沟   晴转多云  13/-2℃   适宜\n2   大理      晴   15/0℃   适宜\n3  张家界   晴转小雨   17/6℃   适宜\n4   桂林  多云转小雨  21/11℃   适宜\n5   青岛      晴   3/-4℃   一般",
      "text/html": "<div>\n<style scoped>\n    .dataframe tbody tr th:only-of-type {\n        vertical-align: middle;\n    }\n\n    .dataframe tbody tr th {\n        vertical-align: top;\n    }\n\n    .dataframe thead th {\n        text-align: right;\n    }\n</style>\n<table border=\"1\" class=\"dataframe\">\n  <thead>\n    <tr style=\"text-align: right;\">\n      <th></th>\n      <th>景区</th>\n      <th>天气</th>\n      <th>气温</th>\n      <th>旅游指数</th>\n    </tr>\n  </thead>\n  <tbody>\n    <tr>\n      <th>0</th>\n      <td>三亚</td>\n      <td>多云</td>\n      <td>27/20℃</td>\n      <td>适宜</td>\n    </tr>\n    <tr>\n      <th>1</th>\n      <td>九寨沟</td>\n      <td>晴转多云</td>\n      <td>13/-2℃</td>\n      <td>适宜</td>\n    </tr>\n    <tr>\n      <th>2</th>\n      <td>大理</td>\n      <td>晴</td>\n      <td>15/0℃</td>\n      <td>适宜</td>\n    </tr>\n    <tr>\n      <th>3</th>\n      <td>张家界</td>\n      <td>晴转小雨</td>\n      <td>17/6℃</td>\n      <td>适宜</td>\n    </tr>\n    <tr>\n      <th>4</th>\n      <td>桂林</td>\n      <td>多云转小雨</td>\n      <td>21/11℃</td>\n      <td>适宜</td>\n    </tr>\n    <tr>\n      <th>5</th>\n      <td>青岛</td>\n      <td>晴</td>\n      <td>3/-4℃</td>\n      <td>一般</td>\n    </tr>\n  </tbody>\n</table>\n</div>"
     },
     "execution_count": 15,
     "metadata": {},
     "output_type": "execute_result"
    }
   ],
   "source": [
    "# 数据读取和写入\n",
    "execl_table = pd.read_excel(\"../数据表.xlsx\")\n",
    "execl_table"
   ],
   "metadata": {
    "collapsed": false,
    "pycharm": {
     "name": "#%%\n"
    }
   }
  },
  {
   "cell_type": "code",
   "execution_count": 16,
   "outputs": [
    {
     "data": {
      "text/plain": "    景区    天气      气温 旅游指数\n0   三亚    多云  27/20℃   适宜\n1  九寨沟  晴转多云  13/-2℃   适宜",
      "text/html": "<div>\n<style scoped>\n    .dataframe tbody tr th:only-of-type {\n        vertical-align: middle;\n    }\n\n    .dataframe tbody tr th {\n        vertical-align: top;\n    }\n\n    .dataframe thead th {\n        text-align: right;\n    }\n</style>\n<table border=\"1\" class=\"dataframe\">\n  <thead>\n    <tr style=\"text-align: right;\">\n      <th></th>\n      <th>景区</th>\n      <th>天气</th>\n      <th>气温</th>\n      <th>旅游指数</th>\n    </tr>\n  </thead>\n  <tbody>\n    <tr>\n      <th>0</th>\n      <td>三亚</td>\n      <td>多云</td>\n      <td>27/20℃</td>\n      <td>适宜</td>\n    </tr>\n    <tr>\n      <th>1</th>\n      <td>九寨沟</td>\n      <td>晴转多云</td>\n      <td>13/-2℃</td>\n      <td>适宜</td>\n    </tr>\n  </tbody>\n</table>\n</div>"
     },
     "execution_count": 16,
     "metadata": {},
     "output_type": "execute_result"
    }
   ],
   "source": [
    "#前N行数据\n",
    "execl_table.head(2)"
   ],
   "metadata": {
    "collapsed": false,
    "pycharm": {
     "name": "#%%\n"
    }
   }
  },
  {
   "cell_type": "code",
   "execution_count": 17,
   "outputs": [
    {
     "data": {
      "text/plain": "    景区     天气      气温 旅游指数\n3  张家界   晴转小雨   17/6℃   适宜\n4   桂林  多云转小雨  21/11℃   适宜\n5   青岛      晴   3/-4℃   一般",
      "text/html": "<div>\n<style scoped>\n    .dataframe tbody tr th:only-of-type {\n        vertical-align: middle;\n    }\n\n    .dataframe tbody tr th {\n        vertical-align: top;\n    }\n\n    .dataframe thead th {\n        text-align: right;\n    }\n</style>\n<table border=\"1\" class=\"dataframe\">\n  <thead>\n    <tr style=\"text-align: right;\">\n      <th></th>\n      <th>景区</th>\n      <th>天气</th>\n      <th>气温</th>\n      <th>旅游指数</th>\n    </tr>\n  </thead>\n  <tbody>\n    <tr>\n      <th>3</th>\n      <td>张家界</td>\n      <td>晴转小雨</td>\n      <td>17/6℃</td>\n      <td>适宜</td>\n    </tr>\n    <tr>\n      <th>4</th>\n      <td>桂林</td>\n      <td>多云转小雨</td>\n      <td>21/11℃</td>\n      <td>适宜</td>\n    </tr>\n    <tr>\n      <th>5</th>\n      <td>青岛</td>\n      <td>晴</td>\n      <td>3/-4℃</td>\n      <td>一般</td>\n    </tr>\n  </tbody>\n</table>\n</div>"
     },
     "execution_count": 17,
     "metadata": {},
     "output_type": "execute_result"
    }
   ],
   "source": [
    "#后N行数据\n",
    "execl_table.tail(3)\n"
   ],
   "metadata": {
    "collapsed": false,
    "pycharm": {
     "name": "#%%\n"
    }
   }
  },
  {
   "cell_type": "code",
   "execution_count": 18,
   "outputs": [
    {
     "data": {
      "text/plain": "景区      object\n天气      object\n气温      object\n旅游指数    object\ndtype: object"
     },
     "execution_count": 18,
     "metadata": {},
     "output_type": "execute_result"
    }
   ],
   "source": [
    "# 查看pd如何解析每一列数据的，也就是对应的属性类型\n",
    "execl_table.dtypes\n"
   ],
   "metadata": {
    "collapsed": false,
    "pycharm": {
     "name": "#%%\n"
    }
   }
  },
  {
   "cell_type": "code",
   "execution_count": 20,
   "outputs": [],
   "source": [
    "# 将数据转换成表格\n",
    "table.to_excel(\"数据表.xlsx\",sheet_name=\"用户数据\",index=False)\n",
    "# 等效的读取表中指定sheet"
   ],
   "metadata": {
    "collapsed": false,
    "pycharm": {
     "name": "#%%\n"
    }
   }
  },
  {
   "cell_type": "code",
   "execution_count": 24,
   "outputs": [],
   "source": [
    "table = pd.read_excel(\"数据表.xlsx\",sheet_name=\"用户数据\")"
   ],
   "metadata": {
    "collapsed": false,
    "pycharm": {
     "name": "#%%\n"
    }
   }
  },
  {
   "cell_type": "code",
   "execution_count": 25,
   "outputs": [
    {
     "name": "stdout",
     "output_type": "stream",
     "text": [
      "<class 'pandas.core.frame.DataFrame'>\n",
      "RangeIndex: 4 entries, 0 to 3\n",
      "Data columns (total 3 columns):\n",
      " #   Column  Non-Null Count  Dtype  \n",
      "---  ------  --------------  -----  \n",
      " 0   姓名      4 non-null      object \n",
      " 1   年龄      2 non-null      float64\n",
      " 2   性别      4 non-null      object \n",
      "dtypes: float64(1), object(2)\n",
      "memory usage: 228.0+ bytes\n"
     ]
    }
   ],
   "source": [
    "# 表格信息\n",
    "table.info()\n"
   ],
   "metadata": {
    "collapsed": false,
    "pycharm": {
     "name": "#%%\n"
    }
   }
  }
 ],
 "metadata": {
  "kernelspec": {
   "name": "pycharm-d6d2fd5a",
   "language": "python",
   "display_name": "PyCharm (pythonBase)"
  },
  "language_info": {
   "codemirror_mode": {
    "name": "ipython",
    "version": 2
   },
   "file_extension": ".py",
   "mimetype": "text/x-python",
   "name": "python",
   "nbconvert_exporter": "python",
   "pygments_lexer": "ipython2",
   "version": "2.7.6"
  }
 },
 "nbformat": 4,
 "nbformat_minor": 0
}